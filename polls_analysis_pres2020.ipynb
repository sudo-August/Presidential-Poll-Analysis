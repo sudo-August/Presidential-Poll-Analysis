{
 "cells": [
  {
   "cell_type": "markdown",
   "metadata": {},
   "source": [
    "# Presidential Poll Analysis\n",
    "### By August Money"
   ]
  },
  {
   "cell_type": "markdown",
   "metadata": {},
   "source": [
    "## Overview\n",
    "This project is just to create a tool for analyzing polling data being pulled from FiveThirtyEight"
   ]
  },
  {
   "cell_type": "markdown",
   "metadata": {},
   "source": [
    "## Key States\n",
    "- Arizona\n",
    "- Colorado\n",
    "- Florida\n",
    "- Georgia\n",
    "- Michigan\n",
    "- Minnesota\n",
    "- Nebraska CD-2\n",
    "- New Hampshire\n",
    "- Nevada\n",
    "- North Carolina\n",
    "- Ohio\n",
    "- Pennsylvania\n",
    "- Texas\n",
    "- Wisconsin"
   ]
  },
  {
   "cell_type": "code",
   "execution_count": 1,
   "metadata": {},
   "outputs": [],
   "source": [
    "import pandas as pd\n",
    "from pathlib import Path\n",
    "import plotly.express as px\n",
    "import plotly.graph_objects as go"
   ]
  },
  {
   "cell_type": "code",
   "execution_count": 2,
   "metadata": {},
   "outputs": [],
   "source": [
    "csv_path = Path(\"./data/polls/president_polls.csv\")"
   ]
  },
  {
   "cell_type": "code",
   "execution_count": 3,
   "metadata": {},
   "outputs": [],
   "source": [
    "pp_df = pd.read_csv(csv_path)"
   ]
  },
  {
   "cell_type": "markdown",
   "metadata": {},
   "source": [
    "# Total Number of Polls"
   ]
  },
  {
   "cell_type": "code",
   "execution_count": 4,
   "metadata": {},
   "outputs": [
    {
     "data": {
      "text/plain": [
       "candidate_name\n",
       "Alexandria Ocasio-Cortez       1\n",
       "Alyson Kennedy                 1\n",
       "Amy Klobuchar                 76\n",
       "Andrew Cuomo                   1\n",
       "Andrew Yang                   16\n",
       "Barack Obama                   1\n",
       "Bernard Sanders              435\n",
       "Beto O'Rourke                 59\n",
       "Bill de Blasio                 5\n",
       "Brock Pierce                   5\n",
       "Charles E. Schumer             1\n",
       "Cory A. Booker                34\n",
       "Don Blankenship               15\n",
       "Donald Trump                6465\n",
       "Elizabeth Warren             348\n",
       "Eric Swalwell                  3\n",
       "Gloria La Riva                 2\n",
       "Hillary Rodham Clinton         4\n",
       "Howard Schultz                30\n",
       "Howie Hawkins                301\n",
       "Jacob Hornberger               2\n",
       "Jade Simmons                   3\n",
       "Jay Robert Inslee              6\n",
       "Jo Jorgensen                 415\n",
       "John Hickenlooper              6\n",
       "John K. Delaney                7\n",
       "Joseph R. Biden Jr.         4952\n",
       "Julián Castro                 17\n",
       "Justin Amash                  13\n",
       "Kamala D. Harris             158\n",
       "Kanye West                    53\n",
       "Kirsten E. Gillibrand         11\n",
       "Marianne Williamson            8\n",
       "Megan Rapinoe                  1\n",
       "Michael Bloomberg            103\n",
       "Michael F. Bennet              3\n",
       "Michelle Obama                 5\n",
       "Mike Gravel                    4\n",
       "Mike Pence                    57\n",
       "Nancy Pelosi                   2\n",
       "Nimrata R. Haley              20\n",
       "Oprah Winfrey                  3\n",
       "Pete Buttigieg               233\n",
       "Roque De La Fuente             8\n",
       "Seth Moulton                   4\n",
       "Sherrod Brown                  3\n",
       "Steve Bullock                  4\n",
       "Tim Ryan                       2\n",
       "Tom Steyer                    11\n",
       "Tulsi Gabbard                 10\n",
       "Wayne Messam                   5\n",
       "dtype: int64"
      ]
     },
     "execution_count": 4,
     "metadata": {},
     "output_type": "execute_result"
    }
   ],
   "source": [
    "total_polls = pp_df.groupby(\"candidate_name\").size()\n",
    "total_polls"
   ]
  },
  {
   "cell_type": "markdown",
   "metadata": {},
   "source": [
    "# Donald Trump Polls"
   ]
  },
  {
   "cell_type": "code",
   "execution_count": 5,
   "metadata": {},
   "outputs": [
    {
     "data": {
      "text/html": [
       "<div>\n",
       "<style scoped>\n",
       "    .dataframe tbody tr th:only-of-type {\n",
       "        vertical-align: middle;\n",
       "    }\n",
       "\n",
       "    .dataframe tbody tr th {\n",
       "        vertical-align: top;\n",
       "    }\n",
       "\n",
       "    .dataframe thead th {\n",
       "        text-align: right;\n",
       "    }\n",
       "</style>\n",
       "<table border=\"1\" class=\"dataframe\">\n",
       "  <thead>\n",
       "    <tr style=\"text-align: right;\">\n",
       "      <th></th>\n",
       "      <th>cycle</th>\n",
       "      <th>state</th>\n",
       "      <th>pollster</th>\n",
       "      <th>sponsors</th>\n",
       "      <th>display_name</th>\n",
       "      <th>pollster_rating_id</th>\n",
       "      <th>pollster_rating_name</th>\n",
       "      <th>fte_grade</th>\n",
       "      <th>sample_size</th>\n",
       "      <th>population</th>\n",
       "      <th>population_full</th>\n",
       "      <th>methodology</th>\n",
       "      <th>start_date</th>\n",
       "      <th>end_date</th>\n",
       "      <th>stage</th>\n",
       "      <th>race_id</th>\n",
       "      <th>answer</th>\n",
       "      <th>candidate_name</th>\n",
       "      <th>candidate_party</th>\n",
       "      <th>pct</th>\n",
       "    </tr>\n",
       "  </thead>\n",
       "  <tbody>\n",
       "    <tr>\n",
       "      <th>0</th>\n",
       "      <td>2020.0</td>\n",
       "      <td>South Carolina</td>\n",
       "      <td>Starboard Communications</td>\n",
       "      <td>NaN</td>\n",
       "      <td>Starboard Communications</td>\n",
       "      <td>316.0</td>\n",
       "      <td>Starboard Communications</td>\n",
       "      <td>B/C</td>\n",
       "      <td>800.0</td>\n",
       "      <td>lv</td>\n",
       "      <td>lv</td>\n",
       "      <td>NaN</td>\n",
       "      <td>10/26/20</td>\n",
       "      <td>10/26/20</td>\n",
       "      <td>general</td>\n",
       "      <td>6251.0</td>\n",
       "      <td>Trump</td>\n",
       "      <td>Donald Trump</td>\n",
       "      <td>REP</td>\n",
       "      <td>51.2</td>\n",
       "    </tr>\n",
       "    <tr>\n",
       "      <th>1</th>\n",
       "      <td>2020.0</td>\n",
       "      <td>Pennsylvania</td>\n",
       "      <td>Civiqs</td>\n",
       "      <td>Daily Kos</td>\n",
       "      <td>Civiqs</td>\n",
       "      <td>471.0</td>\n",
       "      <td>Civiqs</td>\n",
       "      <td>B/C</td>\n",
       "      <td>1145.0</td>\n",
       "      <td>lv</td>\n",
       "      <td>lv</td>\n",
       "      <td>Online</td>\n",
       "      <td>10/23/20</td>\n",
       "      <td>10/26/20</td>\n",
       "      <td>general</td>\n",
       "      <td>6249.0</td>\n",
       "      <td>Trump</td>\n",
       "      <td>Donald Trump</td>\n",
       "      <td>REP</td>\n",
       "      <td>45.0</td>\n",
       "    </tr>\n",
       "    <tr>\n",
       "      <th>2</th>\n",
       "      <td>2020.0</td>\n",
       "      <td>Georgia</td>\n",
       "      <td>Civiqs</td>\n",
       "      <td>Daily Kos</td>\n",
       "      <td>Civiqs</td>\n",
       "      <td>471.0</td>\n",
       "      <td>Civiqs</td>\n",
       "      <td>B/C</td>\n",
       "      <td>1041.0</td>\n",
       "      <td>lv</td>\n",
       "      <td>lv</td>\n",
       "      <td>Online</td>\n",
       "      <td>10/23/20</td>\n",
       "      <td>10/26/20</td>\n",
       "      <td>general</td>\n",
       "      <td>6221.0</td>\n",
       "      <td>Trump</td>\n",
       "      <td>Donald Trump</td>\n",
       "      <td>REP</td>\n",
       "      <td>46.0</td>\n",
       "    </tr>\n",
       "    <tr>\n",
       "      <th>3</th>\n",
       "      <td>2020.0</td>\n",
       "      <td>Mississippi</td>\n",
       "      <td>Civiqs</td>\n",
       "      <td>Daily Kos</td>\n",
       "      <td>Civiqs</td>\n",
       "      <td>471.0</td>\n",
       "      <td>Civiqs</td>\n",
       "      <td>B/C</td>\n",
       "      <td>507.0</td>\n",
       "      <td>lv</td>\n",
       "      <td>lv</td>\n",
       "      <td>Online</td>\n",
       "      <td>10/23/20</td>\n",
       "      <td>10/26/20</td>\n",
       "      <td>general</td>\n",
       "      <td>6236.0</td>\n",
       "      <td>Trump</td>\n",
       "      <td>Donald Trump</td>\n",
       "      <td>REP</td>\n",
       "      <td>55.0</td>\n",
       "    </tr>\n",
       "    <tr>\n",
       "      <th>4</th>\n",
       "      <td>2020.0</td>\n",
       "      <td>NaN</td>\n",
       "      <td>IBD/TIPP</td>\n",
       "      <td>NaN</td>\n",
       "      <td>IBD/TIPP</td>\n",
       "      <td>144.0</td>\n",
       "      <td>IBD/TIPP</td>\n",
       "      <td>A/B</td>\n",
       "      <td>970.0</td>\n",
       "      <td>lv</td>\n",
       "      <td>lv</td>\n",
       "      <td>Live Phone/Online</td>\n",
       "      <td>10/22/20</td>\n",
       "      <td>10/26/20</td>\n",
       "      <td>general</td>\n",
       "      <td>6210.0</td>\n",
       "      <td>Trump</td>\n",
       "      <td>Donald Trump</td>\n",
       "      <td>REP</td>\n",
       "      <td>46.3</td>\n",
       "    </tr>\n",
       "    <tr>\n",
       "      <th>5</th>\n",
       "      <td>2020.0</td>\n",
       "      <td>NaN</td>\n",
       "      <td>IBD/TIPP</td>\n",
       "      <td>NaN</td>\n",
       "      <td>IBD/TIPP</td>\n",
       "      <td>144.0</td>\n",
       "      <td>IBD/TIPP</td>\n",
       "      <td>A/B</td>\n",
       "      <td>970.0</td>\n",
       "      <td>lv</td>\n",
       "      <td>lv</td>\n",
       "      <td>Live Phone/Online</td>\n",
       "      <td>10/22/20</td>\n",
       "      <td>10/26/20</td>\n",
       "      <td>general</td>\n",
       "      <td>6210.0</td>\n",
       "      <td>Trump</td>\n",
       "      <td>Donald Trump</td>\n",
       "      <td>REP</td>\n",
       "      <td>45.8</td>\n",
       "    </tr>\n",
       "    <tr>\n",
       "      <th>6</th>\n",
       "      <td>2020.0</td>\n",
       "      <td>Wisconsin</td>\n",
       "      <td>Ipsos</td>\n",
       "      <td>Reuters</td>\n",
       "      <td>Ipsos</td>\n",
       "      <td>154.0</td>\n",
       "      <td>Ipsos</td>\n",
       "      <td>B-</td>\n",
       "      <td>664.0</td>\n",
       "      <td>lv</td>\n",
       "      <td>lv</td>\n",
       "      <td>Online</td>\n",
       "      <td>10/20/20</td>\n",
       "      <td>10/26/20</td>\n",
       "      <td>general</td>\n",
       "      <td>6259.0</td>\n",
       "      <td>Trump</td>\n",
       "      <td>Donald Trump</td>\n",
       "      <td>REP</td>\n",
       "      <td>44.0</td>\n",
       "    </tr>\n",
       "    <tr>\n",
       "      <th>7</th>\n",
       "      <td>2020.0</td>\n",
       "      <td>Wisconsin</td>\n",
       "      <td>Ipsos</td>\n",
       "      <td>Reuters</td>\n",
       "      <td>Ipsos</td>\n",
       "      <td>154.0</td>\n",
       "      <td>Ipsos</td>\n",
       "      <td>B-</td>\n",
       "      <td>664.0</td>\n",
       "      <td>lv</td>\n",
       "      <td>lv</td>\n",
       "      <td>Online</td>\n",
       "      <td>10/20/20</td>\n",
       "      <td>10/26/20</td>\n",
       "      <td>general</td>\n",
       "      <td>6259.0</td>\n",
       "      <td>Trump</td>\n",
       "      <td>Donald Trump</td>\n",
       "      <td>REP</td>\n",
       "      <td>44.0</td>\n",
       "    </tr>\n",
       "    <tr>\n",
       "      <th>8</th>\n",
       "      <td>2020.0</td>\n",
       "      <td>Pennsylvania</td>\n",
       "      <td>Ipsos</td>\n",
       "      <td>Reuters</td>\n",
       "      <td>Ipsos</td>\n",
       "      <td>154.0</td>\n",
       "      <td>Ipsos</td>\n",
       "      <td>B-</td>\n",
       "      <td>655.0</td>\n",
       "      <td>lv</td>\n",
       "      <td>lv</td>\n",
       "      <td>Online</td>\n",
       "      <td>10/20/20</td>\n",
       "      <td>10/26/20</td>\n",
       "      <td>general</td>\n",
       "      <td>6249.0</td>\n",
       "      <td>Trump</td>\n",
       "      <td>Donald Trump</td>\n",
       "      <td>REP</td>\n",
       "      <td>45.0</td>\n",
       "    </tr>\n",
       "    <tr>\n",
       "      <th>9</th>\n",
       "      <td>2020.0</td>\n",
       "      <td>Pennsylvania</td>\n",
       "      <td>Ipsos</td>\n",
       "      <td>Reuters</td>\n",
       "      <td>Ipsos</td>\n",
       "      <td>154.0</td>\n",
       "      <td>Ipsos</td>\n",
       "      <td>B-</td>\n",
       "      <td>655.0</td>\n",
       "      <td>lv</td>\n",
       "      <td>lv</td>\n",
       "      <td>Online</td>\n",
       "      <td>10/20/20</td>\n",
       "      <td>10/26/20</td>\n",
       "      <td>general</td>\n",
       "      <td>6249.0</td>\n",
       "      <td>Trump</td>\n",
       "      <td>Donald Trump</td>\n",
       "      <td>REP</td>\n",
       "      <td>44.0</td>\n",
       "    </tr>\n",
       "  </tbody>\n",
       "</table>\n",
       "</div>"
      ],
      "text/plain": [
       "    cycle           state                  pollster   sponsors  \\\n",
       "0  2020.0  South Carolina  Starboard Communications        NaN   \n",
       "1  2020.0    Pennsylvania                    Civiqs  Daily Kos   \n",
       "2  2020.0         Georgia                    Civiqs  Daily Kos   \n",
       "3  2020.0     Mississippi                    Civiqs  Daily Kos   \n",
       "4  2020.0             NaN                  IBD/TIPP        NaN   \n",
       "5  2020.0             NaN                  IBD/TIPP        NaN   \n",
       "6  2020.0       Wisconsin                     Ipsos    Reuters   \n",
       "7  2020.0       Wisconsin                     Ipsos    Reuters   \n",
       "8  2020.0    Pennsylvania                     Ipsos    Reuters   \n",
       "9  2020.0    Pennsylvania                     Ipsos    Reuters   \n",
       "\n",
       "               display_name  pollster_rating_id      pollster_rating_name  \\\n",
       "0  Starboard Communications               316.0  Starboard Communications   \n",
       "1                    Civiqs               471.0                    Civiqs   \n",
       "2                    Civiqs               471.0                    Civiqs   \n",
       "3                    Civiqs               471.0                    Civiqs   \n",
       "4                  IBD/TIPP               144.0                  IBD/TIPP   \n",
       "5                  IBD/TIPP               144.0                  IBD/TIPP   \n",
       "6                     Ipsos               154.0                     Ipsos   \n",
       "7                     Ipsos               154.0                     Ipsos   \n",
       "8                     Ipsos               154.0                     Ipsos   \n",
       "9                     Ipsos               154.0                     Ipsos   \n",
       "\n",
       "  fte_grade  sample_size population population_full        methodology  \\\n",
       "0       B/C        800.0         lv              lv                NaN   \n",
       "1       B/C       1145.0         lv              lv             Online   \n",
       "2       B/C       1041.0         lv              lv             Online   \n",
       "3       B/C        507.0         lv              lv             Online   \n",
       "4       A/B        970.0         lv              lv  Live Phone/Online   \n",
       "5       A/B        970.0         lv              lv  Live Phone/Online   \n",
       "6        B-        664.0         lv              lv             Online   \n",
       "7        B-        664.0         lv              lv             Online   \n",
       "8        B-        655.0         lv              lv             Online   \n",
       "9        B-        655.0         lv              lv             Online   \n",
       "\n",
       "  start_date  end_date    stage  race_id answer candidate_name  \\\n",
       "0   10/26/20  10/26/20  general   6251.0  Trump   Donald Trump   \n",
       "1   10/23/20  10/26/20  general   6249.0  Trump   Donald Trump   \n",
       "2   10/23/20  10/26/20  general   6221.0  Trump   Donald Trump   \n",
       "3   10/23/20  10/26/20  general   6236.0  Trump   Donald Trump   \n",
       "4   10/22/20  10/26/20  general   6210.0  Trump   Donald Trump   \n",
       "5   10/22/20  10/26/20  general   6210.0  Trump   Donald Trump   \n",
       "6   10/20/20  10/26/20  general   6259.0  Trump   Donald Trump   \n",
       "7   10/20/20  10/26/20  general   6259.0  Trump   Donald Trump   \n",
       "8   10/20/20  10/26/20  general   6249.0  Trump   Donald Trump   \n",
       "9   10/20/20  10/26/20  general   6249.0  Trump   Donald Trump   \n",
       "\n",
       "  candidate_party   pct  \n",
       "0             REP  51.2  \n",
       "1             REP  45.0  \n",
       "2             REP  46.0  \n",
       "3             REP  55.0  \n",
       "4             REP  46.3  \n",
       "5             REP  45.8  \n",
       "6             REP  44.0  \n",
       "7             REP  44.0  \n",
       "8             REP  45.0  \n",
       "9             REP  44.0  "
      ]
     },
     "execution_count": 5,
     "metadata": {},
     "output_type": "execute_result"
    }
   ],
   "source": [
    "djt = pp_df.where(pp_df[\"candidate_name\"]==\"Donald Trump\")\n",
    "djt.dropna(how='all', inplace=True)\n",
    "djt.reset_index(inplace=True)\n",
    "djt.drop([\"index\", \"question_id\", \"pollster_id\", \"poll_id\", \"sponsor_ids\", \"notes\", \"url\", \"candidate_id\", \"tracking\", \"nationwide_batch\", \"ranked_choice_reallocated\", \"sponsor_candidate\", \"internal\", \"partisan\", \"election_date\", \"seat_name\", \"seat_number\", \"office_type\", \"created_at\"], axis=1, inplace=True)\n",
    "djt.head(10)"
   ]
  },
  {
   "cell_type": "code",
   "execution_count": 6,
   "metadata": {},
   "outputs": [
    {
     "data": {
      "text/plain": [
       "state\n",
       "Alabama                  49\n",
       "Alaska                   49\n",
       "Arizona                 184\n",
       "Arkansas                 38\n",
       "California              125\n",
       "Colorado                 69\n",
       "Connecticut              51\n",
       "Delaware                 43\n",
       "District of Columbia     36\n",
       "Florida                 194\n",
       "Georgia                 127\n",
       "Hawaii                   38\n",
       "Idaho                    37\n",
       "Illinois                 37\n",
       "Indiana                  42\n",
       "Iowa                    116\n",
       "Kansas                   52\n",
       "Kentucky                 54\n",
       "Louisiana                40\n",
       "Maine                    69\n",
       "Maine CD-1               16\n",
       "Maine CD-2               18\n",
       "Maryland                 50\n",
       "Massachusetts            46\n",
       "Michigan                242\n",
       "Minnesota                75\n",
       "Mississippi              43\n",
       "Missouri                 61\n",
       "Montana                  64\n",
       "Nebraska                 36\n",
       "Nebraska CD-1             1\n",
       "Nebraska CD-2             6\n",
       "Nevada                   76\n",
       "New Hampshire           100\n",
       "New Jersey               60\n",
       "New Mexico               45\n",
       "New York                 51\n",
       "North Carolina          226\n",
       "North Dakota             54\n",
       "Ohio                    101\n",
       "Oklahoma                 47\n",
       "Oregon                   38\n",
       "Pennsylvania            233\n",
       "Rhode Island             36\n",
       "South Carolina           79\n",
       "South Dakota             37\n",
       "Tennessee                43\n",
       "Texas                   214\n",
       "Utah                     63\n",
       "Vermont                  37\n",
       "Virginia                 91\n",
       "Washington               54\n",
       "West Virginia            41\n",
       "Wisconsin               395\n",
       "Wyoming                  36\n",
       "dtype: int64"
      ]
     },
     "execution_count": 6,
     "metadata": {},
     "output_type": "execute_result"
    }
   ],
   "source": [
    "djt.groupby(\"state\").size()"
   ]
  },
  {
   "cell_type": "code",
   "execution_count": 7,
   "metadata": {},
   "outputs": [
    {
     "data": {
      "text/plain": [
       "array(['South Carolina', 'Pennsylvania', 'Georgia', 'Mississippi', nan,\n",
       "       'Wisconsin', 'Florida', 'Texas', 'Wyoming', 'West Virginia',\n",
       "       'Vermont', 'Virginia', 'South Dakota', 'Oregon', 'Oklahoma',\n",
       "       'Nevada', 'New Mexico', 'New Hampshire', 'North Dakota', 'Montana',\n",
       "       'Missouri', 'Michigan', 'Maine', 'Maryland', 'Massachusetts',\n",
       "       'Louisiana', 'Kansas', 'Indiana', 'Idaho', 'Iowa', 'Hawaii',\n",
       "       'Delaware', 'Connecticut', 'Colorado', 'Arkansas', 'Alaska',\n",
       "       'Washington', 'Utah', 'Tennessee', 'Rhode Island', 'Ohio',\n",
       "       'New York', 'New Jersey', 'Nebraska', 'North Carolina',\n",
       "       'Minnesota', 'Kentucky', 'Illinois', 'District of Columbia',\n",
       "       'California', 'Arizona', 'Alabama', 'Maine CD-1', 'Maine CD-2',\n",
       "       'Nebraska CD-2', 'Nebraska CD-1'], dtype=object)"
      ]
     },
     "execution_count": 7,
     "metadata": {},
     "output_type": "execute_result"
    }
   ],
   "source": [
    "djt_states = djt[\"state\"].unique()\n",
    "djt_states"
   ]
  },
  {
   "cell_type": "code",
   "execution_count": 8,
   "metadata": {},
   "outputs": [],
   "source": [
    "djt_state_polls = {}\n",
    "for state in djt_states:\n",
    "    if isinstance(state, float):\n",
    "        djt_state_polls[\"US\"] = djt.where(djt[\"state\"]==state)\n",
    "        djt_state_polls[\"US\"].dropna(how='all', inplace=True)\n",
    "    else:\n",
    "        djt_state_polls[state] = djt.where(djt[\"state\"]==state)\n",
    "        djt_state_polls[state].dropna(how='all', inplace=True)"
   ]
  },
  {
   "cell_type": "code",
   "execution_count": 9,
   "metadata": {},
   "outputs": [
    {
     "data": {
      "text/plain": [
       "dict_keys(['South Carolina', 'Pennsylvania', 'Georgia', 'Mississippi', 'US', 'Wisconsin', 'Florida', 'Texas', 'Wyoming', 'West Virginia', 'Vermont', 'Virginia', 'South Dakota', 'Oregon', 'Oklahoma', 'Nevada', 'New Mexico', 'New Hampshire', 'North Dakota', 'Montana', 'Missouri', 'Michigan', 'Maine', 'Maryland', 'Massachusetts', 'Louisiana', 'Kansas', 'Indiana', 'Idaho', 'Iowa', 'Hawaii', 'Delaware', 'Connecticut', 'Colorado', 'Arkansas', 'Alaska', 'Washington', 'Utah', 'Tennessee', 'Rhode Island', 'Ohio', 'New York', 'New Jersey', 'Nebraska', 'North Carolina', 'Minnesota', 'Kentucky', 'Illinois', 'District of Columbia', 'California', 'Arizona', 'Alabama', 'Maine CD-1', 'Maine CD-2', 'Nebraska CD-2', 'Nebraska CD-1'])"
      ]
     },
     "execution_count": 9,
     "metadata": {},
     "output_type": "execute_result"
    }
   ],
   "source": [
    "djt_state_polls.keys()"
   ]
  },
  {
   "cell_type": "code",
   "execution_count": 37,
   "metadata": {},
   "outputs": [
    {
     "data": {
      "text/html": [
       "<div>\n",
       "<style scoped>\n",
       "    .dataframe tbody tr th:only-of-type {\n",
       "        vertical-align: middle;\n",
       "    }\n",
       "\n",
       "    .dataframe tbody tr th {\n",
       "        vertical-align: top;\n",
       "    }\n",
       "\n",
       "    .dataframe thead th {\n",
       "        text-align: right;\n",
       "    }\n",
       "</style>\n",
       "<table border=\"1\" class=\"dataframe\">\n",
       "  <thead>\n",
       "    <tr style=\"text-align: right;\">\n",
       "      <th></th>\n",
       "      <th>start_date</th>\n",
       "      <th>end_date</th>\n",
       "      <th>pollster</th>\n",
       "      <th>fte_grade</th>\n",
       "      <th>sample_size</th>\n",
       "      <th>pct</th>\n",
       "    </tr>\n",
       "  </thead>\n",
       "  <tbody>\n",
       "    <tr>\n",
       "      <th>0</th>\n",
       "      <td>2020-10-22</td>\n",
       "      <td>2020-10-25</td>\n",
       "      <td>Data for Progress</td>\n",
       "      <td>B-</td>\n",
       "      <td>1018.0</td>\n",
       "      <td>48.0</td>\n",
       "    </tr>\n",
       "    <tr>\n",
       "      <th>1</th>\n",
       "      <td>2020-10-20</td>\n",
       "      <td>2020-10-25</td>\n",
       "      <td>Siena College/The New York Times Upshot</td>\n",
       "      <td>A+</td>\n",
       "      <td>802.0</td>\n",
       "      <td>47.0</td>\n",
       "    </tr>\n",
       "    <tr>\n",
       "      <th>2</th>\n",
       "      <td>2020-09-27</td>\n",
       "      <td>2020-10-25</td>\n",
       "      <td>SurveyMonkey</td>\n",
       "      <td>D-</td>\n",
       "      <td>14571.0</td>\n",
       "      <td>48.0</td>\n",
       "    </tr>\n",
       "    <tr>\n",
       "      <th>3</th>\n",
       "      <td>2020-09-27</td>\n",
       "      <td>2020-10-25</td>\n",
       "      <td>SurveyMonkey</td>\n",
       "      <td>D-</td>\n",
       "      <td>14571.0</td>\n",
       "      <td>50.0</td>\n",
       "    </tr>\n",
       "    <tr>\n",
       "      <th>4</th>\n",
       "      <td>2020-09-26</td>\n",
       "      <td>2020-10-24</td>\n",
       "      <td>SurveyMonkey</td>\n",
       "      <td>D-</td>\n",
       "      <td>14490.0</td>\n",
       "      <td>48.0</td>\n",
       "    </tr>\n",
       "    <tr>\n",
       "      <th>5</th>\n",
       "      <td>2020-09-26</td>\n",
       "      <td>2020-10-24</td>\n",
       "      <td>SurveyMonkey</td>\n",
       "      <td>D-</td>\n",
       "      <td>14490.0</td>\n",
       "      <td>51.0</td>\n",
       "    </tr>\n",
       "    <tr>\n",
       "      <th>6</th>\n",
       "      <td>2020-09-26</td>\n",
       "      <td>2020-10-23</td>\n",
       "      <td>SurveyMonkey</td>\n",
       "      <td>D-</td>\n",
       "      <td>14436.0</td>\n",
       "      <td>48.0</td>\n",
       "    </tr>\n",
       "    <tr>\n",
       "      <th>7</th>\n",
       "      <td>2020-09-26</td>\n",
       "      <td>2020-10-23</td>\n",
       "      <td>SurveyMonkey</td>\n",
       "      <td>D-</td>\n",
       "      <td>14436.0</td>\n",
       "      <td>51.0</td>\n",
       "    </tr>\n",
       "    <tr>\n",
       "      <th>8</th>\n",
       "      <td>2020-09-25</td>\n",
       "      <td>2020-10-22</td>\n",
       "      <td>SurveyMonkey</td>\n",
       "      <td>D-</td>\n",
       "      <td>14434.0</td>\n",
       "      <td>48.0</td>\n",
       "    </tr>\n",
       "    <tr>\n",
       "      <th>9</th>\n",
       "      <td>2020-09-25</td>\n",
       "      <td>2020-10-22</td>\n",
       "      <td>SurveyMonkey</td>\n",
       "      <td>D-</td>\n",
       "      <td>14434.0</td>\n",
       "      <td>51.0</td>\n",
       "    </tr>\n",
       "  </tbody>\n",
       "</table>\n",
       "</div>"
      ],
      "text/plain": [
       "  start_date   end_date                                 pollster fte_grade  \\\n",
       "0 2020-10-22 2020-10-25                        Data for Progress        B-   \n",
       "1 2020-10-20 2020-10-25  Siena College/The New York Times Upshot        A+   \n",
       "2 2020-09-27 2020-10-25                             SurveyMonkey        D-   \n",
       "3 2020-09-27 2020-10-25                             SurveyMonkey        D-   \n",
       "4 2020-09-26 2020-10-24                             SurveyMonkey        D-   \n",
       "5 2020-09-26 2020-10-24                             SurveyMonkey        D-   \n",
       "6 2020-09-26 2020-10-23                             SurveyMonkey        D-   \n",
       "7 2020-09-26 2020-10-23                             SurveyMonkey        D-   \n",
       "8 2020-09-25 2020-10-22                             SurveyMonkey        D-   \n",
       "9 2020-09-25 2020-10-22                             SurveyMonkey        D-   \n",
       "\n",
       "   sample_size   pct  \n",
       "0       1018.0  48.0  \n",
       "1        802.0  47.0  \n",
       "2      14571.0  48.0  \n",
       "3      14571.0  50.0  \n",
       "4      14490.0  48.0  \n",
       "5      14490.0  51.0  \n",
       "6      14436.0  48.0  \n",
       "7      14436.0  51.0  \n",
       "8      14434.0  48.0  \n",
       "9      14434.0  51.0  "
      ]
     },
     "execution_count": 37,
     "metadata": {},
     "output_type": "execute_result"
    }
   ],
   "source": [
    "djt_texas = pd.concat([pd.to_datetime(djt_state_polls[\"Texas\"][\"start_date\"]), pd.to_datetime(djt_state_polls[\"Texas\"][\"end_date\"]), djt_state_polls[\"Texas\"][\"pollster\"], djt_state_polls[\"Texas\"][\"fte_grade\"], djt_state_polls[\"Texas\"][\"sample_size\"], djt_state_polls[\"Texas\"][\"pct\"]], axis=1)\n",
    "djt_texas.reset_index(inplace=True)\n",
    "djt_texas.drop([\"index\"], axis=1, inplace=True)\n",
    "djt_texas.head(10)"
   ]
  },
  {
   "cell_type": "code",
   "execution_count": 38,
   "metadata": {},
   "outputs": [
    {
     "data": {
      "application/vnd.plotly.v1+json": {
       "config": {
        "plotlyServerURL": "https://plot.ly"
       },
       "data": [
        {
         "hovertemplate": "pollster=Data for Progress<br>end_date=%{x}<br>pct=%{y}<extra></extra>",
         "legendgroup": "Data for Progress",
         "marker": {
          "color": "#636efa",
          "symbol": "circle"
         },
         "mode": "markers",
         "name": "Data for Progress",
         "orientation": "v",
         "showlegend": true,
         "type": "scatter",
         "x": [
          "2020-10-25T00:00:00",
          "2020-10-18T00:00:00",
          "2020-10-05T00:00:00",
          "2020-09-22T00:00:00",
          "2020-08-25T00:00:00",
          "2020-01-21T00:00:00",
          "2020-01-21T00:00:00",
          "2020-01-21T00:00:00",
          "2020-01-21T00:00:00"
         ],
         "xaxis": "x",
         "y": [
          48,
          46,
          45,
          46,
          45,
          56,
          54,
          55,
          56
         ],
         "yaxis": "y"
        },
        {
         "hovertemplate": "pollster=Siena College/The New York Times Upshot<br>end_date=%{x}<br>pct=%{y}<extra></extra>",
         "legendgroup": "Siena College/The New York Times Upshot",
         "marker": {
          "color": "#EF553B",
          "symbol": "circle"
         },
         "mode": "markers",
         "name": "Siena College/The New York Times Upshot",
         "orientation": "v",
         "showlegend": true,
         "type": "scatter",
         "x": [
          "2020-10-25T00:00:00",
          "2020-09-22T00:00:00"
         ],
         "xaxis": "x",
         "y": [
          47,
          46
         ],
         "yaxis": "y"
        },
        {
         "hovertemplate": "pollster=SurveyMonkey<br>end_date=%{x}<br>pct=%{y}<extra></extra>",
         "legendgroup": "SurveyMonkey",
         "marker": {
          "color": "#00cc96",
          "symbol": "circle"
         },
         "mode": "markers",
         "name": "SurveyMonkey",
         "orientation": "v",
         "showlegend": true,
         "type": "scatter",
         "x": [
          "2020-10-25T00:00:00",
          "2020-10-25T00:00:00",
          "2020-10-24T00:00:00",
          "2020-10-24T00:00:00",
          "2020-10-23T00:00:00",
          "2020-10-23T00:00:00",
          "2020-10-22T00:00:00",
          "2020-10-22T00:00:00",
          "2020-10-21T00:00:00",
          "2020-10-21T00:00:00",
          "2020-10-20T00:00:00",
          "2020-10-20T00:00:00",
          "2020-10-19T00:00:00",
          "2020-10-19T00:00:00",
          "2020-10-18T00:00:00",
          "2020-10-18T00:00:00",
          "2020-10-17T00:00:00",
          "2020-10-17T00:00:00",
          "2020-10-16T00:00:00",
          "2020-10-16T00:00:00",
          "2020-10-15T00:00:00",
          "2020-10-15T00:00:00",
          "2020-10-14T00:00:00",
          "2020-10-14T00:00:00",
          "2020-10-13T00:00:00",
          "2020-10-13T00:00:00",
          "2020-10-12T00:00:00",
          "2020-10-12T00:00:00",
          "2020-09-30T00:00:00",
          "2020-09-30T00:00:00",
          "2020-08-31T00:00:00",
          "2020-08-31T00:00:00",
          "2020-07-31T00:00:00",
          "2020-07-31T00:00:00",
          "2020-06-30T00:00:00",
          "2020-06-30T00:00:00"
         ],
         "xaxis": "x",
         "y": [
          48,
          50,
          48,
          51,
          48,
          51,
          48,
          51,
          48,
          51,
          49,
          51,
          49,
          51,
          49,
          51,
          48,
          51,
          48,
          51,
          48,
          51,
          48,
          51,
          48,
          51,
          48,
          50,
          51.78,
          48.54,
          51.79,
          48.46,
          52.02,
          48.49,
          51.48,
          47.5
         ],
         "yaxis": "y"
        },
        {
         "hovertemplate": "pollster=University of Texas at Tyler<br>end_date=%{x}<br>pct=%{y}<extra></extra>",
         "legendgroup": "University of Texas at Tyler",
         "marker": {
          "color": "#ab63fa",
          "symbol": "circle"
         },
         "mode": "markers",
         "name": "University of Texas at Tyler",
         "orientation": "v",
         "showlegend": true,
         "type": "scatter",
         "x": [
          "2020-10-20T00:00:00",
          "2020-10-20T00:00:00",
          "2020-09-02T00:00:00",
          "2020-09-02T00:00:00",
          "2020-07-07T00:00:00",
          "2020-07-07T00:00:00",
          "2020-04-27T00:00:00",
          "2020-02-26T00:00:00",
          "2020-02-26T00:00:00",
          "2020-02-26T00:00:00",
          "2020-02-26T00:00:00",
          "2020-02-26T00:00:00",
          "2020-02-26T00:00:00",
          "2020-01-30T00:00:00",
          "2020-01-30T00:00:00",
          "2020-01-30T00:00:00",
          "2020-01-30T00:00:00",
          "2020-01-30T00:00:00",
          "2020-01-30T00:00:00",
          "2020-01-30T00:00:00",
          "2019-11-14T00:00:00",
          "2019-11-14T00:00:00",
          "2019-11-14T00:00:00",
          "2019-11-14T00:00:00",
          "2019-11-14T00:00:00",
          "2019-11-14T00:00:00",
          "2019-09-15T00:00:00",
          "2019-09-15T00:00:00",
          "2019-09-15T00:00:00",
          "2019-09-15T00:00:00",
          "2019-09-15T00:00:00",
          "2019-09-15T00:00:00",
          "2019-08-04T00:00:00",
          "2019-08-04T00:00:00",
          "2019-08-04T00:00:00",
          "2019-08-04T00:00:00",
          "2019-08-04T00:00:00",
          "2019-08-04T00:00:00",
          "2019-07-27T00:00:00",
          "2019-07-27T00:00:00",
          "2019-07-27T00:00:00",
          "2019-07-27T00:00:00",
          "2019-07-27T00:00:00",
          "2019-07-27T00:00:00"
         ],
         "xaxis": "x",
         "y": [
          44,
          45,
          43,
          48,
          41,
          43,
          43,
          47,
          45,
          45,
          45,
          45,
          45,
          46,
          44,
          45,
          45,
          46,
          45,
          46,
          45.7,
          44.5,
          46.3,
          44.2,
          45.3,
          45.2,
          38,
          39.5,
          39.4,
          39.6,
          39.3,
          39.7,
          37.2,
          38.8,
          38.5,
          37.7,
          37.5,
          37.3,
          37.1,
          38.2,
          38.5,
          37.3,
          38.6,
          37.6
         ],
         "yaxis": "y"
        },
        {
         "hovertemplate": "pollster=YouGov<br>end_date=%{x}<br>pct=%{y}<extra></extra>",
         "legendgroup": "YouGov",
         "marker": {
          "color": "#FFA15A",
          "symbol": "circle"
         },
         "mode": "markers",
         "name": "YouGov",
         "orientation": "v",
         "showlegend": true,
         "type": "scatter",
         "x": [
          "2020-10-20T00:00:00",
          "2020-10-04T00:00:00",
          "2020-09-18T00:00:00",
          "2020-08-13T00:00:00",
          "2020-07-10T00:00:00",
          "2020-06-29T00:00:00",
          "2020-04-19T00:00:00",
          "2020-02-09T00:00:00",
          "2020-02-09T00:00:00",
          "2020-02-09T00:00:00",
          "2020-02-09T00:00:00",
          "2020-02-09T00:00:00",
          "2020-02-09T00:00:00",
          "2020-02-09T00:00:00",
          "2019-10-27T00:00:00",
          "2019-10-27T00:00:00",
          "2019-10-27T00:00:00",
          "2019-10-27T00:00:00",
          "2019-10-27T00:00:00"
         ],
         "xaxis": "x",
         "y": [
          50,
          50,
          48,
          47.5,
          46,
          48,
          49,
          47,
          47,
          47,
          47,
          46,
          46,
          45,
          46,
          46,
          45,
          47,
          46
         ],
         "yaxis": "y"
        },
        {
         "hovertemplate": "pollster=Morning Consult<br>end_date=%{x}<br>pct=%{y}<extra></extra>",
         "legendgroup": "Morning Consult",
         "marker": {
          "color": "#19d3f3",
          "symbol": "circle"
         },
         "mode": "markers",
         "name": "Morning Consult",
         "orientation": "v",
         "showlegend": true,
         "type": "scatter",
         "x": [
          "2020-10-20T00:00:00",
          "2020-10-11T00:00:00",
          "2020-09-07T00:00:00",
          "2020-08-30T00:00:00",
          "2020-08-16T00:00:00",
          "2020-08-02T00:00:00",
          "2020-07-26T00:00:00",
          "2020-05-26T00:00:00"
         ],
         "xaxis": "x",
         "y": [
          47,
          49,
          46,
          48,
          47,
          46,
          45,
          50
         ],
         "yaxis": "y"
        },
        {
         "hovertemplate": "pollster=Quinnipiac University<br>end_date=%{x}<br>pct=%{y}<extra></extra>",
         "legendgroup": "Quinnipiac University",
         "marker": {
          "color": "#FF6692",
          "symbol": "circle"
         },
         "mode": "markers",
         "name": "Quinnipiac University",
         "orientation": "v",
         "showlegend": true,
         "type": "scatter",
         "x": [
          "2020-10-19T00:00:00",
          "2020-09-21T00:00:00",
          "2020-07-20T00:00:00",
          "2020-06-01T00:00:00",
          "2019-06-04T00:00:00",
          "2019-06-04T00:00:00",
          "2019-06-04T00:00:00",
          "2019-06-04T00:00:00",
          "2019-06-04T00:00:00",
          "2019-06-04T00:00:00",
          "2019-06-04T00:00:00",
          "2019-02-25T00:00:00",
          "2019-02-25T00:00:00",
          "2019-02-25T00:00:00",
          "2019-02-25T00:00:00",
          "2019-02-25T00:00:00",
          "2019-02-25T00:00:00"
         ],
         "xaxis": "x",
         "y": [
          47,
          50,
          44,
          44,
          44,
          47,
          46,
          47,
          46,
          48,
          46,
          47,
          47,
          47,
          48,
          48,
          46
         ],
         "yaxis": "y"
        },
        {
         "hovertemplate": "pollster=Public Policy Polling<br>end_date=%{x}<br>pct=%{y}<extra></extra>",
         "legendgroup": "Public Policy Polling",
         "marker": {
          "color": "#B6E880",
          "symbol": "circle"
         },
         "mode": "markers",
         "name": "Public Policy Polling",
         "orientation": "v",
         "showlegend": true,
         "type": "scatter",
         "x": [
          "2020-10-08T00:00:00",
          "2020-09-26T00:00:00",
          "2020-09-02T00:00:00",
          "2020-08-22T00:00:00",
          "2020-06-25T00:00:00",
          "2020-06-19T00:00:00",
          "2020-06-04T00:00:00",
          "2020-04-28T00:00:00",
          "2019-02-14T00:00:00",
          "2019-02-14T00:00:00"
         ],
         "xaxis": "x",
         "y": [
          49,
          48,
          48,
          47,
          46,
          48,
          48,
          46,
          49,
          49
         ],
         "yaxis": "y"
        },
        {
         "hovertemplate": "pollster=Rasmussen Reports/Pulse Opinion Research<br>end_date=%{x}<br>pct=%{y}<extra></extra>",
         "legendgroup": "Rasmussen Reports/Pulse Opinion Research",
         "marker": {
          "color": "#FF97FF",
          "symbol": "circle"
         },
         "mode": "markers",
         "name": "Rasmussen Reports/Pulse Opinion Research",
         "orientation": "v",
         "showlegend": true,
         "type": "scatter",
         "x": [
          "2020-10-06T00:00:00"
         ],
         "xaxis": "x",
         "y": [
          51
         ],
         "yaxis": "y"
        },
        {
         "hovertemplate": "pollster=Civiqs<br>end_date=%{x}<br>pct=%{y}<extra></extra>",
         "legendgroup": "Civiqs",
         "marker": {
          "color": "#FECB52",
          "symbol": "circle"
         },
         "mode": "markers",
         "name": "Civiqs",
         "orientation": "v",
         "showlegend": true,
         "type": "scatter",
         "x": [
          "2020-10-06T00:00:00"
         ],
         "xaxis": "x",
         "y": [
          48
         ],
         "yaxis": "y"
        },
        {
         "hovertemplate": "pollster=EMC Research<br>end_date=%{x}<br>pct=%{y}<extra></extra>",
         "legendgroup": "EMC Research",
         "marker": {
          "color": "#636efa",
          "symbol": "circle"
         },
         "mode": "markers",
         "name": "EMC Research",
         "orientation": "v",
         "showlegend": true,
         "type": "scatter",
         "x": [
          "2020-10-02T00:00:00"
         ],
         "xaxis": "x",
         "y": [
          49
         ],
         "yaxis": "y"
        },
        {
         "hovertemplate": "pollster=Garin-Hart-Yang Research Group<br>end_date=%{x}<br>pct=%{y}<extra></extra>",
         "legendgroup": "Garin-Hart-Yang Research Group",
         "marker": {
          "color": "#EF553B",
          "symbol": "circle"
         },
         "mode": "markers",
         "name": "Garin-Hart-Yang Research Group",
         "orientation": "v",
         "showlegend": true,
         "type": "scatter",
         "x": [
          "2020-09-27T00:00:00"
         ],
         "xaxis": "x",
         "y": [
          49
         ],
         "yaxis": "y"
        },
        {
         "hovertemplate": "pollster=University of Massachusetts Lowell<br>end_date=%{x}<br>pct=%{y}<extra></extra>",
         "legendgroup": "University of Massachusetts Lowell",
         "marker": {
          "color": "#00cc96",
          "symbol": "circle"
         },
         "mode": "markers",
         "name": "University of Massachusetts Lowell",
         "orientation": "v",
         "showlegend": true,
         "type": "scatter",
         "x": [
          "2020-09-25T00:00:00",
          "2020-09-25T00:00:00"
         ],
         "xaxis": "x",
         "y": [
          49,
          50
         ],
         "yaxis": "y"
        },
        {
         "hovertemplate": "pollster=The Tyson Group<br>end_date=%{x}<br>pct=%{y}<extra></extra>",
         "legendgroup": "The Tyson Group",
         "marker": {
          "color": "#ab63fa",
          "symbol": "circle"
         },
         "mode": "markers",
         "name": "The Tyson Group",
         "orientation": "v",
         "showlegend": true,
         "type": "scatter",
         "x": [
          "2020-08-25T00:00:00"
         ],
         "xaxis": "x",
         "y": [
          44
         ],
         "yaxis": "y"
        },
        {
         "hovertemplate": "pollster=Global Strategy Group<br>end_date=%{x}<br>pct=%{y}<extra></extra>",
         "legendgroup": "Global Strategy Group",
         "marker": {
          "color": "#FFA15A",
          "symbol": "circle"
         },
         "mode": "markers",
         "name": "Global Strategy Group",
         "orientation": "v",
         "showlegend": true,
         "type": "scatter",
         "x": [
          "2020-08-13T00:00:00"
         ],
         "xaxis": "x",
         "y": [
          45
         ],
         "yaxis": "y"
        },
        {
         "hovertemplate": "pollster=Trafalgar Group<br>end_date=%{x}<br>pct=%{y}<extra></extra>",
         "legendgroup": "Trafalgar Group",
         "marker": {
          "color": "#19d3f3",
          "symbol": "circle"
         },
         "mode": "markers",
         "name": "Trafalgar Group",
         "orientation": "v",
         "showlegend": true,
         "type": "scatter",
         "x": [
          "2020-08-05T00:00:00"
         ],
         "xaxis": "x",
         "y": [
          49.4
         ],
         "yaxis": "y"
        },
        {
         "hovertemplate": "pollster=Spry Strategies<br>end_date=%{x}<br>pct=%{y}<extra></extra>",
         "legendgroup": "Spry Strategies",
         "marker": {
          "color": "#FF6692",
          "symbol": "circle"
         },
         "mode": "markers",
         "name": "Spry Strategies",
         "orientation": "v",
         "showlegend": true,
         "type": "scatter",
         "x": [
          "2020-07-20T00:00:00"
         ],
         "xaxis": "x",
         "y": [
          49.45
         ],
         "yaxis": "y"
        },
        {
         "hovertemplate": "pollster=Gravis Marketing<br>end_date=%{x}<br>pct=%{y}<extra></extra>",
         "legendgroup": "Gravis Marketing",
         "marker": {
          "color": "#B6E880",
          "symbol": "circle"
         },
         "mode": "markers",
         "name": "Gravis Marketing",
         "orientation": "v",
         "showlegend": true,
         "type": "scatter",
         "x": [
          "2020-07-07T00:00:00"
         ],
         "xaxis": "x",
         "y": [
          46
         ],
         "yaxis": "y"
        },
        {
         "hovertemplate": "pollster=Fox News/Beacon Research/Shaw & Co. Research<br>end_date=%{x}<br>pct=%{y}<extra></extra>",
         "legendgroup": "Fox News/Beacon Research/Shaw & Co. Research",
         "marker": {
          "color": "#FF97FF",
          "symbol": "circle"
         },
         "mode": "markers",
         "name": "Fox News/Beacon Research/Shaw & Co. Research",
         "orientation": "v",
         "showlegend": true,
         "type": "scatter",
         "x": [
          "2020-06-23T00:00:00"
         ],
         "xaxis": "x",
         "y": [
          44
         ],
         "yaxis": "y"
        },
        {
         "hovertemplate": "pollster=Emerson College<br>end_date=%{x}<br>pct=%{y}<extra></extra>",
         "legendgroup": "Emerson College",
         "marker": {
          "color": "#FECB52",
          "symbol": "circle"
         },
         "mode": "markers",
         "name": "Emerson College",
         "orientation": "v",
         "showlegend": true,
         "type": "scatter",
         "x": [
          "2020-05-10T00:00:00",
          "2019-08-03T00:00:00",
          "2019-08-03T00:00:00",
          "2019-08-03T00:00:00",
          "2019-08-03T00:00:00",
          "2019-08-03T00:00:00",
          "2019-08-03T00:00:00",
          "2019-08-03T00:00:00",
          "2019-04-28T00:00:00",
          "2019-04-28T00:00:00",
          "2019-04-28T00:00:00",
          "2019-04-28T00:00:00",
          "2019-04-28T00:00:00",
          "2019-04-28T00:00:00"
         ],
         "xaxis": "x",
         "y": [
          51.69,
          49.2,
          49.4,
          51.9,
          52,
          52.4,
          52.8,
          53.8,
          49.5,
          49.7,
          51.1,
          54.2,
          53.1,
          53.7
         ],
         "yaxis": "y"
        },
        {
         "hovertemplate": "pollster=AtlasIntel<br>end_date=%{x}<br>pct=%{y}<extra></extra>",
         "legendgroup": "AtlasIntel",
         "marker": {
          "color": "#636efa",
          "symbol": "circle"
         },
         "mode": "markers",
         "name": "AtlasIntel",
         "orientation": "v",
         "showlegend": true,
         "type": "scatter",
         "x": [
          "2020-03-02T00:00:00",
          "2020-03-02T00:00:00",
          "2020-03-02T00:00:00",
          "2020-03-02T00:00:00"
         ],
         "xaxis": "x",
         "y": [
          48.7,
          48.8,
          46.5,
          47.8
         ],
         "yaxis": "y"
        },
        {
         "hovertemplate": "pollster=Marist College<br>end_date=%{x}<br>pct=%{y}<extra></extra>",
         "legendgroup": "Marist College",
         "marker": {
          "color": "#EF553B",
          "symbol": "circle"
         },
         "mode": "markers",
         "name": "Marist College",
         "orientation": "v",
         "showlegend": true,
         "type": "scatter",
         "x": [
          "2020-02-27T00:00:00",
          "2020-02-27T00:00:00"
         ],
         "xaxis": "x",
         "y": [
          49,
          49
         ],
         "yaxis": "y"
        },
        {
         "hovertemplate": "pollster=SSRS<br>end_date=%{x}<br>pct=%{y}<extra></extra>",
         "legendgroup": "SSRS",
         "marker": {
          "color": "#00cc96",
          "symbol": "circle"
         },
         "mode": "markers",
         "name": "SSRS",
         "orientation": "v",
         "showlegend": true,
         "type": "scatter",
         "x": [
          "2020-02-26T00:00:00",
          "2020-02-26T00:00:00",
          "2020-02-26T00:00:00",
          "2020-02-26T00:00:00",
          "2020-02-26T00:00:00",
          "2020-02-26T00:00:00",
          "2019-12-09T00:00:00",
          "2019-12-09T00:00:00",
          "2019-12-09T00:00:00",
          "2019-12-09T00:00:00"
         ],
         "xaxis": "x",
         "y": [
          47,
          47,
          48,
          48,
          48,
          47,
          48,
          50,
          50,
          51
         ],
         "yaxis": "y"
        },
        {
         "hovertemplate": "pollster=Univision/University of Houston/Latino Decisions<br>end_date=%{x}<br>pct=%{y}<extra></extra>",
         "legendgroup": "Univision/University of Houston/Latino Decisions",
         "marker": {
          "color": "#ab63fa",
          "symbol": "circle"
         },
         "mode": "markers",
         "name": "Univision/University of Houston/Latino Decisions",
         "orientation": "v",
         "showlegend": true,
         "type": "scatter",
         "x": [
          "2020-02-26T00:00:00",
          "2020-02-26T00:00:00",
          "2020-02-26T00:00:00",
          "2020-02-26T00:00:00",
          "2020-02-26T00:00:00",
          "2020-02-26T00:00:00"
         ],
         "xaxis": "x",
         "y": [
          46,
          45,
          48,
          46,
          43,
          46
         ],
         "yaxis": "y"
        },
        {
         "hovertemplate": "pollster=Texas Lyceum<br>end_date=%{x}<br>pct=%{y}<extra></extra>",
         "legendgroup": "Texas Lyceum",
         "marker": {
          "color": "#FFA15A",
          "symbol": "circle"
         },
         "mode": "markers",
         "name": "Texas Lyceum",
         "orientation": "v",
         "showlegend": true,
         "type": "scatter",
         "x": [
          "2020-01-19T00:00:00",
          "2020-01-19T00:00:00",
          "2020-01-19T00:00:00",
          "2020-01-19T00:00:00"
         ],
         "xaxis": "x",
         "y": [
          51,
          50,
          50,
          51
         ],
         "yaxis": "y"
        },
        {
         "hovertemplate": "pollster=Beacon Research<br>end_date=%{x}<br>pct=%{y}<extra></extra>",
         "legendgroup": "Beacon Research",
         "marker": {
          "color": "#19d3f3",
          "symbol": "circle"
         },
         "mode": "markers",
         "name": "Beacon Research",
         "orientation": "v",
         "showlegend": true,
         "type": "scatter",
         "x": [
          "2019-11-21T00:00:00",
          "2019-11-21T00:00:00"
         ],
         "xaxis": "x",
         "y": [
          45,
          46
         ],
         "yaxis": "y"
        },
        {
         "hovertemplate": "pollster=Univision/University of Houston/Latino Decisions/North Star Opinion Research<br>end_date=%{x}<br>pct=%{y}<extra></extra>",
         "legendgroup": "Univision/University of Houston/Latino Decisions/North Star Opinion Research",
         "marker": {
          "color": "#FF6692",
          "symbol": "circle"
         },
         "mode": "markers",
         "name": "Univision/University of Houston/Latino Decisions/North Star Opinion Research",
         "orientation": "v",
         "showlegend": true,
         "type": "scatter",
         "x": [
          "2019-09-06T00:00:00",
          "2019-09-06T00:00:00",
          "2019-09-06T00:00:00",
          "2019-09-06T00:00:00",
          "2019-09-06T00:00:00",
          "2019-09-06T00:00:00"
         ],
         "xaxis": "x",
         "y": [
          43,
          42,
          42,
          44,
          41,
          41
         ],
         "yaxis": "y"
        },
        {
         "hovertemplate": "pollster=Climate Nexus<br>end_date=%{x}<br>pct=%{y}<extra></extra>",
         "legendgroup": "Climate Nexus",
         "marker": {
          "color": "#B6E880",
          "symbol": "circle"
         },
         "mode": "markers",
         "name": "Climate Nexus",
         "orientation": "v",
         "showlegend": true,
         "type": "scatter",
         "x": [
          "2019-08-25T00:00:00",
          "2019-08-25T00:00:00",
          "2019-08-25T00:00:00",
          "2019-08-25T00:00:00",
          "2019-08-25T00:00:00",
          "2019-08-25T00:00:00",
          "2019-08-25T00:00:00"
         ],
         "xaxis": "x",
         "y": [
          43,
          45,
          45,
          45,
          44,
          45,
          45
         ],
         "yaxis": "y"
        },
        {
         "hovertemplate": "pollster=WPA Intelligence (WPAi)<br>end_date=%{x}<br>pct=%{y}<extra></extra>",
         "legendgroup": "WPA Intelligence (WPAi)",
         "marker": {
          "color": "#FF97FF",
          "symbol": "circle"
         },
         "mode": "markers",
         "name": "WPA Intelligence (WPAi)",
         "orientation": "v",
         "showlegend": true,
         "type": "scatter",
         "x": [
          "2019-04-30T00:00:00"
         ],
         "xaxis": "x",
         "y": [
          49
         ],
         "yaxis": "y"
        },
        {
         "hovertemplate": "pollster=Neighborhood Research and Media<br>end_date=%{x}<br>pct=%{y}<extra></extra>",
         "legendgroup": "Neighborhood Research and Media",
         "marker": {
          "color": "#FECB52",
          "symbol": "circle"
         },
         "mode": "markers",
         "name": "Neighborhood Research and Media",
         "orientation": "v",
         "showlegend": true,
         "type": "scatter",
         "x": [
          "2019-01-11T00:00:00"
         ],
         "xaxis": "x",
         "y": [
          52
         ],
         "yaxis": "y"
        }
       ],
       "layout": {
        "autosize": true,
        "legend": {
         "title": {
          "text": "pollster"
         },
         "tracegroupgap": 0
        },
        "margin": {
         "t": 60
        },
        "template": {
         "data": {
          "bar": [
           {
            "error_x": {
             "color": "#2a3f5f"
            },
            "error_y": {
             "color": "#2a3f5f"
            },
            "marker": {
             "line": {
              "color": "#E5ECF6",
              "width": 0.5
             }
            },
            "type": "bar"
           }
          ],
          "barpolar": [
           {
            "marker": {
             "line": {
              "color": "#E5ECF6",
              "width": 0.5
             }
            },
            "type": "barpolar"
           }
          ],
          "carpet": [
           {
            "aaxis": {
             "endlinecolor": "#2a3f5f",
             "gridcolor": "white",
             "linecolor": "white",
             "minorgridcolor": "white",
             "startlinecolor": "#2a3f5f"
            },
            "baxis": {
             "endlinecolor": "#2a3f5f",
             "gridcolor": "white",
             "linecolor": "white",
             "minorgridcolor": "white",
             "startlinecolor": "#2a3f5f"
            },
            "type": "carpet"
           }
          ],
          "choropleth": [
           {
            "colorbar": {
             "outlinewidth": 0,
             "ticks": ""
            },
            "type": "choropleth"
           }
          ],
          "contour": [
           {
            "colorbar": {
             "outlinewidth": 0,
             "ticks": ""
            },
            "colorscale": [
             [
              0,
              "#0d0887"
             ],
             [
              0.1111111111111111,
              "#46039f"
             ],
             [
              0.2222222222222222,
              "#7201a8"
             ],
             [
              0.3333333333333333,
              "#9c179e"
             ],
             [
              0.4444444444444444,
              "#bd3786"
             ],
             [
              0.5555555555555556,
              "#d8576b"
             ],
             [
              0.6666666666666666,
              "#ed7953"
             ],
             [
              0.7777777777777778,
              "#fb9f3a"
             ],
             [
              0.8888888888888888,
              "#fdca26"
             ],
             [
              1,
              "#f0f921"
             ]
            ],
            "type": "contour"
           }
          ],
          "contourcarpet": [
           {
            "colorbar": {
             "outlinewidth": 0,
             "ticks": ""
            },
            "type": "contourcarpet"
           }
          ],
          "heatmap": [
           {
            "colorbar": {
             "outlinewidth": 0,
             "ticks": ""
            },
            "colorscale": [
             [
              0,
              "#0d0887"
             ],
             [
              0.1111111111111111,
              "#46039f"
             ],
             [
              0.2222222222222222,
              "#7201a8"
             ],
             [
              0.3333333333333333,
              "#9c179e"
             ],
             [
              0.4444444444444444,
              "#bd3786"
             ],
             [
              0.5555555555555556,
              "#d8576b"
             ],
             [
              0.6666666666666666,
              "#ed7953"
             ],
             [
              0.7777777777777778,
              "#fb9f3a"
             ],
             [
              0.8888888888888888,
              "#fdca26"
             ],
             [
              1,
              "#f0f921"
             ]
            ],
            "type": "heatmap"
           }
          ],
          "heatmapgl": [
           {
            "colorbar": {
             "outlinewidth": 0,
             "ticks": ""
            },
            "colorscale": [
             [
              0,
              "#0d0887"
             ],
             [
              0.1111111111111111,
              "#46039f"
             ],
             [
              0.2222222222222222,
              "#7201a8"
             ],
             [
              0.3333333333333333,
              "#9c179e"
             ],
             [
              0.4444444444444444,
              "#bd3786"
             ],
             [
              0.5555555555555556,
              "#d8576b"
             ],
             [
              0.6666666666666666,
              "#ed7953"
             ],
             [
              0.7777777777777778,
              "#fb9f3a"
             ],
             [
              0.8888888888888888,
              "#fdca26"
             ],
             [
              1,
              "#f0f921"
             ]
            ],
            "type": "heatmapgl"
           }
          ],
          "histogram": [
           {
            "marker": {
             "colorbar": {
              "outlinewidth": 0,
              "ticks": ""
             }
            },
            "type": "histogram"
           }
          ],
          "histogram2d": [
           {
            "colorbar": {
             "outlinewidth": 0,
             "ticks": ""
            },
            "colorscale": [
             [
              0,
              "#0d0887"
             ],
             [
              0.1111111111111111,
              "#46039f"
             ],
             [
              0.2222222222222222,
              "#7201a8"
             ],
             [
              0.3333333333333333,
              "#9c179e"
             ],
             [
              0.4444444444444444,
              "#bd3786"
             ],
             [
              0.5555555555555556,
              "#d8576b"
             ],
             [
              0.6666666666666666,
              "#ed7953"
             ],
             [
              0.7777777777777778,
              "#fb9f3a"
             ],
             [
              0.8888888888888888,
              "#fdca26"
             ],
             [
              1,
              "#f0f921"
             ]
            ],
            "type": "histogram2d"
           }
          ],
          "histogram2dcontour": [
           {
            "colorbar": {
             "outlinewidth": 0,
             "ticks": ""
            },
            "colorscale": [
             [
              0,
              "#0d0887"
             ],
             [
              0.1111111111111111,
              "#46039f"
             ],
             [
              0.2222222222222222,
              "#7201a8"
             ],
             [
              0.3333333333333333,
              "#9c179e"
             ],
             [
              0.4444444444444444,
              "#bd3786"
             ],
             [
              0.5555555555555556,
              "#d8576b"
             ],
             [
              0.6666666666666666,
              "#ed7953"
             ],
             [
              0.7777777777777778,
              "#fb9f3a"
             ],
             [
              0.8888888888888888,
              "#fdca26"
             ],
             [
              1,
              "#f0f921"
             ]
            ],
            "type": "histogram2dcontour"
           }
          ],
          "mesh3d": [
           {
            "colorbar": {
             "outlinewidth": 0,
             "ticks": ""
            },
            "type": "mesh3d"
           }
          ],
          "parcoords": [
           {
            "line": {
             "colorbar": {
              "outlinewidth": 0,
              "ticks": ""
             }
            },
            "type": "parcoords"
           }
          ],
          "pie": [
           {
            "automargin": true,
            "type": "pie"
           }
          ],
          "scatter": [
           {
            "marker": {
             "colorbar": {
              "outlinewidth": 0,
              "ticks": ""
             }
            },
            "type": "scatter"
           }
          ],
          "scatter3d": [
           {
            "line": {
             "colorbar": {
              "outlinewidth": 0,
              "ticks": ""
             }
            },
            "marker": {
             "colorbar": {
              "outlinewidth": 0,
              "ticks": ""
             }
            },
            "type": "scatter3d"
           }
          ],
          "scattercarpet": [
           {
            "marker": {
             "colorbar": {
              "outlinewidth": 0,
              "ticks": ""
             }
            },
            "type": "scattercarpet"
           }
          ],
          "scattergeo": [
           {
            "marker": {
             "colorbar": {
              "outlinewidth": 0,
              "ticks": ""
             }
            },
            "type": "scattergeo"
           }
          ],
          "scattergl": [
           {
            "marker": {
             "colorbar": {
              "outlinewidth": 0,
              "ticks": ""
             }
            },
            "type": "scattergl"
           }
          ],
          "scattermapbox": [
           {
            "marker": {
             "colorbar": {
              "outlinewidth": 0,
              "ticks": ""
             }
            },
            "type": "scattermapbox"
           }
          ],
          "scatterpolar": [
           {
            "marker": {
             "colorbar": {
              "outlinewidth": 0,
              "ticks": ""
             }
            },
            "type": "scatterpolar"
           }
          ],
          "scatterpolargl": [
           {
            "marker": {
             "colorbar": {
              "outlinewidth": 0,
              "ticks": ""
             }
            },
            "type": "scatterpolargl"
           }
          ],
          "scatterternary": [
           {
            "marker": {
             "colorbar": {
              "outlinewidth": 0,
              "ticks": ""
             }
            },
            "type": "scatterternary"
           }
          ],
          "surface": [
           {
            "colorbar": {
             "outlinewidth": 0,
             "ticks": ""
            },
            "colorscale": [
             [
              0,
              "#0d0887"
             ],
             [
              0.1111111111111111,
              "#46039f"
             ],
             [
              0.2222222222222222,
              "#7201a8"
             ],
             [
              0.3333333333333333,
              "#9c179e"
             ],
             [
              0.4444444444444444,
              "#bd3786"
             ],
             [
              0.5555555555555556,
              "#d8576b"
             ],
             [
              0.6666666666666666,
              "#ed7953"
             ],
             [
              0.7777777777777778,
              "#fb9f3a"
             ],
             [
              0.8888888888888888,
              "#fdca26"
             ],
             [
              1,
              "#f0f921"
             ]
            ],
            "type": "surface"
           }
          ],
          "table": [
           {
            "cells": {
             "fill": {
              "color": "#EBF0F8"
             },
             "line": {
              "color": "white"
             }
            },
            "header": {
             "fill": {
              "color": "#C8D4E3"
             },
             "line": {
              "color": "white"
             }
            },
            "type": "table"
           }
          ]
         },
         "layout": {
          "annotationdefaults": {
           "arrowcolor": "#2a3f5f",
           "arrowhead": 0,
           "arrowwidth": 1
          },
          "coloraxis": {
           "colorbar": {
            "outlinewidth": 0,
            "ticks": ""
           }
          },
          "colorscale": {
           "diverging": [
            [
             0,
             "#8e0152"
            ],
            [
             0.1,
             "#c51b7d"
            ],
            [
             0.2,
             "#de77ae"
            ],
            [
             0.3,
             "#f1b6da"
            ],
            [
             0.4,
             "#fde0ef"
            ],
            [
             0.5,
             "#f7f7f7"
            ],
            [
             0.6,
             "#e6f5d0"
            ],
            [
             0.7,
             "#b8e186"
            ],
            [
             0.8,
             "#7fbc41"
            ],
            [
             0.9,
             "#4d9221"
            ],
            [
             1,
             "#276419"
            ]
           ],
           "sequential": [
            [
             0,
             "#0d0887"
            ],
            [
             0.1111111111111111,
             "#46039f"
            ],
            [
             0.2222222222222222,
             "#7201a8"
            ],
            [
             0.3333333333333333,
             "#9c179e"
            ],
            [
             0.4444444444444444,
             "#bd3786"
            ],
            [
             0.5555555555555556,
             "#d8576b"
            ],
            [
             0.6666666666666666,
             "#ed7953"
            ],
            [
             0.7777777777777778,
             "#fb9f3a"
            ],
            [
             0.8888888888888888,
             "#fdca26"
            ],
            [
             1,
             "#f0f921"
            ]
           ],
           "sequentialminus": [
            [
             0,
             "#0d0887"
            ],
            [
             0.1111111111111111,
             "#46039f"
            ],
            [
             0.2222222222222222,
             "#7201a8"
            ],
            [
             0.3333333333333333,
             "#9c179e"
            ],
            [
             0.4444444444444444,
             "#bd3786"
            ],
            [
             0.5555555555555556,
             "#d8576b"
            ],
            [
             0.6666666666666666,
             "#ed7953"
            ],
            [
             0.7777777777777778,
             "#fb9f3a"
            ],
            [
             0.8888888888888888,
             "#fdca26"
            ],
            [
             1,
             "#f0f921"
            ]
           ]
          },
          "colorway": [
           "#636efa",
           "#EF553B",
           "#00cc96",
           "#ab63fa",
           "#FFA15A",
           "#19d3f3",
           "#FF6692",
           "#B6E880",
           "#FF97FF",
           "#FECB52"
          ],
          "font": {
           "color": "#2a3f5f"
          },
          "geo": {
           "bgcolor": "white",
           "lakecolor": "white",
           "landcolor": "#E5ECF6",
           "showlakes": true,
           "showland": true,
           "subunitcolor": "white"
          },
          "hoverlabel": {
           "align": "left"
          },
          "hovermode": "closest",
          "mapbox": {
           "style": "light"
          },
          "paper_bgcolor": "white",
          "plot_bgcolor": "#E5ECF6",
          "polar": {
           "angularaxis": {
            "gridcolor": "white",
            "linecolor": "white",
            "ticks": ""
           },
           "bgcolor": "#E5ECF6",
           "radialaxis": {
            "gridcolor": "white",
            "linecolor": "white",
            "ticks": ""
           }
          },
          "scene": {
           "xaxis": {
            "backgroundcolor": "#E5ECF6",
            "gridcolor": "white",
            "gridwidth": 2,
            "linecolor": "white",
            "showbackground": true,
            "ticks": "",
            "zerolinecolor": "white"
           },
           "yaxis": {
            "backgroundcolor": "#E5ECF6",
            "gridcolor": "white",
            "gridwidth": 2,
            "linecolor": "white",
            "showbackground": true,
            "ticks": "",
            "zerolinecolor": "white"
           },
           "zaxis": {
            "backgroundcolor": "#E5ECF6",
            "gridcolor": "white",
            "gridwidth": 2,
            "linecolor": "white",
            "showbackground": true,
            "ticks": "",
            "zerolinecolor": "white"
           }
          },
          "shapedefaults": {
           "line": {
            "color": "#2a3f5f"
           }
          },
          "ternary": {
           "aaxis": {
            "gridcolor": "white",
            "linecolor": "white",
            "ticks": ""
           },
           "baxis": {
            "gridcolor": "white",
            "linecolor": "white",
            "ticks": ""
           },
           "bgcolor": "#E5ECF6",
           "caxis": {
            "gridcolor": "white",
            "linecolor": "white",
            "ticks": ""
           }
          },
          "title": {
           "x": 0.05
          },
          "xaxis": {
           "automargin": true,
           "gridcolor": "white",
           "linecolor": "white",
           "ticks": "",
           "title": {
            "standoff": 15
           },
           "zerolinecolor": "white",
           "zerolinewidth": 2
          },
          "yaxis": {
           "automargin": true,
           "gridcolor": "white",
           "linecolor": "white",
           "ticks": "",
           "title": {
            "standoff": 15
           },
           "zerolinecolor": "white",
           "zerolinewidth": 2
          }
         }
        },
        "xaxis": {
         "anchor": "y",
         "autorange": true,
         "domain": [
          0,
          1
         ],
         "range": [
          "2018-12-01 18:41:44.3478",
          "2020-12-04 05:18:15.6522"
         ],
         "title": {
          "text": "end_date"
         },
         "type": "date"
        },
        "yaxis": {
         "anchor": "x",
         "autorange": true,
         "domain": [
          0,
          1
         ],
         "range": [
          35.75994475138122,
          57.34005524861878
         ],
         "title": {
          "text": "pct"
         },
         "type": "linear"
        }
       }
      },
      "image/png": "[encoded data removed]",
      "text/html": [
       "<div>                            <div id=\"7fe32b32-b178-4232-a29f-3132862e64e5\" class=\"plotly-graph-div\" style=\"height:525px; width:100%;\"></div>            <script type=\"text/javascript\">                require([\"plotly\"], function(Plotly) {                    window.PLOTLYENV=window.PLOTLYENV || {};                                    if (document.getElementById(\"7fe32b32-b178-4232-a29f-3132862e64e5\")) {                    Plotly.newPlot(                        \"7fe32b32-b178-4232-a29f-3132862e64e5\",                        [{\"hovertemplate\": \"pollster=Data for Progress<br>end_date=%{x}<br>pct=%{y}<extra></extra>\", \"legendgroup\": \"Data for Progress\", \"marker\": {\"color\": \"#636efa\", \"symbol\": \"circle\"}, \"mode\": \"markers\", \"name\": \"Data for Progress\", \"orientation\": \"v\", \"showlegend\": true, \"type\": \"scatter\", \"x\": [\"2020-10-25T00:00:00\", \"2020-10-18T00:00:00\", \"2020-10-05T00:00:00\", \"2020-09-22T00:00:00\", \"2020-08-25T00:00:00\", \"2020-01-21T00:00:00\", \"2020-01-21T00:00:00\", \"2020-01-21T00:00:00\", \"2020-01-21T00:00:00\"], \"xaxis\": \"x\", \"y\": [48.0, 46.0, 45.0, 46.0, 45.0, 56.0, 54.0, 55.0, 56.0], \"yaxis\": \"y\"}, {\"hovertemplate\": \"pollster=Siena College/The New York Times Upshot<br>end_date=%{x}<br>pct=%{y}<extra></extra>\", \"legendgroup\": \"Siena College/The New York Times Upshot\", \"marker\": {\"color\": \"#EF553B\", \"symbol\": \"circle\"}, \"mode\": \"markers\", \"name\": \"Siena College/The New York Times Upshot\", \"orientation\": \"v\", \"showlegend\": true, \"type\": \"scatter\", \"x\": [\"2020-10-25T00:00:00\", \"2020-09-22T00:00:00\"], \"xaxis\": \"x\", \"y\": [47.0, 46.0], \"yaxis\": \"y\"}, {\"hovertemplate\": \"pollster=SurveyMonkey<br>end_date=%{x}<br>pct=%{y}<extra></extra>\", \"legendgroup\": \"SurveyMonkey\", \"marker\": {\"color\": \"#00cc96\", \"symbol\": \"circle\"}, \"mode\": \"markers\", \"name\": \"SurveyMonkey\", \"orientation\": \"v\", \"showlegend\": true, \"type\": \"scatter\", \"x\": [\"2020-10-25T00:00:00\", \"2020-10-25T00:00:00\", \"2020-10-24T00:00:00\", \"2020-10-24T00:00:00\", \"2020-10-23T00:00:00\", \"2020-10-23T00:00:00\", \"2020-10-22T00:00:00\", \"2020-10-22T00:00:00\", \"2020-10-21T00:00:00\", \"2020-10-21T00:00:00\", \"2020-10-20T00:00:00\", \"2020-10-20T00:00:00\", \"2020-10-19T00:00:00\", \"2020-10-19T00:00:00\", \"2020-10-18T00:00:00\", \"2020-10-18T00:00:00\", \"2020-10-17T00:00:00\", \"2020-10-17T00:00:00\", \"2020-10-16T00:00:00\", \"2020-10-16T00:00:00\", \"2020-10-15T00:00:00\", \"2020-10-15T00:00:00\", \"2020-10-14T00:00:00\", \"2020-10-14T00:00:00\", \"2020-10-13T00:00:00\", \"2020-10-13T00:00:00\", \"2020-10-12T00:00:00\", \"2020-10-12T00:00:00\", \"2020-09-30T00:00:00\", \"2020-09-30T00:00:00\", \"2020-08-31T00:00:00\", \"2020-08-31T00:00:00\", \"2020-07-31T00:00:00\", \"2020-07-31T00:00:00\", \"2020-06-30T00:00:00\", \"2020-06-30T00:00:00\"], \"xaxis\": \"x\", \"y\": [48.0, 50.0, 48.0, 51.0, 48.0, 51.0, 48.0, 51.0, 48.0, 51.0, 49.0, 51.0, 49.0, 51.0, 49.0, 51.0, 48.0, 51.0, 48.0, 51.0, 48.0, 51.0, 48.0, 51.0, 48.0, 51.0, 48.0, 50.0, 51.78, 48.54, 51.79, 48.46, 52.02, 48.49, 51.48, 47.5], \"yaxis\": \"y\"}, {\"hovertemplate\": \"pollster=University of Texas at Tyler<br>end_date=%{x}<br>pct=%{y}<extra></extra>\", \"legendgroup\": \"University of Texas at Tyler\", \"marker\": {\"color\": \"#ab63fa\", \"symbol\": \"circle\"}, \"mode\": \"markers\", \"name\": \"University of Texas at Tyler\", \"orientation\": \"v\", \"showlegend\": true, \"type\": \"scatter\", \"x\": [\"2020-10-20T00:00:00\", \"2020-10-20T00:00:00\", \"2020-09-02T00:00:00\", \"2020-09-02T00:00:00\", \"2020-07-07T00:00:00\", \"2020-07-07T00:00:00\", \"2020-04-27T00:00:00\", \"2020-02-26T00:00:00\", \"2020-02-26T00:00:00\", \"2020-02-26T00:00:00\", \"2020-02-26T00:00:00\", \"2020-02-26T00:00:00\", \"2020-02-26T00:00:00\", \"2020-01-30T00:00:00\", \"2020-01-30T00:00:00\", \"2020-01-30T00:00:00\", \"2020-01-30T00:00:00\", \"2020-01-30T00:00:00\", \"2020-01-30T00:00:00\", \"2020-01-30T00:00:00\", \"2019-11-14T00:00:00\", \"2019-11-14T00:00:00\", \"2019-11-14T00:00:00\", \"2019-11-14T00:00:00\", \"2019-11-14T00:00:00\", \"2019-11-14T00:00:00\", \"2019-09-15T00:00:00\", \"2019-09-15T00:00:00\", \"2019-09-15T00:00:00\", \"2019-09-15T00:00:00\", \"2019-09-15T00:00:00\", \"2019-09-15T00:00:00\", \"2019-08-04T00:00:00\", \"2019-08-04T00:00:00\", \"2019-08-04T00:00:00\", \"2019-08-04T00:00:00\", \"2019-08-04T00:00:00\", \"2019-08-04T00:00:00\", \"2019-07-27T00:00:00\", \"2019-07-27T00:00:00\", \"2019-07-27T00:00:00\", \"2019-07-27T00:00:00\", \"2019-07-27T00:00:00\", \"2019-07-27T00:00:00\"], \"xaxis\": \"x\", \"y\": [44.0, 45.0, 43.0, 48.0, 41.0, 43.0, 43.0, 47.0, 45.0, 45.0, 45.0, 45.0, 45.0, 46.0, 44.0, 45.0, 45.0, 46.0, 45.0, 46.0, 45.7, 44.5, 46.3, 44.2, 45.3, 45.2, 38.0, 39.5, 39.4, 39.6, 39.3, 39.7, 37.2, 38.8, 38.5, 37.7, 37.5, 37.3, 37.1, 38.2, 38.5, 37.3, 38.6, 37.6], \"yaxis\": \"y\"}, {\"hovertemplate\": \"pollster=YouGov<br>end_date=%{x}<br>pct=%{y}<extra></extra>\", \"legendgroup\": \"YouGov\", \"marker\": {\"color\": \"#FFA15A\", \"symbol\": \"circle\"}, \"mode\": \"markers\", \"name\": \"YouGov\", \"orientation\": \"v\", \"showlegend\": true, \"type\": \"scatter\", \"x\": [\"2020-10-20T00:00:00\", \"2020-10-04T00:00:00\", \"2020-09-18T00:00:00\", \"2020-08-13T00:00:00\", \"2020-07-10T00:00:00\", \"2020-06-29T00:00:00\", \"2020-04-19T00:00:00\", \"2020-02-09T00:00:00\", \"2020-02-09T00:00:00\", \"2020-02-09T00:00:00\", \"2020-02-09T00:00:00\", \"2020-02-09T00:00:00\", \"2020-02-09T00:00:00\", \"2020-02-09T00:00:00\", \"2019-10-27T00:00:00\", \"2019-10-27T00:00:00\", \"2019-10-27T00:00:00\", \"2019-10-27T00:00:00\", \"2019-10-27T00:00:00\"], \"xaxis\": \"x\", \"y\": [50.0, 50.0, 48.0, 47.5, 46.0, 48.0, 49.0, 47.0, 47.0, 47.0, 47.0, 46.0, 46.0, 45.0, 46.0, 46.0, 45.0, 47.0, 46.0], \"yaxis\": \"y\"}, {\"hovertemplate\": \"pollster=Morning Consult<br>end_date=%{x}<br>pct=%{y}<extra></extra>\", \"legendgroup\": \"Morning Consult\", \"marker\": {\"color\": \"#19d3f3\", \"symbol\": \"circle\"}, \"mode\": \"markers\", \"name\": \"Morning Consult\", \"orientation\": \"v\", \"showlegend\": true, \"type\": \"scatter\", \"x\": [\"2020-10-20T00:00:00\", \"2020-10-11T00:00:00\", \"2020-09-07T00:00:00\", \"2020-08-30T00:00:00\", \"2020-08-16T00:00:00\", \"2020-08-02T00:00:00\", \"2020-07-26T00:00:00\", \"2020-05-26T00:00:00\"], \"xaxis\": \"x\", \"y\": [47.0, 49.0, 46.0, 48.0, 47.0, 46.0, 45.0, 50.0], \"yaxis\": \"y\"}, {\"hovertemplate\": \"pollster=Quinnipiac University<br>end_date=%{x}<br>pct=%{y}<extra></extra>\", \"legendgroup\": \"Quinnipiac University\", \"marker\": {\"color\": \"#FF6692\", \"symbol\": \"circle\"}, \"mode\": \"markers\", \"name\": \"Quinnipiac University\", \"orientation\": \"v\", \"showlegend\": true, \"type\": \"scatter\", \"x\": [\"2020-10-19T00:00:00\", \"2020-09-21T00:00:00\", \"2020-07-20T00:00:00\", \"2020-06-01T00:00:00\", \"2019-06-04T00:00:00\", \"2019-06-04T00:00:00\", \"2019-06-04T00:00:00\", \"2019-06-04T00:00:00\", \"2019-06-04T00:00:00\", \"2019-06-04T00:00:00\", \"2019-06-04T00:00:00\", \"2019-02-25T00:00:00\", \"2019-02-25T00:00:00\", \"2019-02-25T00:00:00\", \"2019-02-25T00:00:00\", \"2019-02-25T00:00:00\", \"2019-02-25T00:00:00\"], \"xaxis\": \"x\", \"y\": [47.0, 50.0, 44.0, 44.0, 44.0, 47.0, 46.0, 47.0, 46.0, 48.0, 46.0, 47.0, 47.0, 47.0, 48.0, 48.0, 46.0], \"yaxis\": \"y\"}, {\"hovertemplate\": \"pollster=Public Policy Polling<br>end_date=%{x}<br>pct=%{y}<extra></extra>\", \"legendgroup\": \"Public Policy Polling\", \"marker\": {\"color\": \"#B6E880\", \"symbol\": \"circle\"}, \"mode\": \"markers\", \"name\": \"Public Policy Polling\", \"orientation\": \"v\", \"showlegend\": true, \"type\": \"scatter\", \"x\": [\"2020-10-08T00:00:00\", \"2020-09-26T00:00:00\", \"2020-09-02T00:00:00\", \"2020-08-22T00:00:00\", \"2020-06-25T00:00:00\", \"2020-06-19T00:00:00\", \"2020-06-04T00:00:00\", \"2020-04-28T00:00:00\", \"2019-02-14T00:00:00\", \"2019-02-14T00:00:00\"], \"xaxis\": \"x\", \"y\": [49.0, 48.0, 48.0, 47.0, 46.0, 48.0, 48.0, 46.0, 49.0, 49.0], \"yaxis\": \"y\"}, {\"hovertemplate\": \"pollster=Rasmussen Reports/Pulse Opinion Research<br>end_date=%{x}<br>pct=%{y}<extra></extra>\", \"legendgroup\": \"Rasmussen Reports/Pulse Opinion Research\", \"marker\": {\"color\": \"#FF97FF\", \"symbol\": \"circle\"}, \"mode\": \"markers\", \"name\": \"Rasmussen Reports/Pulse Opinion Research\", \"orientation\": \"v\", \"showlegend\": true, \"type\": \"scatter\", \"x\": [\"2020-10-06T00:00:00\"], \"xaxis\": \"x\", \"y\": [51.0], \"yaxis\": \"y\"}, {\"hovertemplate\": \"pollster=Civiqs<br>end_date=%{x}<br>pct=%{y}<extra></extra>\", \"legendgroup\": \"Civiqs\", \"marker\": {\"color\": \"#FECB52\", \"symbol\": \"circle\"}, \"mode\": \"markers\", \"name\": \"Civiqs\", \"orientation\": \"v\", \"showlegend\": true, \"type\": \"scatter\", \"x\": [\"2020-10-06T00:00:00\"], \"xaxis\": \"x\", \"y\": [48.0], \"yaxis\": \"y\"}, {\"hovertemplate\": \"pollster=EMC Research<br>end_date=%{x}<br>pct=%{y}<extra></extra>\", \"legendgroup\": \"EMC Research\", \"marker\": {\"color\": \"#636efa\", \"symbol\": \"circle\"}, \"mode\": \"markers\", \"name\": \"EMC Research\", \"orientation\": \"v\", \"showlegend\": true, \"type\": \"scatter\", \"x\": [\"2020-10-02T00:00:00\"], \"xaxis\": \"x\", \"y\": [49.0], \"yaxis\": \"y\"}, {\"hovertemplate\": \"pollster=Garin-Hart-Yang Research Group<br>end_date=%{x}<br>pct=%{y}<extra></extra>\", \"legendgroup\": \"Garin-Hart-Yang Research Group\", \"marker\": {\"color\": \"#EF553B\", \"symbol\": \"circle\"}, \"mode\": \"markers\", \"name\": \"Garin-Hart-Yang Research Group\", \"orientation\": \"v\", \"showlegend\": true, \"type\": \"scatter\", \"x\": [\"2020-09-27T00:00:00\"], \"xaxis\": \"x\", \"y\": [49.0], \"yaxis\": \"y\"}, {\"hovertemplate\": \"pollster=University of Massachusetts Lowell<br>end_date=%{x}<br>pct=%{y}<extra></extra>\", \"legendgroup\": \"University of Massachusetts Lowell\", \"marker\": {\"color\": \"#00cc96\", \"symbol\": \"circle\"}, \"mode\": \"markers\", \"name\": \"University of Massachusetts Lowell\", \"orientation\": \"v\", \"showlegend\": true, \"type\": \"scatter\", \"x\": [\"2020-09-25T00:00:00\", \"2020-09-25T00:00:00\"], \"xaxis\": \"x\", \"y\": [49.0, 50.0], \"yaxis\": \"y\"}, {\"hovertemplate\": \"pollster=The Tyson Group<br>end_date=%{x}<br>pct=%{y}<extra></extra>\", \"legendgroup\": \"The Tyson Group\", \"marker\": {\"color\": \"#ab63fa\", \"symbol\": \"circle\"}, \"mode\": \"markers\", \"name\": \"The Tyson Group\", \"orientation\": \"v\", \"showlegend\": true, \"type\": \"scatter\", \"x\": [\"2020-08-25T00:00:00\"], \"xaxis\": \"x\", \"y\": [44.0], \"yaxis\": \"y\"}, {\"hovertemplate\": \"pollster=Global Strategy Group<br>end_date=%{x}<br>pct=%{y}<extra></extra>\", \"legendgroup\": \"Global Strategy Group\", \"marker\": {\"color\": \"#FFA15A\", \"symbol\": \"circle\"}, \"mode\": \"markers\", \"name\": \"Global Strategy Group\", \"orientation\": \"v\", \"showlegend\": true, \"type\": \"scatter\", \"x\": [\"2020-08-13T00:00:00\"], \"xaxis\": \"x\", \"y\": [45.0], \"yaxis\": \"y\"}, {\"hovertemplate\": \"pollster=Trafalgar Group<br>end_date=%{x}<br>pct=%{y}<extra></extra>\", \"legendgroup\": \"Trafalgar Group\", \"marker\": {\"color\": \"#19d3f3\", \"symbol\": \"circle\"}, \"mode\": \"markers\", \"name\": \"Trafalgar Group\", \"orientation\": \"v\", \"showlegend\": true, \"type\": \"scatter\", \"x\": [\"2020-08-05T00:00:00\"], \"xaxis\": \"x\", \"y\": [49.4], \"yaxis\": \"y\"}, {\"hovertemplate\": \"pollster=Spry Strategies<br>end_date=%{x}<br>pct=%{y}<extra></extra>\", \"legendgroup\": \"Spry Strategies\", \"marker\": {\"color\": \"#FF6692\", \"symbol\": \"circle\"}, \"mode\": \"markers\", \"name\": \"Spry Strategies\", \"orientation\": \"v\", \"showlegend\": true, \"type\": \"scatter\", \"x\": [\"2020-07-20T00:00:00\"], \"xaxis\": \"x\", \"y\": [49.45], \"yaxis\": \"y\"}, {\"hovertemplate\": \"pollster=Gravis Marketing<br>end_date=%{x}<br>pct=%{y}<extra></extra>\", \"legendgroup\": \"Gravis Marketing\", \"marker\": {\"color\": \"#B6E880\", \"symbol\": \"circle\"}, \"mode\": \"markers\", \"name\": \"Gravis Marketing\", \"orientation\": \"v\", \"showlegend\": true, \"type\": \"scatter\", \"x\": [\"2020-07-07T00:00:00\"], \"xaxis\": \"x\", \"y\": [46.0], \"yaxis\": \"y\"}, {\"hovertemplate\": \"pollster=Fox News/Beacon Research/Shaw & Co. Research<br>end_date=%{x}<br>pct=%{y}<extra></extra>\", \"legendgroup\": \"Fox News/Beacon Research/Shaw & Co. Research\", \"marker\": {\"color\": \"#FF97FF\", \"symbol\": \"circle\"}, \"mode\": \"markers\", \"name\": \"Fox News/Beacon Research/Shaw & Co. Research\", \"orientation\": \"v\", \"showlegend\": true, \"type\": \"scatter\", \"x\": [\"2020-06-23T00:00:00\"], \"xaxis\": \"x\", \"y\": [44.0], \"yaxis\": \"y\"}, {\"hovertemplate\": \"pollster=Emerson College<br>end_date=%{x}<br>pct=%{y}<extra></extra>\", \"legendgroup\": \"Emerson College\", \"marker\": {\"color\": \"#FECB52\", \"symbol\": \"circle\"}, \"mode\": \"markers\", \"name\": \"Emerson College\", \"orientation\": \"v\", \"showlegend\": true, \"type\": \"scatter\", \"x\": [\"2020-05-10T00:00:00\", \"2019-08-03T00:00:00\", \"2019-08-03T00:00:00\", \"2019-08-03T00:00:00\", \"2019-08-03T00:00:00\", \"2019-08-03T00:00:00\", \"2019-08-03T00:00:00\", \"2019-08-03T00:00:00\", \"2019-04-28T00:00:00\", \"2019-04-28T00:00:00\", \"2019-04-28T00:00:00\", \"2019-04-28T00:00:00\", \"2019-04-28T00:00:00\", \"2019-04-28T00:00:00\"], \"xaxis\": \"x\", \"y\": [51.69, 49.2, 49.4, 51.9, 52.0, 52.4, 52.8, 53.8, 49.5, 49.7, 51.1, 54.2, 53.1, 53.7], \"yaxis\": \"y\"}, {\"hovertemplate\": \"pollster=AtlasIntel<br>end_date=%{x}<br>pct=%{y}<extra></extra>\", \"legendgroup\": \"AtlasIntel\", \"marker\": {\"color\": \"#636efa\", \"symbol\": \"circle\"}, \"mode\": \"markers\", \"name\": \"AtlasIntel\", \"orientation\": \"v\", \"showlegend\": true, \"type\": \"scatter\", \"x\": [\"2020-03-02T00:00:00\", \"2020-03-02T00:00:00\", \"2020-03-02T00:00:00\", \"2020-03-02T00:00:00\"], \"xaxis\": \"x\", \"y\": [48.7, 48.8, 46.5, 47.8], \"yaxis\": \"y\"}, {\"hovertemplate\": \"pollster=Marist College<br>end_date=%{x}<br>pct=%{y}<extra></extra>\", \"legendgroup\": \"Marist College\", \"marker\": {\"color\": \"#EF553B\", \"symbol\": \"circle\"}, \"mode\": \"markers\", \"name\": \"Marist College\", \"orientation\": \"v\", \"showlegend\": true, \"type\": \"scatter\", \"x\": [\"2020-02-27T00:00:00\", \"2020-02-27T00:00:00\"], \"xaxis\": \"x\", \"y\": [49.0, 49.0], \"yaxis\": \"y\"}, {\"hovertemplate\": \"pollster=SSRS<br>end_date=%{x}<br>pct=%{y}<extra></extra>\", \"legendgroup\": \"SSRS\", \"marker\": {\"color\": \"#00cc96\", \"symbol\": \"circle\"}, \"mode\": \"markers\", \"name\": \"SSRS\", \"orientation\": \"v\", \"showlegend\": true, \"type\": \"scatter\", \"x\": [\"2020-02-26T00:00:00\", \"2020-02-26T00:00:00\", \"2020-02-26T00:00:00\", \"2020-02-26T00:00:00\", \"2020-02-26T00:00:00\", \"2020-02-26T00:00:00\", \"2019-12-09T00:00:00\", \"2019-12-09T00:00:00\", \"2019-12-09T00:00:00\", \"2019-12-09T00:00:00\"], \"xaxis\": \"x\", \"y\": [47.0, 47.0, 48.0, 48.0, 48.0, 47.0, 48.0, 50.0, 50.0, 51.0], \"yaxis\": \"y\"}, {\"hovertemplate\": \"pollster=Univision/University of Houston/Latino Decisions<br>end_date=%{x}<br>pct=%{y}<extra></extra>\", \"legendgroup\": \"Univision/University of Houston/Latino Decisions\", \"marker\": {\"color\": \"#ab63fa\", \"symbol\": \"circle\"}, \"mode\": \"markers\", \"name\": \"Univision/University of Houston/Latino Decisions\", \"orientation\": \"v\", \"showlegend\": true, \"type\": \"scatter\", \"x\": [\"2020-02-26T00:00:00\", \"2020-02-26T00:00:00\", \"2020-02-26T00:00:00\", \"2020-02-26T00:00:00\", \"2020-02-26T00:00:00\", \"2020-02-26T00:00:00\"], \"xaxis\": \"x\", \"y\": [46.0, 45.0, 48.0, 46.0, 43.0, 46.0], \"yaxis\": \"y\"}, {\"hovertemplate\": \"pollster=Texas Lyceum<br>end_date=%{x}<br>pct=%{y}<extra></extra>\", \"legendgroup\": \"Texas Lyceum\", \"marker\": {\"color\": \"#FFA15A\", \"symbol\": \"circle\"}, \"mode\": \"markers\", \"name\": \"Texas Lyceum\", \"orientation\": \"v\", \"showlegend\": true, \"type\": \"scatter\", \"x\": [\"2020-01-19T00:00:00\", \"2020-01-19T00:00:00\", \"2020-01-19T00:00:00\", \"2020-01-19T00:00:00\"], \"xaxis\": \"x\", \"y\": [51.0, 50.0, 50.0, 51.0], \"yaxis\": \"y\"}, {\"hovertemplate\": \"pollster=Beacon Research<br>end_date=%{x}<br>pct=%{y}<extra></extra>\", \"legendgroup\": \"Beacon Research\", \"marker\": {\"color\": \"#19d3f3\", \"symbol\": \"circle\"}, \"mode\": \"markers\", \"name\": \"Beacon Research\", \"orientation\": \"v\", \"showlegend\": true, \"type\": \"scatter\", \"x\": [\"2019-11-21T00:00:00\", \"2019-11-21T00:00:00\"], \"xaxis\": \"x\", \"y\": [45.0, 46.0], \"yaxis\": \"y\"}, {\"hovertemplate\": \"pollster=Univision/University of Houston/Latino Decisions/North Star Opinion Research<br>end_date=%{x}<br>pct=%{y}<extra></extra>\", \"legendgroup\": \"Univision/University of Houston/Latino Decisions/North Star Opinion Research\", \"marker\": {\"color\": \"#FF6692\", \"symbol\": \"circle\"}, \"mode\": \"markers\", \"name\": \"Univision/University of Houston/Latino Decisions/North Star Opinion Research\", \"orientation\": \"v\", \"showlegend\": true, \"type\": \"scatter\", \"x\": [\"2019-09-06T00:00:00\", \"2019-09-06T00:00:00\", \"2019-09-06T00:00:00\", \"2019-09-06T00:00:00\", \"2019-09-06T00:00:00\", \"2019-09-06T00:00:00\"], \"xaxis\": \"x\", \"y\": [43.0, 42.0, 42.0, 44.0, 41.0, 41.0], \"yaxis\": \"y\"}, {\"hovertemplate\": \"pollster=Climate Nexus<br>end_date=%{x}<br>pct=%{y}<extra></extra>\", \"legendgroup\": \"Climate Nexus\", \"marker\": {\"color\": \"#B6E880\", \"symbol\": \"circle\"}, \"mode\": \"markers\", \"name\": \"Climate Nexus\", \"orientation\": \"v\", \"showlegend\": true, \"type\": \"scatter\", \"x\": [\"2019-08-25T00:00:00\", \"2019-08-25T00:00:00\", \"2019-08-25T00:00:00\", \"2019-08-25T00:00:00\", \"2019-08-25T00:00:00\", \"2019-08-25T00:00:00\", \"2019-08-25T00:00:00\"], \"xaxis\": \"x\", \"y\": [43.0, 45.0, 45.0, 45.0, 44.0, 45.0, 45.0], \"yaxis\": \"y\"}, {\"hovertemplate\": \"pollster=WPA Intelligence (WPAi)<br>end_date=%{x}<br>pct=%{y}<extra></extra>\", \"legendgroup\": \"WPA Intelligence (WPAi)\", \"marker\": {\"color\": \"#FF97FF\", \"symbol\": \"circle\"}, \"mode\": \"markers\", \"name\": \"WPA Intelligence (WPAi)\", \"orientation\": \"v\", \"showlegend\": true, \"type\": \"scatter\", \"x\": [\"2019-04-30T00:00:00\"], \"xaxis\": \"x\", \"y\": [49.0], \"yaxis\": \"y\"}, {\"hovertemplate\": \"pollster=Neighborhood Research and Media<br>end_date=%{x}<br>pct=%{y}<extra></extra>\", \"legendgroup\": \"Neighborhood Research and Media\", \"marker\": {\"color\": \"#FECB52\", \"symbol\": \"circle\"}, \"mode\": \"markers\", \"name\": \"Neighborhood Research and Media\", \"orientation\": \"v\", \"showlegend\": true, \"type\": \"scatter\", \"x\": [\"2019-01-11T00:00:00\"], \"xaxis\": \"x\", \"y\": [52.0], \"yaxis\": \"y\"}],                        {\"legend\": {\"title\": {\"text\": \"pollster\"}, \"tracegroupgap\": 0}, \"margin\": {\"t\": 60}, \"template\": {\"data\": {\"bar\": [{\"error_x\": {\"color\": \"#2a3f5f\"}, \"error_y\": {\"color\": \"#2a3f5f\"}, \"marker\": {\"line\": {\"color\": \"#E5ECF6\", \"width\": 0.5}}, \"type\": \"bar\"}], \"barpolar\": [{\"marker\": {\"line\": {\"color\": \"#E5ECF6\", \"width\": 0.5}}, \"type\": \"barpolar\"}], \"carpet\": [{\"aaxis\": {\"endlinecolor\": \"#2a3f5f\", \"gridcolor\": \"white\", \"linecolor\": \"white\", \"minorgridcolor\": \"white\", \"startlinecolor\": \"#2a3f5f\"}, \"baxis\": {\"endlinecolor\": \"#2a3f5f\", \"gridcolor\": \"white\", \"linecolor\": \"white\", \"minorgridcolor\": \"white\", \"startlinecolor\": \"#2a3f5f\"}, \"type\": \"carpet\"}], \"choropleth\": [{\"colorbar\": {\"outlinewidth\": 0, \"ticks\": \"\"}, \"type\": \"choropleth\"}], \"contour\": [{\"colorbar\": {\"outlinewidth\": 0, \"ticks\": \"\"}, \"colorscale\": [[0.0, \"#0d0887\"], [0.1111111111111111, \"#46039f\"], [0.2222222222222222, \"#7201a8\"], [0.3333333333333333, \"#9c179e\"], [0.4444444444444444, \"#bd3786\"], [0.5555555555555556, \"#d8576b\"], [0.6666666666666666, \"#ed7953\"], [0.7777777777777778, \"#fb9f3a\"], [0.8888888888888888, \"#fdca26\"], [1.0, \"#f0f921\"]], \"type\": \"contour\"}], \"contourcarpet\": [{\"colorbar\": {\"outlinewidth\": 0, \"ticks\": \"\"}, \"type\": \"contourcarpet\"}], \"heatmap\": [{\"colorbar\": {\"outlinewidth\": 0, \"ticks\": \"\"}, \"colorscale\": [[0.0, \"#0d0887\"], [0.1111111111111111, \"#46039f\"], [0.2222222222222222, \"#7201a8\"], [0.3333333333333333, \"#9c179e\"], [0.4444444444444444, \"#bd3786\"], [0.5555555555555556, \"#d8576b\"], [0.6666666666666666, \"#ed7953\"], [0.7777777777777778, \"#fb9f3a\"], [0.8888888888888888, \"#fdca26\"], [1.0, \"#f0f921\"]], \"type\": \"heatmap\"}], \"heatmapgl\": [{\"colorbar\": {\"outlinewidth\": 0, \"ticks\": \"\"}, \"colorscale\": [[0.0, \"#0d0887\"], [0.1111111111111111, \"#46039f\"], [0.2222222222222222, \"#7201a8\"], [0.3333333333333333, \"#9c179e\"], [0.4444444444444444, \"#bd3786\"], [0.5555555555555556, \"#d8576b\"], [0.6666666666666666, \"#ed7953\"], [0.7777777777777778, \"#fb9f3a\"], [0.8888888888888888, \"#fdca26\"], [1.0, \"#f0f921\"]], \"type\": \"heatmapgl\"}], \"histogram\": [{\"marker\": {\"colorbar\": {\"outlinewidth\": 0, \"ticks\": \"\"}}, \"type\": \"histogram\"}], \"histogram2d\": [{\"colorbar\": {\"outlinewidth\": 0, \"ticks\": \"\"}, \"colorscale\": [[0.0, \"#0d0887\"], [0.1111111111111111, \"#46039f\"], [0.2222222222222222, \"#7201a8\"], [0.3333333333333333, \"#9c179e\"], [0.4444444444444444, \"#bd3786\"], [0.5555555555555556, \"#d8576b\"], [0.6666666666666666, \"#ed7953\"], [0.7777777777777778, \"#fb9f3a\"], [0.8888888888888888, \"#fdca26\"], [1.0, \"#f0f921\"]], \"type\": \"histogram2d\"}], \"histogram2dcontour\": [{\"colorbar\": {\"outlinewidth\": 0, \"ticks\": \"\"}, \"colorscale\": [[0.0, \"#0d0887\"], [0.1111111111111111, \"#46039f\"], [0.2222222222222222, \"#7201a8\"], [0.3333333333333333, \"#9c179e\"], [0.4444444444444444, \"#bd3786\"], [0.5555555555555556, \"#d8576b\"], [0.6666666666666666, \"#ed7953\"], [0.7777777777777778, \"#fb9f3a\"], [0.8888888888888888, \"#fdca26\"], [1.0, \"#f0f921\"]], \"type\": \"histogram2dcontour\"}], \"mesh3d\": [{\"colorbar\": {\"outlinewidth\": 0, \"ticks\": \"\"}, \"type\": \"mesh3d\"}], \"parcoords\": [{\"line\": {\"colorbar\": {\"outlinewidth\": 0, \"ticks\": \"\"}}, \"type\": \"parcoords\"}], \"pie\": [{\"automargin\": true, \"type\": \"pie\"}], \"scatter\": [{\"marker\": {\"colorbar\": {\"outlinewidth\": 0, \"ticks\": \"\"}}, \"type\": \"scatter\"}], \"scatter3d\": [{\"line\": {\"colorbar\": {\"outlinewidth\": 0, \"ticks\": \"\"}}, \"marker\": {\"colorbar\": {\"outlinewidth\": 0, \"ticks\": \"\"}}, \"type\": \"scatter3d\"}], \"scattercarpet\": [{\"marker\": {\"colorbar\": {\"outlinewidth\": 0, \"ticks\": \"\"}}, \"type\": \"scattercarpet\"}], \"scattergeo\": [{\"marker\": {\"colorbar\": {\"outlinewidth\": 0, \"ticks\": \"\"}}, \"type\": \"scattergeo\"}], \"scattergl\": [{\"marker\": {\"colorbar\": {\"outlinewidth\": 0, \"ticks\": \"\"}}, \"type\": \"scattergl\"}], \"scattermapbox\": [{\"marker\": {\"colorbar\": {\"outlinewidth\": 0, \"ticks\": \"\"}}, \"type\": \"scattermapbox\"}], \"scatterpolar\": [{\"marker\": {\"colorbar\": {\"outlinewidth\": 0, \"ticks\": \"\"}}, \"type\": \"scatterpolar\"}], \"scatterpolargl\": [{\"marker\": {\"colorbar\": {\"outlinewidth\": 0, \"ticks\": \"\"}}, \"type\": \"scatterpolargl\"}], \"scatterternary\": [{\"marker\": {\"colorbar\": {\"outlinewidth\": 0, \"ticks\": \"\"}}, \"type\": \"scatterternary\"}], \"surface\": [{\"colorbar\": {\"outlinewidth\": 0, \"ticks\": \"\"}, \"colorscale\": [[0.0, \"#0d0887\"], [0.1111111111111111, \"#46039f\"], [0.2222222222222222, \"#7201a8\"], [0.3333333333333333, \"#9c179e\"], [0.4444444444444444, \"#bd3786\"], [0.5555555555555556, \"#d8576b\"], [0.6666666666666666, \"#ed7953\"], [0.7777777777777778, \"#fb9f3a\"], [0.8888888888888888, \"#fdca26\"], [1.0, \"#f0f921\"]], \"type\": \"surface\"}], \"table\": [{\"cells\": {\"fill\": {\"color\": \"#EBF0F8\"}, \"line\": {\"color\": \"white\"}}, \"header\": {\"fill\": {\"color\": \"#C8D4E3\"}, \"line\": {\"color\": \"white\"}}, \"type\": \"table\"}]}, \"layout\": {\"annotationdefaults\": {\"arrowcolor\": \"#2a3f5f\", \"arrowhead\": 0, \"arrowwidth\": 1}, \"coloraxis\": {\"colorbar\": {\"outlinewidth\": 0, \"ticks\": \"\"}}, \"colorscale\": {\"diverging\": [[0, \"#8e0152\"], [0.1, \"#c51b7d\"], [0.2, \"#de77ae\"], [0.3, \"#f1b6da\"], [0.4, \"#fde0ef\"], [0.5, \"#f7f7f7\"], [0.6, \"#e6f5d0\"], [0.7, \"#b8e186\"], [0.8, \"#7fbc41\"], [0.9, \"#4d9221\"], [1, \"#276419\"]], \"sequential\": [[0.0, \"#0d0887\"], [0.1111111111111111, \"#46039f\"], [0.2222222222222222, \"#7201a8\"], [0.3333333333333333, \"#9c179e\"], [0.4444444444444444, \"#bd3786\"], [0.5555555555555556, \"#d8576b\"], [0.6666666666666666, \"#ed7953\"], [0.7777777777777778, \"#fb9f3a\"], [0.8888888888888888, \"#fdca26\"], [1.0, \"#f0f921\"]], \"sequentialminus\": [[0.0, \"#0d0887\"], [0.1111111111111111, \"#46039f\"], [0.2222222222222222, \"#7201a8\"], [0.3333333333333333, \"#9c179e\"], [0.4444444444444444, \"#bd3786\"], [0.5555555555555556, \"#d8576b\"], [0.6666666666666666, \"#ed7953\"], [0.7777777777777778, \"#fb9f3a\"], [0.8888888888888888, \"#fdca26\"], [1.0, \"#f0f921\"]]}, \"colorway\": [\"#636efa\", \"#EF553B\", \"#00cc96\", \"#ab63fa\", \"#FFA15A\", \"#19d3f3\", \"#FF6692\", \"#B6E880\", \"#FF97FF\", \"#FECB52\"], \"font\": {\"color\": \"#2a3f5f\"}, \"geo\": {\"bgcolor\": \"white\", \"lakecolor\": \"white\", \"landcolor\": \"#E5ECF6\", \"showlakes\": true, \"showland\": true, \"subunitcolor\": \"white\"}, \"hoverlabel\": {\"align\": \"left\"}, \"hovermode\": \"closest\", \"mapbox\": {\"style\": \"light\"}, \"paper_bgcolor\": \"white\", \"plot_bgcolor\": \"#E5ECF6\", \"polar\": {\"angularaxis\": {\"gridcolor\": \"white\", \"linecolor\": \"white\", \"ticks\": \"\"}, \"bgcolor\": \"#E5ECF6\", \"radialaxis\": {\"gridcolor\": \"white\", \"linecolor\": \"white\", \"ticks\": \"\"}}, \"scene\": {\"xaxis\": {\"backgroundcolor\": \"#E5ECF6\", \"gridcolor\": \"white\", \"gridwidth\": 2, \"linecolor\": \"white\", \"showbackground\": true, \"ticks\": \"\", \"zerolinecolor\": \"white\"}, \"yaxis\": {\"backgroundcolor\": \"#E5ECF6\", \"gridcolor\": \"white\", \"gridwidth\": 2, \"linecolor\": \"white\", \"showbackground\": true, \"ticks\": \"\", \"zerolinecolor\": \"white\"}, \"zaxis\": {\"backgroundcolor\": \"#E5ECF6\", \"gridcolor\": \"white\", \"gridwidth\": 2, \"linecolor\": \"white\", \"showbackground\": true, \"ticks\": \"\", \"zerolinecolor\": \"white\"}}, \"shapedefaults\": {\"line\": {\"color\": \"#2a3f5f\"}}, \"ternary\": {\"aaxis\": {\"gridcolor\": \"white\", \"linecolor\": \"white\", \"ticks\": \"\"}, \"baxis\": {\"gridcolor\": \"white\", \"linecolor\": \"white\", \"ticks\": \"\"}, \"bgcolor\": \"#E5ECF6\", \"caxis\": {\"gridcolor\": \"white\", \"linecolor\": \"white\", \"ticks\": \"\"}}, \"title\": {\"x\": 0.05}, \"xaxis\": {\"automargin\": true, \"gridcolor\": \"white\", \"linecolor\": \"white\", \"ticks\": \"\", \"title\": {\"standoff\": 15}, \"zerolinecolor\": \"white\", \"zerolinewidth\": 2}, \"yaxis\": {\"automargin\": true, \"gridcolor\": \"white\", \"linecolor\": \"white\", \"ticks\": \"\", \"title\": {\"standoff\": 15}, \"zerolinecolor\": \"white\", \"zerolinewidth\": 2}}}, \"xaxis\": {\"anchor\": \"y\", \"domain\": [0.0, 1.0], \"title\": {\"text\": \"end_date\"}}, \"yaxis\": {\"anchor\": \"x\", \"domain\": [0.0, 1.0], \"title\": {\"text\": \"pct\"}}},                        {\"responsive\": true}                    ).then(function(){\n",
       "                            \n",
       "var gd = document.getElementById('7fe32b32-b178-4232-a29f-3132862e64e5');\n",
       "var x = new MutationObserver(function (mutations, observer) {{\n",
       "        var display = window.getComputedStyle(gd).display;\n",
       "        if (!display || display === 'none') {{\n",
       "            console.log([gd, 'removed!']);\n",
       "            Plotly.purge(gd);\n",
       "            observer.disconnect();\n",
       "        }}\n",
       "}});\n",
       "\n",
       "// Listen for the removal of the full notebook cells\n",
       "var notebookContainer = gd.closest('#notebook-container');\n",
       "if (notebookContainer) {{\n",
       "    x.observe(notebookContainer, {childList: true});\n",
       "}}\n",
       "\n",
       "// Listen for the clearing of the current output cell\n",
       "var outputEl = gd.closest('.output');\n",
       "if (outputEl) {{\n",
       "    x.observe(outputEl, {childList: true});\n",
       "}}\n",
       "\n",
       "                        })                };                });            </script>        </div>"
      ]
     },
     "metadata": {},
     "output_type": "display_data"
    }
   ],
   "source": [
    "djt_tx_scatter = px.scatter(djt_texas, y=\"pct\", x=\"end_date\", color=\"pollster\")\n",
    "djt_tx_scatter.show()"
   ]
  },
  {
   "cell_type": "markdown",
   "metadata": {},
   "source": [
    "# Joe Biden"
   ]
  },
  {
   "cell_type": "code",
   "execution_count": 10,
   "metadata": {},
   "outputs": [
    {
     "data": {
      "text/html": [
       "<div>\n",
       "<style scoped>\n",
       "    .dataframe tbody tr th:only-of-type {\n",
       "        vertical-align: middle;\n",
       "    }\n",
       "\n",
       "    .dataframe tbody tr th {\n",
       "        vertical-align: top;\n",
       "    }\n",
       "\n",
       "    .dataframe thead th {\n",
       "        text-align: right;\n",
       "    }\n",
       "</style>\n",
       "<table border=\"1\" class=\"dataframe\">\n",
       "  <thead>\n",
       "    <tr style=\"text-align: right;\">\n",
       "      <th></th>\n",
       "      <th>cycle</th>\n",
       "      <th>state</th>\n",
       "      <th>pollster</th>\n",
       "      <th>sponsors</th>\n",
       "      <th>display_name</th>\n",
       "      <th>pollster_rating_id</th>\n",
       "      <th>pollster_rating_name</th>\n",
       "      <th>fte_grade</th>\n",
       "      <th>sample_size</th>\n",
       "      <th>population</th>\n",
       "      <th>population_full</th>\n",
       "      <th>methodology</th>\n",
       "      <th>start_date</th>\n",
       "      <th>end_date</th>\n",
       "      <th>stage</th>\n",
       "      <th>race_id</th>\n",
       "      <th>answer</th>\n",
       "      <th>candidate_name</th>\n",
       "      <th>candidate_party</th>\n",
       "      <th>pct</th>\n",
       "    </tr>\n",
       "  </thead>\n",
       "  <tbody>\n",
       "    <tr>\n",
       "      <th>0</th>\n",
       "      <td>2020.0</td>\n",
       "      <td>South Carolina</td>\n",
       "      <td>Starboard Communications</td>\n",
       "      <td>NaN</td>\n",
       "      <td>Starboard Communications</td>\n",
       "      <td>316.0</td>\n",
       "      <td>Starboard Communications</td>\n",
       "      <td>B/C</td>\n",
       "      <td>800.0</td>\n",
       "      <td>lv</td>\n",
       "      <td>lv</td>\n",
       "      <td>NaN</td>\n",
       "      <td>10/26/20</td>\n",
       "      <td>10/26/20</td>\n",
       "      <td>general</td>\n",
       "      <td>6251.0</td>\n",
       "      <td>Biden</td>\n",
       "      <td>Joseph R. Biden Jr.</td>\n",
       "      <td>DEM</td>\n",
       "      <td>43.9</td>\n",
       "    </tr>\n",
       "    <tr>\n",
       "      <th>1</th>\n",
       "      <td>2020.0</td>\n",
       "      <td>Pennsylvania</td>\n",
       "      <td>Civiqs</td>\n",
       "      <td>Daily Kos</td>\n",
       "      <td>Civiqs</td>\n",
       "      <td>471.0</td>\n",
       "      <td>Civiqs</td>\n",
       "      <td>B/C</td>\n",
       "      <td>1145.0</td>\n",
       "      <td>lv</td>\n",
       "      <td>lv</td>\n",
       "      <td>Online</td>\n",
       "      <td>10/23/20</td>\n",
       "      <td>10/26/20</td>\n",
       "      <td>general</td>\n",
       "      <td>6249.0</td>\n",
       "      <td>Biden</td>\n",
       "      <td>Joseph R. Biden Jr.</td>\n",
       "      <td>DEM</td>\n",
       "      <td>52.0</td>\n",
       "    </tr>\n",
       "    <tr>\n",
       "      <th>2</th>\n",
       "      <td>2020.0</td>\n",
       "      <td>Georgia</td>\n",
       "      <td>Civiqs</td>\n",
       "      <td>Daily Kos</td>\n",
       "      <td>Civiqs</td>\n",
       "      <td>471.0</td>\n",
       "      <td>Civiqs</td>\n",
       "      <td>B/C</td>\n",
       "      <td>1041.0</td>\n",
       "      <td>lv</td>\n",
       "      <td>lv</td>\n",
       "      <td>Online</td>\n",
       "      <td>10/23/20</td>\n",
       "      <td>10/26/20</td>\n",
       "      <td>general</td>\n",
       "      <td>6221.0</td>\n",
       "      <td>Biden</td>\n",
       "      <td>Joseph R. Biden Jr.</td>\n",
       "      <td>DEM</td>\n",
       "      <td>51.0</td>\n",
       "    </tr>\n",
       "    <tr>\n",
       "      <th>3</th>\n",
       "      <td>2020.0</td>\n",
       "      <td>Mississippi</td>\n",
       "      <td>Civiqs</td>\n",
       "      <td>Daily Kos</td>\n",
       "      <td>Civiqs</td>\n",
       "      <td>471.0</td>\n",
       "      <td>Civiqs</td>\n",
       "      <td>B/C</td>\n",
       "      <td>507.0</td>\n",
       "      <td>lv</td>\n",
       "      <td>lv</td>\n",
       "      <td>Online</td>\n",
       "      <td>10/23/20</td>\n",
       "      <td>10/26/20</td>\n",
       "      <td>general</td>\n",
       "      <td>6236.0</td>\n",
       "      <td>Biden</td>\n",
       "      <td>Joseph R. Biden Jr.</td>\n",
       "      <td>DEM</td>\n",
       "      <td>41.0</td>\n",
       "    </tr>\n",
       "    <tr>\n",
       "      <th>4</th>\n",
       "      <td>2020.0</td>\n",
       "      <td>NaN</td>\n",
       "      <td>IBD/TIPP</td>\n",
       "      <td>NaN</td>\n",
       "      <td>IBD/TIPP</td>\n",
       "      <td>144.0</td>\n",
       "      <td>IBD/TIPP</td>\n",
       "      <td>A/B</td>\n",
       "      <td>970.0</td>\n",
       "      <td>lv</td>\n",
       "      <td>lv</td>\n",
       "      <td>Live Phone/Online</td>\n",
       "      <td>10/22/20</td>\n",
       "      <td>10/26/20</td>\n",
       "      <td>general</td>\n",
       "      <td>6210.0</td>\n",
       "      <td>Biden</td>\n",
       "      <td>Joseph R. Biden Jr.</td>\n",
       "      <td>DEM</td>\n",
       "      <td>50.7</td>\n",
       "    </tr>\n",
       "    <tr>\n",
       "      <th>5</th>\n",
       "      <td>2020.0</td>\n",
       "      <td>NaN</td>\n",
       "      <td>IBD/TIPP</td>\n",
       "      <td>NaN</td>\n",
       "      <td>IBD/TIPP</td>\n",
       "      <td>144.0</td>\n",
       "      <td>IBD/TIPP</td>\n",
       "      <td>A/B</td>\n",
       "      <td>970.0</td>\n",
       "      <td>lv</td>\n",
       "      <td>lv</td>\n",
       "      <td>Live Phone/Online</td>\n",
       "      <td>10/22/20</td>\n",
       "      <td>10/26/20</td>\n",
       "      <td>general</td>\n",
       "      <td>6210.0</td>\n",
       "      <td>Biden</td>\n",
       "      <td>Joseph R. Biden Jr.</td>\n",
       "      <td>DEM</td>\n",
       "      <td>50.4</td>\n",
       "    </tr>\n",
       "    <tr>\n",
       "      <th>6</th>\n",
       "      <td>2020.0</td>\n",
       "      <td>Wisconsin</td>\n",
       "      <td>Ipsos</td>\n",
       "      <td>Reuters</td>\n",
       "      <td>Ipsos</td>\n",
       "      <td>154.0</td>\n",
       "      <td>Ipsos</td>\n",
       "      <td>B-</td>\n",
       "      <td>664.0</td>\n",
       "      <td>lv</td>\n",
       "      <td>lv</td>\n",
       "      <td>Online</td>\n",
       "      <td>10/20/20</td>\n",
       "      <td>10/26/20</td>\n",
       "      <td>general</td>\n",
       "      <td>6259.0</td>\n",
       "      <td>Biden</td>\n",
       "      <td>Joseph R. Biden Jr.</td>\n",
       "      <td>DEM</td>\n",
       "      <td>53.0</td>\n",
       "    </tr>\n",
       "    <tr>\n",
       "      <th>7</th>\n",
       "      <td>2020.0</td>\n",
       "      <td>Wisconsin</td>\n",
       "      <td>Ipsos</td>\n",
       "      <td>Reuters</td>\n",
       "      <td>Ipsos</td>\n",
       "      <td>154.0</td>\n",
       "      <td>Ipsos</td>\n",
       "      <td>B-</td>\n",
       "      <td>664.0</td>\n",
       "      <td>lv</td>\n",
       "      <td>lv</td>\n",
       "      <td>Online</td>\n",
       "      <td>10/20/20</td>\n",
       "      <td>10/26/20</td>\n",
       "      <td>general</td>\n",
       "      <td>6259.0</td>\n",
       "      <td>Biden</td>\n",
       "      <td>Joseph R. Biden Jr.</td>\n",
       "      <td>DEM</td>\n",
       "      <td>53.0</td>\n",
       "    </tr>\n",
       "    <tr>\n",
       "      <th>8</th>\n",
       "      <td>2020.0</td>\n",
       "      <td>Pennsylvania</td>\n",
       "      <td>Ipsos</td>\n",
       "      <td>Reuters</td>\n",
       "      <td>Ipsos</td>\n",
       "      <td>154.0</td>\n",
       "      <td>Ipsos</td>\n",
       "      <td>B-</td>\n",
       "      <td>655.0</td>\n",
       "      <td>lv</td>\n",
       "      <td>lv</td>\n",
       "      <td>Online</td>\n",
       "      <td>10/20/20</td>\n",
       "      <td>10/26/20</td>\n",
       "      <td>general</td>\n",
       "      <td>6249.0</td>\n",
       "      <td>Biden</td>\n",
       "      <td>Joseph R. Biden Jr.</td>\n",
       "      <td>DEM</td>\n",
       "      <td>50.0</td>\n",
       "    </tr>\n",
       "    <tr>\n",
       "      <th>9</th>\n",
       "      <td>2020.0</td>\n",
       "      <td>Pennsylvania</td>\n",
       "      <td>Ipsos</td>\n",
       "      <td>Reuters</td>\n",
       "      <td>Ipsos</td>\n",
       "      <td>154.0</td>\n",
       "      <td>Ipsos</td>\n",
       "      <td>B-</td>\n",
       "      <td>655.0</td>\n",
       "      <td>lv</td>\n",
       "      <td>lv</td>\n",
       "      <td>Online</td>\n",
       "      <td>10/20/20</td>\n",
       "      <td>10/26/20</td>\n",
       "      <td>general</td>\n",
       "      <td>6249.0</td>\n",
       "      <td>Biden</td>\n",
       "      <td>Joseph R. Biden Jr.</td>\n",
       "      <td>DEM</td>\n",
       "      <td>51.0</td>\n",
       "    </tr>\n",
       "  </tbody>\n",
       "</table>\n",
       "</div>"
      ],
      "text/plain": [
       "    cycle           state                  pollster   sponsors  \\\n",
       "0  2020.0  South Carolina  Starboard Communications        NaN   \n",
       "1  2020.0    Pennsylvania                    Civiqs  Daily Kos   \n",
       "2  2020.0         Georgia                    Civiqs  Daily Kos   \n",
       "3  2020.0     Mississippi                    Civiqs  Daily Kos   \n",
       "4  2020.0             NaN                  IBD/TIPP        NaN   \n",
       "5  2020.0             NaN                  IBD/TIPP        NaN   \n",
       "6  2020.0       Wisconsin                     Ipsos    Reuters   \n",
       "7  2020.0       Wisconsin                     Ipsos    Reuters   \n",
       "8  2020.0    Pennsylvania                     Ipsos    Reuters   \n",
       "9  2020.0    Pennsylvania                     Ipsos    Reuters   \n",
       "\n",
       "               display_name  pollster_rating_id      pollster_rating_name  \\\n",
       "0  Starboard Communications               316.0  Starboard Communications   \n",
       "1                    Civiqs               471.0                    Civiqs   \n",
       "2                    Civiqs               471.0                    Civiqs   \n",
       "3                    Civiqs               471.0                    Civiqs   \n",
       "4                  IBD/TIPP               144.0                  IBD/TIPP   \n",
       "5                  IBD/TIPP               144.0                  IBD/TIPP   \n",
       "6                     Ipsos               154.0                     Ipsos   \n",
       "7                     Ipsos               154.0                     Ipsos   \n",
       "8                     Ipsos               154.0                     Ipsos   \n",
       "9                     Ipsos               154.0                     Ipsos   \n",
       "\n",
       "  fte_grade  sample_size population population_full        methodology  \\\n",
       "0       B/C        800.0         lv              lv                NaN   \n",
       "1       B/C       1145.0         lv              lv             Online   \n",
       "2       B/C       1041.0         lv              lv             Online   \n",
       "3       B/C        507.0         lv              lv             Online   \n",
       "4       A/B        970.0         lv              lv  Live Phone/Online   \n",
       "5       A/B        970.0         lv              lv  Live Phone/Online   \n",
       "6        B-        664.0         lv              lv             Online   \n",
       "7        B-        664.0         lv              lv             Online   \n",
       "8        B-        655.0         lv              lv             Online   \n",
       "9        B-        655.0         lv              lv             Online   \n",
       "\n",
       "  start_date  end_date    stage  race_id answer       candidate_name  \\\n",
       "0   10/26/20  10/26/20  general   6251.0  Biden  Joseph R. Biden Jr.   \n",
       "1   10/23/20  10/26/20  general   6249.0  Biden  Joseph R. Biden Jr.   \n",
       "2   10/23/20  10/26/20  general   6221.0  Biden  Joseph R. Biden Jr.   \n",
       "3   10/23/20  10/26/20  general   6236.0  Biden  Joseph R. Biden Jr.   \n",
       "4   10/22/20  10/26/20  general   6210.0  Biden  Joseph R. Biden Jr.   \n",
       "5   10/22/20  10/26/20  general   6210.0  Biden  Joseph R. Biden Jr.   \n",
       "6   10/20/20  10/26/20  general   6259.0  Biden  Joseph R. Biden Jr.   \n",
       "7   10/20/20  10/26/20  general   6259.0  Biden  Joseph R. Biden Jr.   \n",
       "8   10/20/20  10/26/20  general   6249.0  Biden  Joseph R. Biden Jr.   \n",
       "9   10/20/20  10/26/20  general   6249.0  Biden  Joseph R. Biden Jr.   \n",
       "\n",
       "  candidate_party   pct  \n",
       "0             DEM  43.9  \n",
       "1             DEM  52.0  \n",
       "2             DEM  51.0  \n",
       "3             DEM  41.0  \n",
       "4             DEM  50.7  \n",
       "5             DEM  50.4  \n",
       "6             DEM  53.0  \n",
       "7             DEM  53.0  \n",
       "8             DEM  50.0  \n",
       "9             DEM  51.0  "
      ]
     },
     "execution_count": 10,
     "metadata": {},
     "output_type": "execute_result"
    }
   ],
   "source": [
    "jb = pp_df.where(pp_df[\"candidate_name\"]==\"Joseph R. Biden Jr.\")\n",
    "jb.dropna(how='all', inplace=True)\n",
    "jb.reset_index(inplace=True)\n",
    "jb.drop([\"index\", \"question_id\", \"pollster_id\", \"poll_id\", \"sponsor_ids\", \"notes\", \"url\", \"candidate_id\", \"tracking\", \"nationwide_batch\", \"ranked_choice_reallocated\", \"sponsor_candidate\", \"internal\", \"partisan\", \"election_date\", \"seat_name\", \"seat_number\", \"office_type\", \"created_at\"], axis=1, inplace=True)\n",
    "jb.head(10)"
   ]
  },
  {
   "cell_type": "code",
   "execution_count": 11,
   "metadata": {},
   "outputs": [
    {
     "data": {
      "text/plain": [
       "state\n",
       "Alabama                  44\n",
       "Alaska                   45\n",
       "Arizona                 146\n",
       "Arkansas                 38\n",
       "California               69\n",
       "Colorado                 60\n",
       "Connecticut              42\n",
       "Delaware                 39\n",
       "District of Columbia     36\n",
       "Florida                 154\n",
       "Georgia                 104\n",
       "Hawaii                   38\n",
       "Idaho                    37\n",
       "Illinois                 37\n",
       "Indiana                  42\n",
       "Iowa                     83\n",
       "Kansas                   48\n",
       "Kentucky                 51\n",
       "Louisiana                40\n",
       "Maine                    60\n",
       "Maine CD-1               12\n",
       "Maine CD-2               14\n",
       "Maryland                 43\n",
       "Massachusetts            44\n",
       "Michigan                178\n",
       "Minnesota                71\n",
       "Mississippi              42\n",
       "Missouri                 51\n",
       "Montana                  55\n",
       "Nebraska                 36\n",
       "Nebraska CD-1             1\n",
       "Nebraska CD-2             6\n",
       "Nevada                   55\n",
       "New Hampshire            62\n",
       "New Jersey               50\n",
       "New Mexico               42\n",
       "New York                 44\n",
       "North Carolina          167\n",
       "North Dakota             43\n",
       "Ohio                     82\n",
       "Oklahoma                 44\n",
       "Oregon                   38\n",
       "Pennsylvania            185\n",
       "Rhode Island             36\n",
       "South Carolina           58\n",
       "South Dakota             37\n",
       "Tennessee                39\n",
       "Texas                   114\n",
       "Utah                     50\n",
       "Vermont                  37\n",
       "Virginia                 60\n",
       "Washington               46\n",
       "West Virginia            40\n",
       "Wisconsin               303\n",
       "Wyoming                  36\n",
       "dtype: int64"
      ]
     },
     "execution_count": 11,
     "metadata": {},
     "output_type": "execute_result"
    }
   ],
   "source": [
    "jb.groupby(\"state\").size()"
   ]
  },
  {
   "cell_type": "code",
   "execution_count": 12,
   "metadata": {},
   "outputs": [
    {
     "data": {
      "text/plain": [
       "array(['South Carolina', 'Pennsylvania', 'Georgia', 'Mississippi', nan,\n",
       "       'Wisconsin', 'Florida', 'Texas', 'Wyoming', 'West Virginia',\n",
       "       'Vermont', 'Virginia', 'South Dakota', 'Oregon', 'Oklahoma',\n",
       "       'Nevada', 'New Mexico', 'New Hampshire', 'North Dakota', 'Montana',\n",
       "       'Missouri', 'Michigan', 'Maine', 'Maryland', 'Massachusetts',\n",
       "       'Louisiana', 'Kansas', 'Indiana', 'Idaho', 'Iowa', 'Hawaii',\n",
       "       'Delaware', 'Connecticut', 'Colorado', 'Arkansas', 'Alaska',\n",
       "       'Washington', 'Utah', 'Tennessee', 'Rhode Island', 'Ohio',\n",
       "       'New York', 'New Jersey', 'Nebraska', 'North Carolina',\n",
       "       'Minnesota', 'Kentucky', 'Illinois', 'District of Columbia',\n",
       "       'California', 'Arizona', 'Alabama', 'Maine CD-1', 'Maine CD-2',\n",
       "       'Nebraska CD-2', 'Nebraska CD-1'], dtype=object)"
      ]
     },
     "execution_count": 12,
     "metadata": {},
     "output_type": "execute_result"
    }
   ],
   "source": [
    "jb_states = jb[\"state\"].unique()\n",
    "jb_states"
   ]
  },
  {
   "cell_type": "code",
   "execution_count": 13,
   "metadata": {},
   "outputs": [],
   "source": [
    "jb_state_polls = {}\n",
    "for state in jb_states:\n",
    "    if isinstance(state, float):\n",
    "        jb_state_polls[\"US\"] = jb.where(jb[\"state\"]==state)\n",
    "        jb_state_polls[\"US\"].dropna(how='all', inplace=True)\n",
    "    else:\n",
    "        jb_state_polls[state] = jb.where(jb[\"state\"]==state)\n",
    "        jb_state_polls[state].dropna(how='all', inplace=True)"
   ]
  },
  {
   "cell_type": "code",
   "execution_count": 14,
   "metadata": {},
   "outputs": [
    {
     "data": {
      "text/plain": [
       "dict_keys(['South Carolina', 'Pennsylvania', 'Georgia', 'Mississippi', 'US', 'Wisconsin', 'Florida', 'Texas', 'Wyoming', 'West Virginia', 'Vermont', 'Virginia', 'South Dakota', 'Oregon', 'Oklahoma', 'Nevada', 'New Mexico', 'New Hampshire', 'North Dakota', 'Montana', 'Missouri', 'Michigan', 'Maine', 'Maryland', 'Massachusetts', 'Louisiana', 'Kansas', 'Indiana', 'Idaho', 'Iowa', 'Hawaii', 'Delaware', 'Connecticut', 'Colorado', 'Arkansas', 'Alaska', 'Washington', 'Utah', 'Tennessee', 'Rhode Island', 'Ohio', 'New York', 'New Jersey', 'Nebraska', 'North Carolina', 'Minnesota', 'Kentucky', 'Illinois', 'District of Columbia', 'California', 'Arizona', 'Alabama', 'Maine CD-1', 'Maine CD-2', 'Nebraska CD-2', 'Nebraska CD-1'])"
      ]
     },
     "execution_count": 14,
     "metadata": {},
     "output_type": "execute_result"
    }
   ],
   "source": [
    "jb_state_polls.keys()"
   ]
  },
  {
   "cell_type": "markdown",
   "metadata": {},
   "source": [
    "## Texas"
   ]
  },
  {
   "cell_type": "code",
   "execution_count": 15,
   "metadata": {},
   "outputs": [
    {
     "data": {
      "text/html": [
       "<div>\n",
       "<style scoped>\n",
       "    .dataframe tbody tr th:only-of-type {\n",
       "        vertical-align: middle;\n",
       "    }\n",
       "\n",
       "    .dataframe tbody tr th {\n",
       "        vertical-align: top;\n",
       "    }\n",
       "\n",
       "    .dataframe thead th {\n",
       "        text-align: right;\n",
       "    }\n",
       "</style>\n",
       "<table border=\"1\" class=\"dataframe\">\n",
       "  <thead>\n",
       "    <tr style=\"text-align: right;\">\n",
       "      <th></th>\n",
       "      <th>start_date</th>\n",
       "      <th>end_date</th>\n",
       "      <th>pollster</th>\n",
       "      <th>fte_grade</th>\n",
       "      <th>sample_size</th>\n",
       "      <th>pct</th>\n",
       "    </tr>\n",
       "  </thead>\n",
       "  <tbody>\n",
       "    <tr>\n",
       "      <th>0</th>\n",
       "      <td>2020-10-22</td>\n",
       "      <td>2020-10-25</td>\n",
       "      <td>Data for Progress</td>\n",
       "      <td>B-</td>\n",
       "      <td>1018.0</td>\n",
       "      <td>49.0</td>\n",
       "    </tr>\n",
       "    <tr>\n",
       "      <th>1</th>\n",
       "      <td>2020-10-20</td>\n",
       "      <td>2020-10-25</td>\n",
       "      <td>Siena College/The New York Times Upshot</td>\n",
       "      <td>A+</td>\n",
       "      <td>802.0</td>\n",
       "      <td>43.0</td>\n",
       "    </tr>\n",
       "    <tr>\n",
       "      <th>2</th>\n",
       "      <td>2020-09-27</td>\n",
       "      <td>2020-10-25</td>\n",
       "      <td>SurveyMonkey</td>\n",
       "      <td>D-</td>\n",
       "      <td>14571.0</td>\n",
       "      <td>49.0</td>\n",
       "    </tr>\n",
       "    <tr>\n",
       "      <th>3</th>\n",
       "      <td>2020-09-27</td>\n",
       "      <td>2020-10-25</td>\n",
       "      <td>SurveyMonkey</td>\n",
       "      <td>D-</td>\n",
       "      <td>14571.0</td>\n",
       "      <td>48.0</td>\n",
       "    </tr>\n",
       "    <tr>\n",
       "      <th>4</th>\n",
       "      <td>2020-09-26</td>\n",
       "      <td>2020-10-24</td>\n",
       "      <td>SurveyMonkey</td>\n",
       "      <td>D-</td>\n",
       "      <td>14490.0</td>\n",
       "      <td>49.0</td>\n",
       "    </tr>\n",
       "    <tr>\n",
       "      <th>5</th>\n",
       "      <td>2020-09-26</td>\n",
       "      <td>2020-10-24</td>\n",
       "      <td>SurveyMonkey</td>\n",
       "      <td>D-</td>\n",
       "      <td>14490.0</td>\n",
       "      <td>48.0</td>\n",
       "    </tr>\n",
       "    <tr>\n",
       "      <th>6</th>\n",
       "      <td>2020-09-26</td>\n",
       "      <td>2020-10-23</td>\n",
       "      <td>SurveyMonkey</td>\n",
       "      <td>D-</td>\n",
       "      <td>14436.0</td>\n",
       "      <td>49.0</td>\n",
       "    </tr>\n",
       "    <tr>\n",
       "      <th>7</th>\n",
       "      <td>2020-09-26</td>\n",
       "      <td>2020-10-23</td>\n",
       "      <td>SurveyMonkey</td>\n",
       "      <td>D-</td>\n",
       "      <td>14436.0</td>\n",
       "      <td>47.0</td>\n",
       "    </tr>\n",
       "    <tr>\n",
       "      <th>8</th>\n",
       "      <td>2020-09-25</td>\n",
       "      <td>2020-10-22</td>\n",
       "      <td>SurveyMonkey</td>\n",
       "      <td>D-</td>\n",
       "      <td>14434.0</td>\n",
       "      <td>49.0</td>\n",
       "    </tr>\n",
       "    <tr>\n",
       "      <th>9</th>\n",
       "      <td>2020-09-25</td>\n",
       "      <td>2020-10-22</td>\n",
       "      <td>SurveyMonkey</td>\n",
       "      <td>D-</td>\n",
       "      <td>14434.0</td>\n",
       "      <td>47.0</td>\n",
       "    </tr>\n",
       "  </tbody>\n",
       "</table>\n",
       "</div>"
      ],
      "text/plain": [
       "  start_date   end_date                                 pollster fte_grade  \\\n",
       "0 2020-10-22 2020-10-25                        Data for Progress        B-   \n",
       "1 2020-10-20 2020-10-25  Siena College/The New York Times Upshot        A+   \n",
       "2 2020-09-27 2020-10-25                             SurveyMonkey        D-   \n",
       "3 2020-09-27 2020-10-25                             SurveyMonkey        D-   \n",
       "4 2020-09-26 2020-10-24                             SurveyMonkey        D-   \n",
       "5 2020-09-26 2020-10-24                             SurveyMonkey        D-   \n",
       "6 2020-09-26 2020-10-23                             SurveyMonkey        D-   \n",
       "7 2020-09-26 2020-10-23                             SurveyMonkey        D-   \n",
       "8 2020-09-25 2020-10-22                             SurveyMonkey        D-   \n",
       "9 2020-09-25 2020-10-22                             SurveyMonkey        D-   \n",
       "\n",
       "   sample_size   pct  \n",
       "0       1018.0  49.0  \n",
       "1        802.0  43.0  \n",
       "2      14571.0  49.0  \n",
       "3      14571.0  48.0  \n",
       "4      14490.0  49.0  \n",
       "5      14490.0  48.0  \n",
       "6      14436.0  49.0  \n",
       "7      14436.0  47.0  \n",
       "8      14434.0  49.0  \n",
       "9      14434.0  47.0  "
      ]
     },
     "execution_count": 15,
     "metadata": {},
     "output_type": "execute_result"
    }
   ],
   "source": [
    "jb_texas = pd.concat([pd.to_datetime(jb_state_polls[\"Texas\"][\"start_date\"]), pd.to_datetime(jb_state_polls[\"Texas\"][\"end_date\"]), jb_state_polls[\"Texas\"][\"pollster\"], jb_state_polls[\"Texas\"][\"fte_grade\"], jb_state_polls[\"Texas\"][\"sample_size\"], jb_state_polls[\"Texas\"][\"pct\"]], axis=1)\n",
    "jb_texas.reset_index(inplace=True)\n",
    "jb_texas.drop([\"index\"], axis=1, inplace=True)\n",
    "jb_texas.head(10)"
   ]
  },
  {
   "cell_type": "code",
   "execution_count": 33,
   "metadata": {},
   "outputs": [
    {
     "data": {
      "application/vnd.plotly.v1+json": {
       "config": {
        "plotlyServerURL": "https://plot.ly"
       },
       "data": [
        {
         "hovertemplate": "pollster=Data for Progress<br>end_date=%{x}<br>pct=%{y}<extra></extra>",
         "legendgroup": "Data for Progress",
         "marker": {
          "color": "#636efa",
          "symbol": "circle"
         },
         "mode": "markers",
         "name": "Data for Progress",
         "orientation": "v",
         "showlegend": true,
         "type": "scatter",
         "x": [
          "2020-10-25T00:00:00",
          "2020-10-18T00:00:00",
          "2020-10-05T00:00:00",
          "2020-09-22T00:00:00",
          "2020-08-25T00:00:00",
          "2020-01-21T00:00:00"
         ],
         "xaxis": "x",
         "y": [
          49,
          47,
          47,
          45,
          48,
          40
         ],
         "yaxis": "y"
        },
        {
         "hovertemplate": "pollster=Siena College/The New York Times Upshot<br>end_date=%{x}<br>pct=%{y}<extra></extra>",
         "legendgroup": "Siena College/The New York Times Upshot",
         "marker": {
          "color": "#EF553B",
          "symbol": "circle"
         },
         "mode": "markers",
         "name": "Siena College/The New York Times Upshot",
         "orientation": "v",
         "showlegend": true,
         "type": "scatter",
         "x": [
          "2020-10-25T00:00:00",
          "2020-09-22T00:00:00"
         ],
         "xaxis": "x",
         "y": [
          43,
          43
         ],
         "yaxis": "y"
        },
        {
         "hovertemplate": "pollster=SurveyMonkey<br>end_date=%{x}<br>pct=%{y}<extra></extra>",
         "legendgroup": "SurveyMonkey",
         "marker": {
          "color": "#00cc96",
          "symbol": "circle"
         },
         "mode": "markers",
         "name": "SurveyMonkey",
         "orientation": "v",
         "showlegend": true,
         "type": "scatter",
         "x": [
          "2020-10-25T00:00:00",
          "2020-10-25T00:00:00",
          "2020-10-24T00:00:00",
          "2020-10-24T00:00:00",
          "2020-10-23T00:00:00",
          "2020-10-23T00:00:00",
          "2020-10-22T00:00:00",
          "2020-10-22T00:00:00",
          "2020-10-21T00:00:00",
          "2020-10-21T00:00:00",
          "2020-10-20T00:00:00",
          "2020-10-20T00:00:00",
          "2020-10-19T00:00:00",
          "2020-10-19T00:00:00",
          "2020-10-18T00:00:00",
          "2020-10-18T00:00:00",
          "2020-10-17T00:00:00",
          "2020-10-17T00:00:00",
          "2020-10-16T00:00:00",
          "2020-10-16T00:00:00",
          "2020-10-15T00:00:00",
          "2020-10-15T00:00:00",
          "2020-10-14T00:00:00",
          "2020-10-14T00:00:00",
          "2020-10-13T00:00:00",
          "2020-10-13T00:00:00",
          "2020-10-12T00:00:00",
          "2020-10-12T00:00:00",
          "2020-09-30T00:00:00",
          "2020-09-30T00:00:00",
          "2020-08-31T00:00:00",
          "2020-08-31T00:00:00",
          "2020-07-31T00:00:00",
          "2020-07-31T00:00:00",
          "2020-06-30T00:00:00",
          "2020-06-30T00:00:00"
         ],
         "xaxis": "x",
         "y": [
          49,
          48,
          49,
          48,
          49,
          47,
          49,
          47,
          49,
          47,
          49,
          47,
          49,
          47,
          49,
          47,
          49,
          47,
          49,
          47,
          49,
          47,
          49,
          47,
          49,
          47,
          49,
          47,
          46.13,
          48.32,
          46.36,
          48.78,
          46.15,
          48.68,
          46.23,
          49.36
         ],
         "yaxis": "y"
        },
        {
         "hovertemplate": "pollster=University of Texas at Tyler<br>end_date=%{x}<br>pct=%{y}<extra></extra>",
         "legendgroup": "University of Texas at Tyler",
         "marker": {
          "color": "#ab63fa",
          "symbol": "circle"
         },
         "mode": "markers",
         "name": "University of Texas at Tyler",
         "orientation": "v",
         "showlegend": true,
         "type": "scatter",
         "x": [
          "2020-10-20T00:00:00",
          "2020-10-20T00:00:00",
          "2020-09-02T00:00:00",
          "2020-09-02T00:00:00",
          "2020-07-07T00:00:00",
          "2020-07-07T00:00:00",
          "2020-04-27T00:00:00",
          "2020-02-26T00:00:00",
          "2020-01-30T00:00:00",
          "2019-11-14T00:00:00",
          "2019-09-15T00:00:00",
          "2019-08-04T00:00:00",
          "2019-07-27T00:00:00"
         ],
         "xaxis": "x",
         "y": [
          46,
          48,
          44,
          46,
          46,
          48,
          43,
          44,
          42,
          39.4,
          39.6,
          41.2,
          36.9
         ],
         "yaxis": "y"
        },
        {
         "hovertemplate": "pollster=YouGov<br>end_date=%{x}<br>pct=%{y}<extra></extra>",
         "legendgroup": "YouGov",
         "marker": {
          "color": "#FFA15A",
          "symbol": "circle"
         },
         "mode": "markers",
         "name": "YouGov",
         "orientation": "v",
         "showlegend": true,
         "type": "scatter",
         "x": [
          "2020-10-20T00:00:00",
          "2020-10-04T00:00:00",
          "2020-09-18T00:00:00",
          "2020-08-13T00:00:00",
          "2020-07-10T00:00:00",
          "2020-06-29T00:00:00",
          "2020-04-19T00:00:00",
          "2020-02-09T00:00:00",
          "2019-10-27T00:00:00"
         ],
         "xaxis": "x",
         "y": [
          44.7,
          45,
          46,
          40.5,
          45,
          44,
          44,
          43,
          39
         ],
         "yaxis": "y"
        },
        {
         "hovertemplate": "pollster=Morning Consult<br>end_date=%{x}<br>pct=%{y}<extra></extra>",
         "legendgroup": "Morning Consult",
         "marker": {
          "color": "#19d3f3",
          "symbol": "circle"
         },
         "mode": "markers",
         "name": "Morning Consult",
         "orientation": "v",
         "showlegend": true,
         "type": "scatter",
         "x": [
          "2020-10-20T00:00:00",
          "2020-10-11T00:00:00",
          "2020-09-07T00:00:00",
          "2020-08-30T00:00:00",
          "2020-08-16T00:00:00",
          "2020-08-02T00:00:00",
          "2020-07-26T00:00:00",
          "2020-05-26T00:00:00"
         ],
         "xaxis": "x",
         "y": [
          48,
          47,
          46,
          47,
          46,
          47,
          47,
          43
         ],
         "yaxis": "y"
        },
        {
         "hovertemplate": "pollster=Quinnipiac University<br>end_date=%{x}<br>pct=%{y}<extra></extra>",
         "legendgroup": "Quinnipiac University",
         "marker": {
          "color": "#FF6692",
          "symbol": "circle"
         },
         "mode": "markers",
         "name": "Quinnipiac University",
         "orientation": "v",
         "showlegend": true,
         "type": "scatter",
         "x": [
          "2020-10-19T00:00:00",
          "2020-09-21T00:00:00",
          "2020-07-20T00:00:00",
          "2020-06-01T00:00:00",
          "2019-06-04T00:00:00",
          "2019-02-25T00:00:00"
         ],
         "xaxis": "x",
         "y": [
          47,
          45,
          45,
          43,
          48,
          46
         ],
         "yaxis": "y"
        },
        {
         "hovertemplate": "pollster=Public Policy Polling<br>end_date=%{x}<br>pct=%{y}<extra></extra>",
         "legendgroup": "Public Policy Polling",
         "marker": {
          "color": "#B6E880",
          "symbol": "circle"
         },
         "mode": "markers",
         "name": "Public Policy Polling",
         "orientation": "v",
         "showlegend": true,
         "type": "scatter",
         "x": [
          "2020-10-08T00:00:00",
          "2020-09-26T00:00:00",
          "2020-09-02T00:00:00",
          "2020-08-22T00:00:00",
          "2020-06-25T00:00:00",
          "2020-06-19T00:00:00",
          "2020-06-04T00:00:00",
          "2020-04-28T00:00:00",
          "2019-02-14T00:00:00"
         ],
         "xaxis": "x",
         "y": [
          50,
          48,
          47,
          48,
          48,
          46,
          48,
          47,
          46
         ],
         "yaxis": "y"
        },
        {
         "hovertemplate": "pollster=Rasmussen Reports/Pulse Opinion Research<br>end_date=%{x}<br>pct=%{y}<extra></extra>",
         "legendgroup": "Rasmussen Reports/Pulse Opinion Research",
         "marker": {
          "color": "#FF97FF",
          "symbol": "circle"
         },
         "mode": "markers",
         "name": "Rasmussen Reports/Pulse Opinion Research",
         "orientation": "v",
         "showlegend": true,
         "type": "scatter",
         "x": [
          "2020-10-06T00:00:00"
         ],
         "xaxis": "x",
         "y": [
          44
         ],
         "yaxis": "y"
        },
        {
         "hovertemplate": "pollster=Civiqs<br>end_date=%{x}<br>pct=%{y}<extra></extra>",
         "legendgroup": "Civiqs",
         "marker": {
          "color": "#FECB52",
          "symbol": "circle"
         },
         "mode": "markers",
         "name": "Civiqs",
         "orientation": "v",
         "showlegend": true,
         "type": "scatter",
         "x": [
          "2020-10-06T00:00:00"
         ],
         "xaxis": "x",
         "y": [
          48
         ],
         "yaxis": "y"
        },
        {
         "hovertemplate": "pollster=EMC Research<br>end_date=%{x}<br>pct=%{y}<extra></extra>",
         "legendgroup": "EMC Research",
         "marker": {
          "color": "#636efa",
          "symbol": "circle"
         },
         "mode": "markers",
         "name": "EMC Research",
         "orientation": "v",
         "showlegend": true,
         "type": "scatter",
         "x": [
          "2020-10-02T00:00:00"
         ],
         "xaxis": "x",
         "y": [
          49
         ],
         "yaxis": "y"
        },
        {
         "hovertemplate": "pollster=Garin-Hart-Yang Research Group<br>end_date=%{x}<br>pct=%{y}<extra></extra>",
         "legendgroup": "Garin-Hart-Yang Research Group",
         "marker": {
          "color": "#EF553B",
          "symbol": "circle"
         },
         "mode": "markers",
         "name": "Garin-Hart-Yang Research Group",
         "orientation": "v",
         "showlegend": true,
         "type": "scatter",
         "x": [
          "2020-09-27T00:00:00"
         ],
         "xaxis": "x",
         "y": [
          47
         ],
         "yaxis": "y"
        },
        {
         "hovertemplate": "pollster=University of Massachusetts Lowell<br>end_date=%{x}<br>pct=%{y}<extra></extra>",
         "legendgroup": "University of Massachusetts Lowell",
         "marker": {
          "color": "#00cc96",
          "symbol": "circle"
         },
         "mode": "markers",
         "name": "University of Massachusetts Lowell",
         "orientation": "v",
         "showlegend": true,
         "type": "scatter",
         "x": [
          "2020-09-25T00:00:00",
          "2020-09-25T00:00:00"
         ],
         "xaxis": "x",
         "y": [
          46,
          46
         ],
         "yaxis": "y"
        },
        {
         "hovertemplate": "pollster=The Tyson Group<br>end_date=%{x}<br>pct=%{y}<extra></extra>",
         "legendgroup": "The Tyson Group",
         "marker": {
          "color": "#ab63fa",
          "symbol": "circle"
         },
         "mode": "markers",
         "name": "The Tyson Group",
         "orientation": "v",
         "showlegend": true,
         "type": "scatter",
         "x": [
          "2020-08-25T00:00:00"
         ],
         "xaxis": "x",
         "y": [
          48
         ],
         "yaxis": "y"
        },
        {
         "hovertemplate": "pollster=Global Strategy Group<br>end_date=%{x}<br>pct=%{y}<extra></extra>",
         "legendgroup": "Global Strategy Group",
         "marker": {
          "color": "#FFA15A",
          "symbol": "circle"
         },
         "mode": "markers",
         "name": "Global Strategy Group",
         "orientation": "v",
         "showlegend": true,
         "type": "scatter",
         "x": [
          "2020-08-13T00:00:00"
         ],
         "xaxis": "x",
         "y": [
          47
         ],
         "yaxis": "y"
        },
        {
         "hovertemplate": "pollster=Trafalgar Group<br>end_date=%{x}<br>pct=%{y}<extra></extra>",
         "legendgroup": "Trafalgar Group",
         "marker": {
          "color": "#19d3f3",
          "symbol": "circle"
         },
         "mode": "markers",
         "name": "Trafalgar Group",
         "orientation": "v",
         "showlegend": true,
         "type": "scatter",
         "x": [
          "2020-08-05T00:00:00"
         ],
         "xaxis": "x",
         "y": [
          43.4
         ],
         "yaxis": "y"
        },
        {
         "hovertemplate": "pollster=Spry Strategies<br>end_date=%{x}<br>pct=%{y}<extra></extra>",
         "legendgroup": "Spry Strategies",
         "marker": {
          "color": "#FF6692",
          "symbol": "circle"
         },
         "mode": "markers",
         "name": "Spry Strategies",
         "orientation": "v",
         "showlegend": true,
         "type": "scatter",
         "x": [
          "2020-07-20T00:00:00"
         ],
         "xaxis": "x",
         "y": [
          44.76
         ],
         "yaxis": "y"
        },
        {
         "hovertemplate": "pollster=Gravis Marketing<br>end_date=%{x}<br>pct=%{y}<extra></extra>",
         "legendgroup": "Gravis Marketing",
         "marker": {
          "color": "#B6E880",
          "symbol": "circle"
         },
         "mode": "markers",
         "name": "Gravis Marketing",
         "orientation": "v",
         "showlegend": true,
         "type": "scatter",
         "x": [
          "2020-07-07T00:00:00"
         ],
         "xaxis": "x",
         "y": [
          44
         ],
         "yaxis": "y"
        },
        {
         "hovertemplate": "pollster=Fox News/Beacon Research/Shaw & Co. Research<br>end_date=%{x}<br>pct=%{y}<extra></extra>",
         "legendgroup": "Fox News/Beacon Research/Shaw & Co. Research",
         "marker": {
          "color": "#FF97FF",
          "symbol": "circle"
         },
         "mode": "markers",
         "name": "Fox News/Beacon Research/Shaw & Co. Research",
         "orientation": "v",
         "showlegend": true,
         "type": "scatter",
         "x": [
          "2020-06-23T00:00:00"
         ],
         "xaxis": "x",
         "y": [
          45
         ],
         "yaxis": "y"
        },
        {
         "hovertemplate": "pollster=Emerson College<br>end_date=%{x}<br>pct=%{y}<extra></extra>",
         "legendgroup": "Emerson College",
         "marker": {
          "color": "#FECB52",
          "symbol": "circle"
         },
         "mode": "markers",
         "name": "Emerson College",
         "orientation": "v",
         "showlegend": true,
         "type": "scatter",
         "x": [
          "2020-05-10T00:00:00",
          "2019-08-03T00:00:00",
          "2019-04-28T00:00:00"
         ],
         "xaxis": "x",
         "y": [
          48.31,
          50.8,
          50.5
         ],
         "yaxis": "y"
        },
        {
         "hovertemplate": "pollster=AtlasIntel<br>end_date=%{x}<br>pct=%{y}<extra></extra>",
         "legendgroup": "AtlasIntel",
         "marker": {
          "color": "#636efa",
          "symbol": "circle"
         },
         "mode": "markers",
         "name": "AtlasIntel",
         "orientation": "v",
         "showlegend": true,
         "type": "scatter",
         "x": [
          "2020-03-02T00:00:00"
         ],
         "xaxis": "x",
         "y": [
          42.8
         ],
         "yaxis": "y"
        },
        {
         "hovertemplate": "pollster=Marist College<br>end_date=%{x}<br>pct=%{y}<extra></extra>",
         "legendgroup": "Marist College",
         "marker": {
          "color": "#EF553B",
          "symbol": "circle"
         },
         "mode": "markers",
         "name": "Marist College",
         "orientation": "v",
         "showlegend": true,
         "type": "scatter",
         "x": [
          "2020-02-27T00:00:00"
         ],
         "xaxis": "x",
         "y": [
          45
         ],
         "yaxis": "y"
        },
        {
         "hovertemplate": "pollster=SSRS<br>end_date=%{x}<br>pct=%{y}<extra></extra>",
         "legendgroup": "SSRS",
         "marker": {
          "color": "#00cc96",
          "symbol": "circle"
         },
         "mode": "markers",
         "name": "SSRS",
         "orientation": "v",
         "showlegend": true,
         "type": "scatter",
         "x": [
          "2020-02-26T00:00:00",
          "2019-12-09T00:00:00"
         ],
         "xaxis": "x",
         "y": [
          48,
          47
         ],
         "yaxis": "y"
        },
        {
         "hovertemplate": "pollster=Univision/University of Houston/Latino Decisions<br>end_date=%{x}<br>pct=%{y}<extra></extra>",
         "legendgroup": "Univision/University of Houston/Latino Decisions",
         "marker": {
          "color": "#ab63fa",
          "symbol": "circle"
         },
         "mode": "markers",
         "name": "Univision/University of Houston/Latino Decisions",
         "orientation": "v",
         "showlegend": true,
         "type": "scatter",
         "x": [
          "2020-02-26T00:00:00"
         ],
         "xaxis": "x",
         "y": [
          43
         ],
         "yaxis": "y"
        },
        {
         "hovertemplate": "pollster=Texas Lyceum<br>end_date=%{x}<br>pct=%{y}<extra></extra>",
         "legendgroup": "Texas Lyceum",
         "marker": {
          "color": "#FFA15A",
          "symbol": "circle"
         },
         "mode": "markers",
         "name": "Texas Lyceum",
         "orientation": "v",
         "showlegend": true,
         "type": "scatter",
         "x": [
          "2020-01-19T00:00:00"
         ],
         "xaxis": "x",
         "y": [
          46
         ],
         "yaxis": "y"
        },
        {
         "hovertemplate": "pollster=Beacon Research<br>end_date=%{x}<br>pct=%{y}<extra></extra>",
         "legendgroup": "Beacon Research",
         "marker": {
          "color": "#19d3f3",
          "symbol": "circle"
         },
         "mode": "markers",
         "name": "Beacon Research",
         "orientation": "v",
         "showlegend": true,
         "type": "scatter",
         "x": [
          "2019-11-21T00:00:00"
         ],
         "xaxis": "x",
         "y": [
          44
         ],
         "yaxis": "y"
        },
        {
         "hovertemplate": "pollster=Univision/University of Houston/Latino Decisions/North Star Opinion Research<br>end_date=%{x}<br>pct=%{y}<extra></extra>",
         "legendgroup": "Univision/University of Houston/Latino Decisions/North Star Opinion Research",
         "marker": {
          "color": "#FF6692",
          "symbol": "circle"
         },
         "mode": "markers",
         "name": "Univision/University of Houston/Latino Decisions/North Star Opinion Research",
         "orientation": "v",
         "showlegend": true,
         "type": "scatter",
         "x": [
          "2019-09-06T00:00:00"
         ],
         "xaxis": "x",
         "y": [
          47
         ],
         "yaxis": "y"
        },
        {
         "hovertemplate": "pollster=Climate Nexus<br>end_date=%{x}<br>pct=%{y}<extra></extra>",
         "legendgroup": "Climate Nexus",
         "marker": {
          "color": "#B6E880",
          "symbol": "circle"
         },
         "mode": "markers",
         "name": "Climate Nexus",
         "orientation": "v",
         "showlegend": true,
         "type": "scatter",
         "x": [
          "2019-08-25T00:00:00"
         ],
         "xaxis": "x",
         "y": [
          43
         ],
         "yaxis": "y"
        },
        {
         "hovertemplate": "pollster=WPA Intelligence (WPAi)<br>end_date=%{x}<br>pct=%{y}<extra></extra>",
         "legendgroup": "WPA Intelligence (WPAi)",
         "marker": {
          "color": "#FF97FF",
          "symbol": "circle"
         },
         "mode": "markers",
         "name": "WPA Intelligence (WPAi)",
         "orientation": "v",
         "showlegend": true,
         "type": "scatter",
         "x": [
          "2019-04-30T00:00:00"
         ],
         "xaxis": "x",
         "y": [
          42
         ],
         "yaxis": "y"
        }
       ],
       "layout": {
        "autosize": true,
        "legend": {
         "title": {
          "text": "pollster"
         },
         "tracegroupgap": 0
        },
        "margin": {
         "t": 60
        },
        "template": {
         "data": {
          "bar": [
           {
            "error_x": {
             "color": "#2a3f5f"
            },
            "error_y": {
             "color": "#2a3f5f"
            },
            "marker": {
             "line": {
              "color": "#E5ECF6",
              "width": 0.5
             }
            },
            "type": "bar"
           }
          ],
          "barpolar": [
           {
            "marker": {
             "line": {
              "color": "#E5ECF6",
              "width": 0.5
             }
            },
            "type": "barpolar"
           }
          ],
          "carpet": [
           {
            "aaxis": {
             "endlinecolor": "#2a3f5f",
             "gridcolor": "white",
             "linecolor": "white",
             "minorgridcolor": "white",
             "startlinecolor": "#2a3f5f"
            },
            "baxis": {
             "endlinecolor": "#2a3f5f",
             "gridcolor": "white",
             "linecolor": "white",
             "minorgridcolor": "white",
             "startlinecolor": "#2a3f5f"
            },
            "type": "carpet"
           }
          ],
          "choropleth": [
           {
            "colorbar": {
             "outlinewidth": 0,
             "ticks": ""
            },
            "type": "choropleth"
           }
          ],
          "contour": [
           {
            "colorbar": {
             "outlinewidth": 0,
             "ticks": ""
            },
            "colorscale": [
             [
              0,
              "#0d0887"
             ],
             [
              0.1111111111111111,
              "#46039f"
             ],
             [
              0.2222222222222222,
              "#7201a8"
             ],
             [
              0.3333333333333333,
              "#9c179e"
             ],
             [
              0.4444444444444444,
              "#bd3786"
             ],
             [
              0.5555555555555556,
              "#d8576b"
             ],
             [
              0.6666666666666666,
              "#ed7953"
             ],
             [
              0.7777777777777778,
              "#fb9f3a"
             ],
             [
              0.8888888888888888,
              "#fdca26"
             ],
             [
              1,
              "#f0f921"
             ]
            ],
            "type": "contour"
           }
          ],
          "contourcarpet": [
           {
            "colorbar": {
             "outlinewidth": 0,
             "ticks": ""
            },
            "type": "contourcarpet"
           }
          ],
          "heatmap": [
           {
            "colorbar": {
             "outlinewidth": 0,
             "ticks": ""
            },
            "colorscale": [
             [
              0,
              "#0d0887"
             ],
             [
              0.1111111111111111,
              "#46039f"
             ],
             [
              0.2222222222222222,
              "#7201a8"
             ],
             [
              0.3333333333333333,
              "#9c179e"
             ],
             [
              0.4444444444444444,
              "#bd3786"
             ],
             [
              0.5555555555555556,
              "#d8576b"
             ],
             [
              0.6666666666666666,
              "#ed7953"
             ],
             [
              0.7777777777777778,
              "#fb9f3a"
             ],
             [
              0.8888888888888888,
              "#fdca26"
             ],
             [
              1,
              "#f0f921"
             ]
            ],
            "type": "heatmap"
           }
          ],
          "heatmapgl": [
           {
            "colorbar": {
             "outlinewidth": 0,
             "ticks": ""
            },
            "colorscale": [
             [
              0,
              "#0d0887"
             ],
             [
              0.1111111111111111,
              "#46039f"
             ],
             [
              0.2222222222222222,
              "#7201a8"
             ],
             [
              0.3333333333333333,
              "#9c179e"
             ],
             [
              0.4444444444444444,
              "#bd3786"
             ],
             [
              0.5555555555555556,
              "#d8576b"
             ],
             [
              0.6666666666666666,
              "#ed7953"
             ],
             [
              0.7777777777777778,
              "#fb9f3a"
             ],
             [
              0.8888888888888888,
              "#fdca26"
             ],
             [
              1,
              "#f0f921"
             ]
            ],
            "type": "heatmapgl"
           }
          ],
          "histogram": [
           {
            "marker": {
             "colorbar": {
              "outlinewidth": 0,
              "ticks": ""
             }
            },
            "type": "histogram"
           }
          ],
          "histogram2d": [
           {
            "colorbar": {
             "outlinewidth": 0,
             "ticks": ""
            },
            "colorscale": [
             [
              0,
              "#0d0887"
             ],
             [
              0.1111111111111111,
              "#46039f"
             ],
             [
              0.2222222222222222,
              "#7201a8"
             ],
             [
              0.3333333333333333,
              "#9c179e"
             ],
             [
              0.4444444444444444,
              "#bd3786"
             ],
             [
              0.5555555555555556,
              "#d8576b"
             ],
             [
              0.6666666666666666,
              "#ed7953"
             ],
             [
              0.7777777777777778,
              "#fb9f3a"
             ],
             [
              0.8888888888888888,
              "#fdca26"
             ],
             [
              1,
              "#f0f921"
             ]
            ],
            "type": "histogram2d"
           }
          ],
          "histogram2dcontour": [
           {
            "colorbar": {
             "outlinewidth": 0,
             "ticks": ""
            },
            "colorscale": [
             [
              0,
              "#0d0887"
             ],
             [
              0.1111111111111111,
              "#46039f"
             ],
             [
              0.2222222222222222,
              "#7201a8"
             ],
             [
              0.3333333333333333,
              "#9c179e"
             ],
             [
              0.4444444444444444,
              "#bd3786"
             ],
             [
              0.5555555555555556,
              "#d8576b"
             ],
             [
              0.6666666666666666,
              "#ed7953"
             ],
             [
              0.7777777777777778,
              "#fb9f3a"
             ],
             [
              0.8888888888888888,
              "#fdca26"
             ],
             [
              1,
              "#f0f921"
             ]
            ],
            "type": "histogram2dcontour"
           }
          ],
          "mesh3d": [
           {
            "colorbar": {
             "outlinewidth": 0,
             "ticks": ""
            },
            "type": "mesh3d"
           }
          ],
          "parcoords": [
           {
            "line": {
             "colorbar": {
              "outlinewidth": 0,
              "ticks": ""
             }
            },
            "type": "parcoords"
           }
          ],
          "pie": [
           {
            "automargin": true,
            "type": "pie"
           }
          ],
          "scatter": [
           {
            "marker": {
             "colorbar": {
              "outlinewidth": 0,
              "ticks": ""
             }
            },
            "type": "scatter"
           }
          ],
          "scatter3d": [
           {
            "line": {
             "colorbar": {
              "outlinewidth": 0,
              "ticks": ""
             }
            },
            "marker": {
             "colorbar": {
              "outlinewidth": 0,
              "ticks": ""
             }
            },
            "type": "scatter3d"
           }
          ],
          "scattercarpet": [
           {
            "marker": {
             "colorbar": {
              "outlinewidth": 0,
              "ticks": ""
             }
            },
            "type": "scattercarpet"
           }
          ],
          "scattergeo": [
           {
            "marker": {
             "colorbar": {
              "outlinewidth": 0,
              "ticks": ""
             }
            },
            "type": "scattergeo"
           }
          ],
          "scattergl": [
           {
            "marker": {
             "colorbar": {
              "outlinewidth": 0,
              "ticks": ""
             }
            },
            "type": "scattergl"
           }
          ],
          "scattermapbox": [
           {
            "marker": {
             "colorbar": {
              "outlinewidth": 0,
              "ticks": ""
             }
            },
            "type": "scattermapbox"
           }
          ],
          "scatterpolar": [
           {
            "marker": {
             "colorbar": {
              "outlinewidth": 0,
              "ticks": ""
             }
            },
            "type": "scatterpolar"
           }
          ],
          "scatterpolargl": [
           {
            "marker": {
             "colorbar": {
              "outlinewidth": 0,
              "ticks": ""
             }
            },
            "type": "scatterpolargl"
           }
          ],
          "scatterternary": [
           {
            "marker": {
             "colorbar": {
              "outlinewidth": 0,
              "ticks": ""
             }
            },
            "type": "scatterternary"
           }
          ],
          "surface": [
           {
            "colorbar": {
             "outlinewidth": 0,
             "ticks": ""
            },
            "colorscale": [
             [
              0,
              "#0d0887"
             ],
             [
              0.1111111111111111,
              "#46039f"
             ],
             [
              0.2222222222222222,
              "#7201a8"
             ],
             [
              0.3333333333333333,
              "#9c179e"
             ],
             [
              0.4444444444444444,
              "#bd3786"
             ],
             [
              0.5555555555555556,
              "#d8576b"
             ],
             [
              0.6666666666666666,
              "#ed7953"
             ],
             [
              0.7777777777777778,
              "#fb9f3a"
             ],
             [
              0.8888888888888888,
              "#fdca26"
             ],
             [
              1,
              "#f0f921"
             ]
            ],
            "type": "surface"
           }
          ],
          "table": [
           {
            "cells": {
             "fill": {
              "color": "#EBF0F8"
             },
             "line": {
              "color": "white"
             }
            },
            "header": {
             "fill": {
              "color": "#C8D4E3"
             },
             "line": {
              "color": "white"
             }
            },
            "type": "table"
           }
          ]
         },
         "layout": {
          "annotationdefaults": {
           "arrowcolor": "#2a3f5f",
           "arrowhead": 0,
           "arrowwidth": 1
          },
          "coloraxis": {
           "colorbar": {
            "outlinewidth": 0,
            "ticks": ""
           }
          },
          "colorscale": {
           "diverging": [
            [
             0,
             "#8e0152"
            ],
            [
             0.1,
             "#c51b7d"
            ],
            [
             0.2,
             "#de77ae"
            ],
            [
             0.3,
             "#f1b6da"
            ],
            [
             0.4,
             "#fde0ef"
            ],
            [
             0.5,
             "#f7f7f7"
            ],
            [
             0.6,
             "#e6f5d0"
            ],
            [
             0.7,
             "#b8e186"
            ],
            [
             0.8,
             "#7fbc41"
            ],
            [
             0.9,
             "#4d9221"
            ],
            [
             1,
             "#276419"
            ]
           ],
           "sequential": [
            [
             0,
             "#0d0887"
            ],
            [
             0.1111111111111111,
             "#46039f"
            ],
            [
             0.2222222222222222,
             "#7201a8"
            ],
            [
             0.3333333333333333,
             "#9c179e"
            ],
            [
             0.4444444444444444,
             "#bd3786"
            ],
            [
             0.5555555555555556,
             "#d8576b"
            ],
            [
             0.6666666666666666,
             "#ed7953"
            ],
            [
             0.7777777777777778,
             "#fb9f3a"
            ],
            [
             0.8888888888888888,
             "#fdca26"
            ],
            [
             1,
             "#f0f921"
            ]
           ],
           "sequentialminus": [
            [
             0,
             "#0d0887"
            ],
            [
             0.1111111111111111,
             "#46039f"
            ],
            [
             0.2222222222222222,
             "#7201a8"
            ],
            [
             0.3333333333333333,
             "#9c179e"
            ],
            [
             0.4444444444444444,
             "#bd3786"
            ],
            [
             0.5555555555555556,
             "#d8576b"
            ],
            [
             0.6666666666666666,
             "#ed7953"
            ],
            [
             0.7777777777777778,
             "#fb9f3a"
            ],
            [
             0.8888888888888888,
             "#fdca26"
            ],
            [
             1,
             "#f0f921"
            ]
           ]
          },
          "colorway": [
           "#636efa",
           "#EF553B",
           "#00cc96",
           "#ab63fa",
           "#FFA15A",
           "#19d3f3",
           "#FF6692",
           "#B6E880",
           "#FF97FF",
           "#FECB52"
          ],
          "font": {
           "color": "#2a3f5f"
          },
          "geo": {
           "bgcolor": "white",
           "lakecolor": "white",
           "landcolor": "#E5ECF6",
           "showlakes": true,
           "showland": true,
           "subunitcolor": "white"
          },
          "hoverlabel": {
           "align": "left"
          },
          "hovermode": "closest",
          "mapbox": {
           "style": "light"
          },
          "paper_bgcolor": "white",
          "plot_bgcolor": "#E5ECF6",
          "polar": {
           "angularaxis": {
            "gridcolor": "white",
            "linecolor": "white",
            "ticks": ""
           },
           "bgcolor": "#E5ECF6",
           "radialaxis": {
            "gridcolor": "white",
            "linecolor": "white",
            "ticks": ""
           }
          },
          "scene": {
           "xaxis": {
            "backgroundcolor": "#E5ECF6",
            "gridcolor": "white",
            "gridwidth": 2,
            "linecolor": "white",
            "showbackground": true,
            "ticks": "",
            "zerolinecolor": "white"
           },
           "yaxis": {
            "backgroundcolor": "#E5ECF6",
            "gridcolor": "white",
            "gridwidth": 2,
            "linecolor": "white",
            "showbackground": true,
            "ticks": "",
            "zerolinecolor": "white"
           },
           "zaxis": {
            "backgroundcolor": "#E5ECF6",
            "gridcolor": "white",
            "gridwidth": 2,
            "linecolor": "white",
            "showbackground": true,
            "ticks": "",
            "zerolinecolor": "white"
           }
          },
          "shapedefaults": {
           "line": {
            "color": "#2a3f5f"
           }
          },
          "ternary": {
           "aaxis": {
            "gridcolor": "white",
            "linecolor": "white",
            "ticks": ""
           },
           "baxis": {
            "gridcolor": "white",
            "linecolor": "white",
            "ticks": ""
           },
           "bgcolor": "#E5ECF6",
           "caxis": {
            "gridcolor": "white",
            "linecolor": "white",
            "ticks": ""
           }
          },
          "title": {
           "x": 0.05
          },
          "xaxis": {
           "automargin": true,
           "gridcolor": "white",
           "linecolor": "white",
           "ticks": "",
           "title": {
            "standoff": 15
           },
           "zerolinecolor": "white",
           "zerolinewidth": 2
          },
          "yaxis": {
           "automargin": true,
           "gridcolor": "white",
           "linecolor": "white",
           "ticks": "",
           "title": {
            "standoff": 15
           },
           "zerolinecolor": "white",
           "zerolinewidth": 2
          }
         }
        },
        "xaxis": {
         "anchor": "y",
         "autorange": true,
         "domain": [
          0,
          1
         ],
         "range": [
          "2019-01-06 20:57:23.4783",
          "2020-12-02 03:02:36.5217"
         ],
         "title": {
          "text": "end_date"
         },
         "type": "date"
        },
        "yaxis": {
         "anchor": "x",
         "autorange": true,
         "domain": [
          0,
          1
         ],
         "range": [
          35.914456721915286,
          51.78554327808471
         ],
         "title": {
          "text": "pct"
         },
         "type": "linear"
        }
       }
      },
      "image/png": "[encoded data removed]",
      "text/html": [
       "<div>                            <div id=\"968a93d4-f9c2-4921-921d-4772601823ab\" class=\"plotly-graph-div\" style=\"height:525px; width:100%;\"></div>            <script type=\"text/javascript\">                require([\"plotly\"], function(Plotly) {                    window.PLOTLYENV=window.PLOTLYENV || {};                                    if (document.getElementById(\"968a93d4-f9c2-4921-921d-4772601823ab\")) {                    Plotly.newPlot(                        \"968a93d4-f9c2-4921-921d-4772601823ab\",                        [{\"hovertemplate\": \"pollster=Data for Progress<br>end_date=%{x}<br>pct=%{y}<extra></extra>\", \"legendgroup\": \"Data for Progress\", \"marker\": {\"color\": \"#636efa\", \"symbol\": \"circle\"}, \"mode\": \"markers\", \"name\": \"Data for Progress\", \"orientation\": \"v\", \"showlegend\": true, \"type\": \"scatter\", \"x\": [\"2020-10-25T00:00:00\", \"2020-10-18T00:00:00\", \"2020-10-05T00:00:00\", \"2020-09-22T00:00:00\", \"2020-08-25T00:00:00\", \"2020-01-21T00:00:00\"], \"xaxis\": \"x\", \"y\": [49.0, 47.0, 47.0, 45.0, 48.0, 40.0], \"yaxis\": \"y\"}, {\"hovertemplate\": \"pollster=Siena College/The New York Times Upshot<br>end_date=%{x}<br>pct=%{y}<extra></extra>\", \"legendgroup\": \"Siena College/The New York Times Upshot\", \"marker\": {\"color\": \"#EF553B\", \"symbol\": \"circle\"}, \"mode\": \"markers\", \"name\": \"Siena College/The New York Times Upshot\", \"orientation\": \"v\", \"showlegend\": true, \"type\": \"scatter\", \"x\": [\"2020-10-25T00:00:00\", \"2020-09-22T00:00:00\"], \"xaxis\": \"x\", \"y\": [43.0, 43.0], \"yaxis\": \"y\"}, {\"hovertemplate\": \"pollster=SurveyMonkey<br>end_date=%{x}<br>pct=%{y}<extra></extra>\", \"legendgroup\": \"SurveyMonkey\", \"marker\": {\"color\": \"#00cc96\", \"symbol\": \"circle\"}, \"mode\": \"markers\", \"name\": \"SurveyMonkey\", \"orientation\": \"v\", \"showlegend\": true, \"type\": \"scatter\", \"x\": [\"2020-10-25T00:00:00\", \"2020-10-25T00:00:00\", \"2020-10-24T00:00:00\", \"2020-10-24T00:00:00\", \"2020-10-23T00:00:00\", \"2020-10-23T00:00:00\", \"2020-10-22T00:00:00\", \"2020-10-22T00:00:00\", \"2020-10-21T00:00:00\", \"2020-10-21T00:00:00\", \"2020-10-20T00:00:00\", \"2020-10-20T00:00:00\", \"2020-10-19T00:00:00\", \"2020-10-19T00:00:00\", \"2020-10-18T00:00:00\", \"2020-10-18T00:00:00\", \"2020-10-17T00:00:00\", \"2020-10-17T00:00:00\", \"2020-10-16T00:00:00\", \"2020-10-16T00:00:00\", \"2020-10-15T00:00:00\", \"2020-10-15T00:00:00\", \"2020-10-14T00:00:00\", \"2020-10-14T00:00:00\", \"2020-10-13T00:00:00\", \"2020-10-13T00:00:00\", \"2020-10-12T00:00:00\", \"2020-10-12T00:00:00\", \"2020-09-30T00:00:00\", \"2020-09-30T00:00:00\", \"2020-08-31T00:00:00\", \"2020-08-31T00:00:00\", \"2020-07-31T00:00:00\", \"2020-07-31T00:00:00\", \"2020-06-30T00:00:00\", \"2020-06-30T00:00:00\"], \"xaxis\": \"x\", \"y\": [49.0, 48.0, 49.0, 48.0, 49.0, 47.0, 49.0, 47.0, 49.0, 47.0, 49.0, 47.0, 49.0, 47.0, 49.0, 47.0, 49.0, 47.0, 49.0, 47.0, 49.0, 47.0, 49.0, 47.0, 49.0, 47.0, 49.0, 47.0, 46.13, 48.32, 46.36, 48.78, 46.15, 48.68, 46.23, 49.36], \"yaxis\": \"y\"}, {\"hovertemplate\": \"pollster=University of Texas at Tyler<br>end_date=%{x}<br>pct=%{y}<extra></extra>\", \"legendgroup\": \"University of Texas at Tyler\", \"marker\": {\"color\": \"#ab63fa\", \"symbol\": \"circle\"}, \"mode\": \"markers\", \"name\": \"University of Texas at Tyler\", \"orientation\": \"v\", \"showlegend\": true, \"type\": \"scatter\", \"x\": [\"2020-10-20T00:00:00\", \"2020-10-20T00:00:00\", \"2020-09-02T00:00:00\", \"2020-09-02T00:00:00\", \"2020-07-07T00:00:00\", \"2020-07-07T00:00:00\", \"2020-04-27T00:00:00\", \"2020-02-26T00:00:00\", \"2020-01-30T00:00:00\", \"2019-11-14T00:00:00\", \"2019-09-15T00:00:00\", \"2019-08-04T00:00:00\", \"2019-07-27T00:00:00\"], \"xaxis\": \"x\", \"y\": [46.0, 48.0, 44.0, 46.0, 46.0, 48.0, 43.0, 44.0, 42.0, 39.4, 39.6, 41.2, 36.9], \"yaxis\": \"y\"}, {\"hovertemplate\": \"pollster=YouGov<br>end_date=%{x}<br>pct=%{y}<extra></extra>\", \"legendgroup\": \"YouGov\", \"marker\": {\"color\": \"#FFA15A\", \"symbol\": \"circle\"}, \"mode\": \"markers\", \"name\": \"YouGov\", \"orientation\": \"v\", \"showlegend\": true, \"type\": \"scatter\", \"x\": [\"2020-10-20T00:00:00\", \"2020-10-04T00:00:00\", \"2020-09-18T00:00:00\", \"2020-08-13T00:00:00\", \"2020-07-10T00:00:00\", \"2020-06-29T00:00:00\", \"2020-04-19T00:00:00\", \"2020-02-09T00:00:00\", \"2019-10-27T00:00:00\"], \"xaxis\": \"x\", \"y\": [44.7, 45.0, 46.0, 40.5, 45.0, 44.0, 44.0, 43.0, 39.0], \"yaxis\": \"y\"}, {\"hovertemplate\": \"pollster=Morning Consult<br>end_date=%{x}<br>pct=%{y}<extra></extra>\", \"legendgroup\": \"Morning Consult\", \"marker\": {\"color\": \"#19d3f3\", \"symbol\": \"circle\"}, \"mode\": \"markers\", \"name\": \"Morning Consult\", \"orientation\": \"v\", \"showlegend\": true, \"type\": \"scatter\", \"x\": [\"2020-10-20T00:00:00\", \"2020-10-11T00:00:00\", \"2020-09-07T00:00:00\", \"2020-08-30T00:00:00\", \"2020-08-16T00:00:00\", \"2020-08-02T00:00:00\", \"2020-07-26T00:00:00\", \"2020-05-26T00:00:00\"], \"xaxis\": \"x\", \"y\": [48.0, 47.0, 46.0, 47.0, 46.0, 47.0, 47.0, 43.0], \"yaxis\": \"y\"}, {\"hovertemplate\": \"pollster=Quinnipiac University<br>end_date=%{x}<br>pct=%{y}<extra></extra>\", \"legendgroup\": \"Quinnipiac University\", \"marker\": {\"color\": \"#FF6692\", \"symbol\": \"circle\"}, \"mode\": \"markers\", \"name\": \"Quinnipiac University\", \"orientation\": \"v\", \"showlegend\": true, \"type\": \"scatter\", \"x\": [\"2020-10-19T00:00:00\", \"2020-09-21T00:00:00\", \"2020-07-20T00:00:00\", \"2020-06-01T00:00:00\", \"2019-06-04T00:00:00\", \"2019-02-25T00:00:00\"], \"xaxis\": \"x\", \"y\": [47.0, 45.0, 45.0, 43.0, 48.0, 46.0], \"yaxis\": \"y\"}, {\"hovertemplate\": \"pollster=Public Policy Polling<br>end_date=%{x}<br>pct=%{y}<extra></extra>\", \"legendgroup\": \"Public Policy Polling\", \"marker\": {\"color\": \"#B6E880\", \"symbol\": \"circle\"}, \"mode\": \"markers\", \"name\": \"Public Policy Polling\", \"orientation\": \"v\", \"showlegend\": true, \"type\": \"scatter\", \"x\": [\"2020-10-08T00:00:00\", \"2020-09-26T00:00:00\", \"2020-09-02T00:00:00\", \"2020-08-22T00:00:00\", \"2020-06-25T00:00:00\", \"2020-06-19T00:00:00\", \"2020-06-04T00:00:00\", \"2020-04-28T00:00:00\", \"2019-02-14T00:00:00\"], \"xaxis\": \"x\", \"y\": [50.0, 48.0, 47.0, 48.0, 48.0, 46.0, 48.0, 47.0, 46.0], \"yaxis\": \"y\"}, {\"hovertemplate\": \"pollster=Rasmussen Reports/Pulse Opinion Research<br>end_date=%{x}<br>pct=%{y}<extra></extra>\", \"legendgroup\": \"Rasmussen Reports/Pulse Opinion Research\", \"marker\": {\"color\": \"#FF97FF\", \"symbol\": \"circle\"}, \"mode\": \"markers\", \"name\": \"Rasmussen Reports/Pulse Opinion Research\", \"orientation\": \"v\", \"showlegend\": true, \"type\": \"scatter\", \"x\": [\"2020-10-06T00:00:00\"], \"xaxis\": \"x\", \"y\": [44.0], \"yaxis\": \"y\"}, {\"hovertemplate\": \"pollster=Civiqs<br>end_date=%{x}<br>pct=%{y}<extra></extra>\", \"legendgroup\": \"Civiqs\", \"marker\": {\"color\": \"#FECB52\", \"symbol\": \"circle\"}, \"mode\": \"markers\", \"name\": \"Civiqs\", \"orientation\": \"v\", \"showlegend\": true, \"type\": \"scatter\", \"x\": [\"2020-10-06T00:00:00\"], \"xaxis\": \"x\", \"y\": [48.0], \"yaxis\": \"y\"}, {\"hovertemplate\": \"pollster=EMC Research<br>end_date=%{x}<br>pct=%{y}<extra></extra>\", \"legendgroup\": \"EMC Research\", \"marker\": {\"color\": \"#636efa\", \"symbol\": \"circle\"}, \"mode\": \"markers\", \"name\": \"EMC Research\", \"orientation\": \"v\", \"showlegend\": true, \"type\": \"scatter\", \"x\": [\"2020-10-02T00:00:00\"], \"xaxis\": \"x\", \"y\": [49.0], \"yaxis\": \"y\"}, {\"hovertemplate\": \"pollster=Garin-Hart-Yang Research Group<br>end_date=%{x}<br>pct=%{y}<extra></extra>\", \"legendgroup\": \"Garin-Hart-Yang Research Group\", \"marker\": {\"color\": \"#EF553B\", \"symbol\": \"circle\"}, \"mode\": \"markers\", \"name\": \"Garin-Hart-Yang Research Group\", \"orientation\": \"v\", \"showlegend\": true, \"type\": \"scatter\", \"x\": [\"2020-09-27T00:00:00\"], \"xaxis\": \"x\", \"y\": [47.0], \"yaxis\": \"y\"}, {\"hovertemplate\": \"pollster=University of Massachusetts Lowell<br>end_date=%{x}<br>pct=%{y}<extra></extra>\", \"legendgroup\": \"University of Massachusetts Lowell\", \"marker\": {\"color\": \"#00cc96\", \"symbol\": \"circle\"}, \"mode\": \"markers\", \"name\": \"University of Massachusetts Lowell\", \"orientation\": \"v\", \"showlegend\": true, \"type\": \"scatter\", \"x\": [\"2020-09-25T00:00:00\", \"2020-09-25T00:00:00\"], \"xaxis\": \"x\", \"y\": [46.0, 46.0], \"yaxis\": \"y\"}, {\"hovertemplate\": \"pollster=The Tyson Group<br>end_date=%{x}<br>pct=%{y}<extra></extra>\", \"legendgroup\": \"The Tyson Group\", \"marker\": {\"color\": \"#ab63fa\", \"symbol\": \"circle\"}, \"mode\": \"markers\", \"name\": \"The Tyson Group\", \"orientation\": \"v\", \"showlegend\": true, \"type\": \"scatter\", \"x\": [\"2020-08-25T00:00:00\"], \"xaxis\": \"x\", \"y\": [48.0], \"yaxis\": \"y\"}, {\"hovertemplate\": \"pollster=Global Strategy Group<br>end_date=%{x}<br>pct=%{y}<extra></extra>\", \"legendgroup\": \"Global Strategy Group\", \"marker\": {\"color\": \"#FFA15A\", \"symbol\": \"circle\"}, \"mode\": \"markers\", \"name\": \"Global Strategy Group\", \"orientation\": \"v\", \"showlegend\": true, \"type\": \"scatter\", \"x\": [\"2020-08-13T00:00:00\"], \"xaxis\": \"x\", \"y\": [47.0], \"yaxis\": \"y\"}, {\"hovertemplate\": \"pollster=Trafalgar Group<br>end_date=%{x}<br>pct=%{y}<extra></extra>\", \"legendgroup\": \"Trafalgar Group\", \"marker\": {\"color\": \"#19d3f3\", \"symbol\": \"circle\"}, \"mode\": \"markers\", \"name\": \"Trafalgar Group\", \"orientation\": \"v\", \"showlegend\": true, \"type\": \"scatter\", \"x\": [\"2020-08-05T00:00:00\"], \"xaxis\": \"x\", \"y\": [43.4], \"yaxis\": \"y\"}, {\"hovertemplate\": \"pollster=Spry Strategies<br>end_date=%{x}<br>pct=%{y}<extra></extra>\", \"legendgroup\": \"Spry Strategies\", \"marker\": {\"color\": \"#FF6692\", \"symbol\": \"circle\"}, \"mode\": \"markers\", \"name\": \"Spry Strategies\", \"orientation\": \"v\", \"showlegend\": true, \"type\": \"scatter\", \"x\": [\"2020-07-20T00:00:00\"], \"xaxis\": \"x\", \"y\": [44.76], \"yaxis\": \"y\"}, {\"hovertemplate\": \"pollster=Gravis Marketing<br>end_date=%{x}<br>pct=%{y}<extra></extra>\", \"legendgroup\": \"Gravis Marketing\", \"marker\": {\"color\": \"#B6E880\", \"symbol\": \"circle\"}, \"mode\": \"markers\", \"name\": \"Gravis Marketing\", \"orientation\": \"v\", \"showlegend\": true, \"type\": \"scatter\", \"x\": [\"2020-07-07T00:00:00\"], \"xaxis\": \"x\", \"y\": [44.0], \"yaxis\": \"y\"}, {\"hovertemplate\": \"pollster=Fox News/Beacon Research/Shaw & Co. Research<br>end_date=%{x}<br>pct=%{y}<extra></extra>\", \"legendgroup\": \"Fox News/Beacon Research/Shaw & Co. Research\", \"marker\": {\"color\": \"#FF97FF\", \"symbol\": \"circle\"}, \"mode\": \"markers\", \"name\": \"Fox News/Beacon Research/Shaw & Co. Research\", \"orientation\": \"v\", \"showlegend\": true, \"type\": \"scatter\", \"x\": [\"2020-06-23T00:00:00\"], \"xaxis\": \"x\", \"y\": [45.0], \"yaxis\": \"y\"}, {\"hovertemplate\": \"pollster=Emerson College<br>end_date=%{x}<br>pct=%{y}<extra></extra>\", \"legendgroup\": \"Emerson College\", \"marker\": {\"color\": \"#FECB52\", \"symbol\": \"circle\"}, \"mode\": \"markers\", \"name\": \"Emerson College\", \"orientation\": \"v\", \"showlegend\": true, \"type\": \"scatter\", \"x\": [\"2020-05-10T00:00:00\", \"2019-08-03T00:00:00\", \"2019-04-28T00:00:00\"], \"xaxis\": \"x\", \"y\": [48.31, 50.8, 50.5], \"yaxis\": \"y\"}, {\"hovertemplate\": \"pollster=AtlasIntel<br>end_date=%{x}<br>pct=%{y}<extra></extra>\", \"legendgroup\": \"AtlasIntel\", \"marker\": {\"color\": \"#636efa\", \"symbol\": \"circle\"}, \"mode\": \"markers\", \"name\": \"AtlasIntel\", \"orientation\": \"v\", \"showlegend\": true, \"type\": \"scatter\", \"x\": [\"2020-03-02T00:00:00\"], \"xaxis\": \"x\", \"y\": [42.8], \"yaxis\": \"y\"}, {\"hovertemplate\": \"pollster=Marist College<br>end_date=%{x}<br>pct=%{y}<extra></extra>\", \"legendgroup\": \"Marist College\", \"marker\": {\"color\": \"#EF553B\", \"symbol\": \"circle\"}, \"mode\": \"markers\", \"name\": \"Marist College\", \"orientation\": \"v\", \"showlegend\": true, \"type\": \"scatter\", \"x\": [\"2020-02-27T00:00:00\"], \"xaxis\": \"x\", \"y\": [45.0], \"yaxis\": \"y\"}, {\"hovertemplate\": \"pollster=SSRS<br>end_date=%{x}<br>pct=%{y}<extra></extra>\", \"legendgroup\": \"SSRS\", \"marker\": {\"color\": \"#00cc96\", \"symbol\": \"circle\"}, \"mode\": \"markers\", \"name\": \"SSRS\", \"orientation\": \"v\", \"showlegend\": true, \"type\": \"scatter\", \"x\": [\"2020-02-26T00:00:00\", \"2019-12-09T00:00:00\"], \"xaxis\": \"x\", \"y\": [48.0, 47.0], \"yaxis\": \"y\"}, {\"hovertemplate\": \"pollster=Univision/University of Houston/Latino Decisions<br>end_date=%{x}<br>pct=%{y}<extra></extra>\", \"legendgroup\": \"Univision/University of Houston/Latino Decisions\", \"marker\": {\"color\": \"#ab63fa\", \"symbol\": \"circle\"}, \"mode\": \"markers\", \"name\": \"Univision/University of Houston/Latino Decisions\", \"orientation\": \"v\", \"showlegend\": true, \"type\": \"scatter\", \"x\": [\"2020-02-26T00:00:00\"], \"xaxis\": \"x\", \"y\": [43.0], \"yaxis\": \"y\"}, {\"hovertemplate\": \"pollster=Texas Lyceum<br>end_date=%{x}<br>pct=%{y}<extra></extra>\", \"legendgroup\": \"Texas Lyceum\", \"marker\": {\"color\": \"#FFA15A\", \"symbol\": \"circle\"}, \"mode\": \"markers\", \"name\": \"Texas Lyceum\", \"orientation\": \"v\", \"showlegend\": true, \"type\": \"scatter\", \"x\": [\"2020-01-19T00:00:00\"], \"xaxis\": \"x\", \"y\": [46.0], \"yaxis\": \"y\"}, {\"hovertemplate\": \"pollster=Beacon Research<br>end_date=%{x}<br>pct=%{y}<extra></extra>\", \"legendgroup\": \"Beacon Research\", \"marker\": {\"color\": \"#19d3f3\", \"symbol\": \"circle\"}, \"mode\": \"markers\", \"name\": \"Beacon Research\", \"orientation\": \"v\", \"showlegend\": true, \"type\": \"scatter\", \"x\": [\"2019-11-21T00:00:00\"], \"xaxis\": \"x\", \"y\": [44.0], \"yaxis\": \"y\"}, {\"hovertemplate\": \"pollster=Univision/University of Houston/Latino Decisions/North Star Opinion Research<br>end_date=%{x}<br>pct=%{y}<extra></extra>\", \"legendgroup\": \"Univision/University of Houston/Latino Decisions/North Star Opinion Research\", \"marker\": {\"color\": \"#FF6692\", \"symbol\": \"circle\"}, \"mode\": \"markers\", \"name\": \"Univision/University of Houston/Latino Decisions/North Star Opinion Research\", \"orientation\": \"v\", \"showlegend\": true, \"type\": \"scatter\", \"x\": [\"2019-09-06T00:00:00\"], \"xaxis\": \"x\", \"y\": [47.0], \"yaxis\": \"y\"}, {\"hovertemplate\": \"pollster=Climate Nexus<br>end_date=%{x}<br>pct=%{y}<extra></extra>\", \"legendgroup\": \"Climate Nexus\", \"marker\": {\"color\": \"#B6E880\", \"symbol\": \"circle\"}, \"mode\": \"markers\", \"name\": \"Climate Nexus\", \"orientation\": \"v\", \"showlegend\": true, \"type\": \"scatter\", \"x\": [\"2019-08-25T00:00:00\"], \"xaxis\": \"x\", \"y\": [43.0], \"yaxis\": \"y\"}, {\"hovertemplate\": \"pollster=WPA Intelligence (WPAi)<br>end_date=%{x}<br>pct=%{y}<extra></extra>\", \"legendgroup\": \"WPA Intelligence (WPAi)\", \"marker\": {\"color\": \"#FF97FF\", \"symbol\": \"circle\"}, \"mode\": \"markers\", \"name\": \"WPA Intelligence (WPAi)\", \"orientation\": \"v\", \"showlegend\": true, \"type\": \"scatter\", \"x\": [\"2019-04-30T00:00:00\"], \"xaxis\": \"x\", \"y\": [42.0], \"yaxis\": \"y\"}],                        {\"legend\": {\"title\": {\"text\": \"pollster\"}, \"tracegroupgap\": 0}, \"margin\": {\"t\": 60}, \"template\": {\"data\": {\"bar\": [{\"error_x\": {\"color\": \"#2a3f5f\"}, \"error_y\": {\"color\": \"#2a3f5f\"}, \"marker\": {\"line\": {\"color\": \"#E5ECF6\", \"width\": 0.5}}, \"type\": \"bar\"}], \"barpolar\": [{\"marker\": {\"line\": {\"color\": \"#E5ECF6\", \"width\": 0.5}}, \"type\": \"barpolar\"}], \"carpet\": [{\"aaxis\": {\"endlinecolor\": \"#2a3f5f\", \"gridcolor\": \"white\", \"linecolor\": \"white\", \"minorgridcolor\": \"white\", \"startlinecolor\": \"#2a3f5f\"}, \"baxis\": {\"endlinecolor\": \"#2a3f5f\", \"gridcolor\": \"white\", \"linecolor\": \"white\", \"minorgridcolor\": \"white\", \"startlinecolor\": \"#2a3f5f\"}, \"type\": \"carpet\"}], \"choropleth\": [{\"colorbar\": {\"outlinewidth\": 0, \"ticks\": \"\"}, \"type\": \"choropleth\"}], \"contour\": [{\"colorbar\": {\"outlinewidth\": 0, \"ticks\": \"\"}, \"colorscale\": [[0.0, \"#0d0887\"], [0.1111111111111111, \"#46039f\"], [0.2222222222222222, \"#7201a8\"], [0.3333333333333333, \"#9c179e\"], [0.4444444444444444, \"#bd3786\"], [0.5555555555555556, \"#d8576b\"], [0.6666666666666666, \"#ed7953\"], [0.7777777777777778, \"#fb9f3a\"], [0.8888888888888888, \"#fdca26\"], [1.0, \"#f0f921\"]], \"type\": \"contour\"}], \"contourcarpet\": [{\"colorbar\": {\"outlinewidth\": 0, \"ticks\": \"\"}, \"type\": \"contourcarpet\"}], \"heatmap\": [{\"colorbar\": {\"outlinewidth\": 0, \"ticks\": \"\"}, \"colorscale\": [[0.0, \"#0d0887\"], [0.1111111111111111, \"#46039f\"], [0.2222222222222222, \"#7201a8\"], [0.3333333333333333, \"#9c179e\"], [0.4444444444444444, \"#bd3786\"], [0.5555555555555556, \"#d8576b\"], [0.6666666666666666, \"#ed7953\"], [0.7777777777777778, \"#fb9f3a\"], [0.8888888888888888, \"#fdca26\"], [1.0, \"#f0f921\"]], \"type\": \"heatmap\"}], \"heatmapgl\": [{\"colorbar\": {\"outlinewidth\": 0, \"ticks\": \"\"}, \"colorscale\": [[0.0, \"#0d0887\"], [0.1111111111111111, \"#46039f\"], [0.2222222222222222, \"#7201a8\"], [0.3333333333333333, \"#9c179e\"], [0.4444444444444444, \"#bd3786\"], [0.5555555555555556, \"#d8576b\"], [0.6666666666666666, \"#ed7953\"], [0.7777777777777778, \"#fb9f3a\"], [0.8888888888888888, \"#fdca26\"], [1.0, \"#f0f921\"]], \"type\": \"heatmapgl\"}], \"histogram\": [{\"marker\": {\"colorbar\": {\"outlinewidth\": 0, \"ticks\": \"\"}}, \"type\": \"histogram\"}], \"histogram2d\": [{\"colorbar\": {\"outlinewidth\": 0, \"ticks\": \"\"}, \"colorscale\": [[0.0, \"#0d0887\"], [0.1111111111111111, \"#46039f\"], [0.2222222222222222, \"#7201a8\"], [0.3333333333333333, \"#9c179e\"], [0.4444444444444444, \"#bd3786\"], [0.5555555555555556, \"#d8576b\"], [0.6666666666666666, \"#ed7953\"], [0.7777777777777778, \"#fb9f3a\"], [0.8888888888888888, \"#fdca26\"], [1.0, \"#f0f921\"]], \"type\": \"histogram2d\"}], \"histogram2dcontour\": [{\"colorbar\": {\"outlinewidth\": 0, \"ticks\": \"\"}, \"colorscale\": [[0.0, \"#0d0887\"], [0.1111111111111111, \"#46039f\"], [0.2222222222222222, \"#7201a8\"], [0.3333333333333333, \"#9c179e\"], [0.4444444444444444, \"#bd3786\"], [0.5555555555555556, \"#d8576b\"], [0.6666666666666666, \"#ed7953\"], [0.7777777777777778, \"#fb9f3a\"], [0.8888888888888888, \"#fdca26\"], [1.0, \"#f0f921\"]], \"type\": \"histogram2dcontour\"}], \"mesh3d\": [{\"colorbar\": {\"outlinewidth\": 0, \"ticks\": \"\"}, \"type\": \"mesh3d\"}], \"parcoords\": [{\"line\": {\"colorbar\": {\"outlinewidth\": 0, \"ticks\": \"\"}}, \"type\": \"parcoords\"}], \"pie\": [{\"automargin\": true, \"type\": \"pie\"}], \"scatter\": [{\"marker\": {\"colorbar\": {\"outlinewidth\": 0, \"ticks\": \"\"}}, \"type\": \"scatter\"}], \"scatter3d\": [{\"line\": {\"colorbar\": {\"outlinewidth\": 0, \"ticks\": \"\"}}, \"marker\": {\"colorbar\": {\"outlinewidth\": 0, \"ticks\": \"\"}}, \"type\": \"scatter3d\"}], \"scattercarpet\": [{\"marker\": {\"colorbar\": {\"outlinewidth\": 0, \"ticks\": \"\"}}, \"type\": \"scattercarpet\"}], \"scattergeo\": [{\"marker\": {\"colorbar\": {\"outlinewidth\": 0, \"ticks\": \"\"}}, \"type\": \"scattergeo\"}], \"scattergl\": [{\"marker\": {\"colorbar\": {\"outlinewidth\": 0, \"ticks\": \"\"}}, \"type\": \"scattergl\"}], \"scattermapbox\": [{\"marker\": {\"colorbar\": {\"outlinewidth\": 0, \"ticks\": \"\"}}, \"type\": \"scattermapbox\"}], \"scatterpolar\": [{\"marker\": {\"colorbar\": {\"outlinewidth\": 0, \"ticks\": \"\"}}, \"type\": \"scatterpolar\"}], \"scatterpolargl\": [{\"marker\": {\"colorbar\": {\"outlinewidth\": 0, \"ticks\": \"\"}}, \"type\": \"scatterpolargl\"}], \"scatterternary\": [{\"marker\": {\"colorbar\": {\"outlinewidth\": 0, \"ticks\": \"\"}}, \"type\": \"scatterternary\"}], \"surface\": [{\"colorbar\": {\"outlinewidth\": 0, \"ticks\": \"\"}, \"colorscale\": [[0.0, \"#0d0887\"], [0.1111111111111111, \"#46039f\"], [0.2222222222222222, \"#7201a8\"], [0.3333333333333333, \"#9c179e\"], [0.4444444444444444, \"#bd3786\"], [0.5555555555555556, \"#d8576b\"], [0.6666666666666666, \"#ed7953\"], [0.7777777777777778, \"#fb9f3a\"], [0.8888888888888888, \"#fdca26\"], [1.0, \"#f0f921\"]], \"type\": \"surface\"}], \"table\": [{\"cells\": {\"fill\": {\"color\": \"#EBF0F8\"}, \"line\": {\"color\": \"white\"}}, \"header\": {\"fill\": {\"color\": \"#C8D4E3\"}, \"line\": {\"color\": \"white\"}}, \"type\": \"table\"}]}, \"layout\": {\"annotationdefaults\": {\"arrowcolor\": \"#2a3f5f\", \"arrowhead\": 0, \"arrowwidth\": 1}, \"coloraxis\": {\"colorbar\": {\"outlinewidth\": 0, \"ticks\": \"\"}}, \"colorscale\": {\"diverging\": [[0, \"#8e0152\"], [0.1, \"#c51b7d\"], [0.2, \"#de77ae\"], [0.3, \"#f1b6da\"], [0.4, \"#fde0ef\"], [0.5, \"#f7f7f7\"], [0.6, \"#e6f5d0\"], [0.7, \"#b8e186\"], [0.8, \"#7fbc41\"], [0.9, \"#4d9221\"], [1, \"#276419\"]], \"sequential\": [[0.0, \"#0d0887\"], [0.1111111111111111, \"#46039f\"], [0.2222222222222222, \"#7201a8\"], [0.3333333333333333, \"#9c179e\"], [0.4444444444444444, \"#bd3786\"], [0.5555555555555556, \"#d8576b\"], [0.6666666666666666, \"#ed7953\"], [0.7777777777777778, \"#fb9f3a\"], [0.8888888888888888, \"#fdca26\"], [1.0, \"#f0f921\"]], \"sequentialminus\": [[0.0, \"#0d0887\"], [0.1111111111111111, \"#46039f\"], [0.2222222222222222, \"#7201a8\"], [0.3333333333333333, \"#9c179e\"], [0.4444444444444444, \"#bd3786\"], [0.5555555555555556, \"#d8576b\"], [0.6666666666666666, \"#ed7953\"], [0.7777777777777778, \"#fb9f3a\"], [0.8888888888888888, \"#fdca26\"], [1.0, \"#f0f921\"]]}, \"colorway\": [\"#636efa\", \"#EF553B\", \"#00cc96\", \"#ab63fa\", \"#FFA15A\", \"#19d3f3\", \"#FF6692\", \"#B6E880\", \"#FF97FF\", \"#FECB52\"], \"font\": {\"color\": \"#2a3f5f\"}, \"geo\": {\"bgcolor\": \"white\", \"lakecolor\": \"white\", \"landcolor\": \"#E5ECF6\", \"showlakes\": true, \"showland\": true, \"subunitcolor\": \"white\"}, \"hoverlabel\": {\"align\": \"left\"}, \"hovermode\": \"closest\", \"mapbox\": {\"style\": \"light\"}, \"paper_bgcolor\": \"white\", \"plot_bgcolor\": \"#E5ECF6\", \"polar\": {\"angularaxis\": {\"gridcolor\": \"white\", \"linecolor\": \"white\", \"ticks\": \"\"}, \"bgcolor\": \"#E5ECF6\", \"radialaxis\": {\"gridcolor\": \"white\", \"linecolor\": \"white\", \"ticks\": \"\"}}, \"scene\": {\"xaxis\": {\"backgroundcolor\": \"#E5ECF6\", \"gridcolor\": \"white\", \"gridwidth\": 2, \"linecolor\": \"white\", \"showbackground\": true, \"ticks\": \"\", \"zerolinecolor\": \"white\"}, \"yaxis\": {\"backgroundcolor\": \"#E5ECF6\", \"gridcolor\": \"white\", \"gridwidth\": 2, \"linecolor\": \"white\", \"showbackground\": true, \"ticks\": \"\", \"zerolinecolor\": \"white\"}, \"zaxis\": {\"backgroundcolor\": \"#E5ECF6\", \"gridcolor\": \"white\", \"gridwidth\": 2, \"linecolor\": \"white\", \"showbackground\": true, \"ticks\": \"\", \"zerolinecolor\": \"white\"}}, \"shapedefaults\": {\"line\": {\"color\": \"#2a3f5f\"}}, \"ternary\": {\"aaxis\": {\"gridcolor\": \"white\", \"linecolor\": \"white\", \"ticks\": \"\"}, \"baxis\": {\"gridcolor\": \"white\", \"linecolor\": \"white\", \"ticks\": \"\"}, \"bgcolor\": \"#E5ECF6\", \"caxis\": {\"gridcolor\": \"white\", \"linecolor\": \"white\", \"ticks\": \"\"}}, \"title\": {\"x\": 0.05}, \"xaxis\": {\"automargin\": true, \"gridcolor\": \"white\", \"linecolor\": \"white\", \"ticks\": \"\", \"title\": {\"standoff\": 15}, \"zerolinecolor\": \"white\", \"zerolinewidth\": 2}, \"yaxis\": {\"automargin\": true, \"gridcolor\": \"white\", \"linecolor\": \"white\", \"ticks\": \"\", \"title\": {\"standoff\": 15}, \"zerolinecolor\": \"white\", \"zerolinewidth\": 2}}}, \"xaxis\": {\"anchor\": \"y\", \"domain\": [0.0, 1.0], \"title\": {\"text\": \"end_date\"}}, \"yaxis\": {\"anchor\": \"x\", \"domain\": [0.0, 1.0], \"title\": {\"text\": \"pct\"}}},                        {\"responsive\": true}                    ).then(function(){\n",
       "                            \n",
       "var gd = document.getElementById('968a93d4-f9c2-4921-921d-4772601823ab');\n",
       "var x = new MutationObserver(function (mutations, observer) {{\n",
       "        var display = window.getComputedStyle(gd).display;\n",
       "        if (!display || display === 'none') {{\n",
       "            console.log([gd, 'removed!']);\n",
       "            Plotly.purge(gd);\n",
       "            observer.disconnect();\n",
       "        }}\n",
       "}});\n",
       "\n",
       "// Listen for the removal of the full notebook cells\n",
       "var notebookContainer = gd.closest('#notebook-container');\n",
       "if (notebookContainer) {{\n",
       "    x.observe(notebookContainer, {childList: true});\n",
       "}}\n",
       "\n",
       "// Listen for the clearing of the current output cell\n",
       "var outputEl = gd.closest('.output');\n",
       "if (outputEl) {{\n",
       "    x.observe(outputEl, {childList: true});\n",
       "}}\n",
       "\n",
       "                        })                };                });            </script>        </div>"
      ]
     },
     "metadata": {},
     "output_type": "display_data"
    }
   ],
   "source": [
    "jb_tx_scatter = px.scatter(jb_texas, y=\"pct\", x=\"end_date\", color=\"pollster\")\n",
    "jb_tx_scatter.show()"
   ]
  },
  {
   "cell_type": "code",
   "execution_count": 39,
   "metadata": {},
   "outputs": [
    {
     "data": {
      "application/vnd.plotly.v1+json": {
       "config": {
        "plotlyServerURL": "https://plot.ly"
       },
       "data": [
        {
         "hovertemplate": "pollster=Data for Progress<br>end_date=%{x}<br>pct=%{y}<extra></extra>",
         "legendgroup": "Data for Progress",
         "marker": {
          "color": "#636efa",
          "symbol": "circle"
         },
         "mode": "markers",
         "name": "Data for Progress",
         "orientation": "v",
         "showlegend": true,
         "type": "scatter",
         "x": [
          "2020-10-25T00:00:00",
          "2020-10-18T00:00:00",
          "2020-10-05T00:00:00",
          "2020-09-22T00:00:00",
          "2020-08-25T00:00:00",
          "2020-01-21T00:00:00"
         ],
         "xaxis": "x",
         "y": [
          49,
          47,
          47,
          45,
          48,
          40
         ],
         "yaxis": "y"
        },
        {
         "hovertemplate": "pollster=Siena College/The New York Times Upshot<br>end_date=%{x}<br>pct=%{y}<extra></extra>",
         "legendgroup": "Siena College/The New York Times Upshot",
         "marker": {
          "color": "#EF553B",
          "symbol": "circle"
         },
         "mode": "markers",
         "name": "Siena College/The New York Times Upshot",
         "orientation": "v",
         "showlegend": true,
         "type": "scatter",
         "x": [
          "2020-10-25T00:00:00",
          "2020-09-22T00:00:00"
         ],
         "xaxis": "x",
         "y": [
          43,
          43
         ],
         "yaxis": "y"
        },
        {
         "hovertemplate": "pollster=SurveyMonkey<br>end_date=%{x}<br>pct=%{y}<extra></extra>",
         "legendgroup": "SurveyMonkey",
         "marker": {
          "color": "#00cc96",
          "symbol": "circle"
         },
         "mode": "markers",
         "name": "SurveyMonkey",
         "orientation": "v",
         "showlegend": true,
         "type": "scatter",
         "x": [
          "2020-10-25T00:00:00",
          "2020-10-25T00:00:00",
          "2020-10-24T00:00:00",
          "2020-10-24T00:00:00",
          "2020-10-23T00:00:00",
          "2020-10-23T00:00:00",
          "2020-10-22T00:00:00",
          "2020-10-22T00:00:00",
          "2020-10-21T00:00:00",
          "2020-10-21T00:00:00",
          "2020-10-20T00:00:00",
          "2020-10-20T00:00:00",
          "2020-10-19T00:00:00",
          "2020-10-19T00:00:00",
          "2020-10-18T00:00:00",
          "2020-10-18T00:00:00",
          "2020-10-17T00:00:00",
          "2020-10-17T00:00:00",
          "2020-10-16T00:00:00",
          "2020-10-16T00:00:00",
          "2020-10-15T00:00:00",
          "2020-10-15T00:00:00",
          "2020-10-14T00:00:00",
          "2020-10-14T00:00:00",
          "2020-10-13T00:00:00",
          "2020-10-13T00:00:00",
          "2020-10-12T00:00:00",
          "2020-10-12T00:00:00",
          "2020-09-30T00:00:00",
          "2020-09-30T00:00:00",
          "2020-08-31T00:00:00",
          "2020-08-31T00:00:00",
          "2020-07-31T00:00:00",
          "2020-07-31T00:00:00",
          "2020-06-30T00:00:00",
          "2020-06-30T00:00:00"
         ],
         "xaxis": "x",
         "y": [
          49,
          48,
          49,
          48,
          49,
          47,
          49,
          47,
          49,
          47,
          49,
          47,
          49,
          47,
          49,
          47,
          49,
          47,
          49,
          47,
          49,
          47,
          49,
          47,
          49,
          47,
          49,
          47,
          46.13,
          48.32,
          46.36,
          48.78,
          46.15,
          48.68,
          46.23,
          49.36
         ],
         "yaxis": "y"
        },
        {
         "hovertemplate": "pollster=University of Texas at Tyler<br>end_date=%{x}<br>pct=%{y}<extra></extra>",
         "legendgroup": "University of Texas at Tyler",
         "marker": {
          "color": "#ab63fa",
          "symbol": "circle"
         },
         "mode": "markers",
         "name": "University of Texas at Tyler",
         "orientation": "v",
         "showlegend": true,
         "type": "scatter",
         "x": [
          "2020-10-20T00:00:00",
          "2020-10-20T00:00:00",
          "2020-09-02T00:00:00",
          "2020-09-02T00:00:00",
          "2020-07-07T00:00:00",
          "2020-07-07T00:00:00",
          "2020-04-27T00:00:00",
          "2020-02-26T00:00:00",
          "2020-01-30T00:00:00",
          "2019-11-14T00:00:00",
          "2019-09-15T00:00:00",
          "2019-08-04T00:00:00",
          "2019-07-27T00:00:00"
         ],
         "xaxis": "x",
         "y": [
          46,
          48,
          44,
          46,
          46,
          48,
          43,
          44,
          42,
          39.4,
          39.6,
          41.2,
          36.9
         ],
         "yaxis": "y"
        },
        {
         "hovertemplate": "pollster=YouGov<br>end_date=%{x}<br>pct=%{y}<extra></extra>",
         "legendgroup": "YouGov",
         "marker": {
          "color": "#FFA15A",
          "symbol": "circle"
         },
         "mode": "markers",
         "name": "YouGov",
         "orientation": "v",
         "showlegend": true,
         "type": "scatter",
         "x": [
          "2020-10-20T00:00:00",
          "2020-10-04T00:00:00",
          "2020-09-18T00:00:00",
          "2020-08-13T00:00:00",
          "2020-07-10T00:00:00",
          "2020-06-29T00:00:00",
          "2020-04-19T00:00:00",
          "2020-02-09T00:00:00",
          "2019-10-27T00:00:00"
         ],
         "xaxis": "x",
         "y": [
          44.7,
          45,
          46,
          40.5,
          45,
          44,
          44,
          43,
          39
         ],
         "yaxis": "y"
        },
        {
         "hovertemplate": "pollster=Morning Consult<br>end_date=%{x}<br>pct=%{y}<extra></extra>",
         "legendgroup": "Morning Consult",
         "marker": {
          "color": "#19d3f3",
          "symbol": "circle"
         },
         "mode": "markers",
         "name": "Morning Consult",
         "orientation": "v",
         "showlegend": true,
         "type": "scatter",
         "x": [
          "2020-10-20T00:00:00",
          "2020-10-11T00:00:00",
          "2020-09-07T00:00:00",
          "2020-08-30T00:00:00",
          "2020-08-16T00:00:00",
          "2020-08-02T00:00:00",
          "2020-07-26T00:00:00",
          "2020-05-26T00:00:00"
         ],
         "xaxis": "x",
         "y": [
          48,
          47,
          46,
          47,
          46,
          47,
          47,
          43
         ],
         "yaxis": "y"
        },
        {
         "hovertemplate": "pollster=Quinnipiac University<br>end_date=%{x}<br>pct=%{y}<extra></extra>",
         "legendgroup": "Quinnipiac University",
         "marker": {
          "color": "#FF6692",
          "symbol": "circle"
         },
         "mode": "markers",
         "name": "Quinnipiac University",
         "orientation": "v",
         "showlegend": true,
         "type": "scatter",
         "x": [
          "2020-10-19T00:00:00",
          "2020-09-21T00:00:00",
          "2020-07-20T00:00:00",
          "2020-06-01T00:00:00",
          "2019-06-04T00:00:00",
          "2019-02-25T00:00:00"
         ],
         "xaxis": "x",
         "y": [
          47,
          45,
          45,
          43,
          48,
          46
         ],
         "yaxis": "y"
        },
        {
         "hovertemplate": "pollster=Public Policy Polling<br>end_date=%{x}<br>pct=%{y}<extra></extra>",
         "legendgroup": "Public Policy Polling",
         "marker": {
          "color": "#B6E880",
          "symbol": "circle"
         },
         "mode": "markers",
         "name": "Public Policy Polling",
         "orientation": "v",
         "showlegend": true,
         "type": "scatter",
         "x": [
          "2020-10-08T00:00:00",
          "2020-09-26T00:00:00",
          "2020-09-02T00:00:00",
          "2020-08-22T00:00:00",
          "2020-06-25T00:00:00",
          "2020-06-19T00:00:00",
          "2020-06-04T00:00:00",
          "2020-04-28T00:00:00",
          "2019-02-14T00:00:00"
         ],
         "xaxis": "x",
         "y": [
          50,
          48,
          47,
          48,
          48,
          46,
          48,
          47,
          46
         ],
         "yaxis": "y"
        },
        {
         "hovertemplate": "pollster=Rasmussen Reports/Pulse Opinion Research<br>end_date=%{x}<br>pct=%{y}<extra></extra>",
         "legendgroup": "Rasmussen Reports/Pulse Opinion Research",
         "marker": {
          "color": "#FF97FF",
          "symbol": "circle"
         },
         "mode": "markers",
         "name": "Rasmussen Reports/Pulse Opinion Research",
         "orientation": "v",
         "showlegend": true,
         "type": "scatter",
         "x": [
          "2020-10-06T00:00:00"
         ],
         "xaxis": "x",
         "y": [
          44
         ],
         "yaxis": "y"
        },
        {
         "hovertemplate": "pollster=Civiqs<br>end_date=%{x}<br>pct=%{y}<extra></extra>",
         "legendgroup": "Civiqs",
         "marker": {
          "color": "#FECB52",
          "symbol": "circle"
         },
         "mode": "markers",
         "name": "Civiqs",
         "orientation": "v",
         "showlegend": true,
         "type": "scatter",
         "x": [
          "2020-10-06T00:00:00"
         ],
         "xaxis": "x",
         "y": [
          48
         ],
         "yaxis": "y"
        },
        {
         "hovertemplate": "pollster=EMC Research<br>end_date=%{x}<br>pct=%{y}<extra></extra>",
         "legendgroup": "EMC Research",
         "marker": {
          "color": "#636efa",
          "symbol": "circle"
         },
         "mode": "markers",
         "name": "EMC Research",
         "orientation": "v",
         "showlegend": true,
         "type": "scatter",
         "x": [
          "2020-10-02T00:00:00"
         ],
         "xaxis": "x",
         "y": [
          49
         ],
         "yaxis": "y"
        },
        {
         "hovertemplate": "pollster=Garin-Hart-Yang Research Group<br>end_date=%{x}<br>pct=%{y}<extra></extra>",
         "legendgroup": "Garin-Hart-Yang Research Group",
         "marker": {
          "color": "#EF553B",
          "symbol": "circle"
         },
         "mode": "markers",
         "name": "Garin-Hart-Yang Research Group",
         "orientation": "v",
         "showlegend": true,
         "type": "scatter",
         "x": [
          "2020-09-27T00:00:00"
         ],
         "xaxis": "x",
         "y": [
          47
         ],
         "yaxis": "y"
        },
        {
         "hovertemplate": "pollster=University of Massachusetts Lowell<br>end_date=%{x}<br>pct=%{y}<extra></extra>",
         "legendgroup": "University of Massachusetts Lowell",
         "marker": {
          "color": "#00cc96",
          "symbol": "circle"
         },
         "mode": "markers",
         "name": "University of Massachusetts Lowell",
         "orientation": "v",
         "showlegend": true,
         "type": "scatter",
         "x": [
          "2020-09-25T00:00:00",
          "2020-09-25T00:00:00"
         ],
         "xaxis": "x",
         "y": [
          46,
          46
         ],
         "yaxis": "y"
        },
        {
         "hovertemplate": "pollster=The Tyson Group<br>end_date=%{x}<br>pct=%{y}<extra></extra>",
         "legendgroup": "The Tyson Group",
         "marker": {
          "color": "#ab63fa",
          "symbol": "circle"
         },
         "mode": "markers",
         "name": "The Tyson Group",
         "orientation": "v",
         "showlegend": true,
         "type": "scatter",
         "x": [
          "2020-08-25T00:00:00"
         ],
         "xaxis": "x",
         "y": [
          48
         ],
         "yaxis": "y"
        },
        {
         "hovertemplate": "pollster=Global Strategy Group<br>end_date=%{x}<br>pct=%{y}<extra></extra>",
         "legendgroup": "Global Strategy Group",
         "marker": {
          "color": "#FFA15A",
          "symbol": "circle"
         },
         "mode": "markers",
         "name": "Global Strategy Group",
         "orientation": "v",
         "showlegend": true,
         "type": "scatter",
         "x": [
          "2020-08-13T00:00:00"
         ],
         "xaxis": "x",
         "y": [
          47
         ],
         "yaxis": "y"
        },
        {
         "hovertemplate": "pollster=Trafalgar Group<br>end_date=%{x}<br>pct=%{y}<extra></extra>",
         "legendgroup": "Trafalgar Group",
         "marker": {
          "color": "#19d3f3",
          "symbol": "circle"
         },
         "mode": "markers",
         "name": "Trafalgar Group",
         "orientation": "v",
         "showlegend": true,
         "type": "scatter",
         "x": [
          "2020-08-05T00:00:00"
         ],
         "xaxis": "x",
         "y": [
          43.4
         ],
         "yaxis": "y"
        },
        {
         "hovertemplate": "pollster=Spry Strategies<br>end_date=%{x}<br>pct=%{y}<extra></extra>",
         "legendgroup": "Spry Strategies",
         "marker": {
          "color": "#FF6692",
          "symbol": "circle"
         },
         "mode": "markers",
         "name": "Spry Strategies",
         "orientation": "v",
         "showlegend": true,
         "type": "scatter",
         "x": [
          "2020-07-20T00:00:00"
         ],
         "xaxis": "x",
         "y": [
          44.76
         ],
         "yaxis": "y"
        },
        {
         "hovertemplate": "pollster=Gravis Marketing<br>end_date=%{x}<br>pct=%{y}<extra></extra>",
         "legendgroup": "Gravis Marketing",
         "marker": {
          "color": "#B6E880",
          "symbol": "circle"
         },
         "mode": "markers",
         "name": "Gravis Marketing",
         "orientation": "v",
         "showlegend": true,
         "type": "scatter",
         "x": [
          "2020-07-07T00:00:00"
         ],
         "xaxis": "x",
         "y": [
          44
         ],
         "yaxis": "y"
        },
        {
         "hovertemplate": "pollster=Fox News/Beacon Research/Shaw & Co. Research<br>end_date=%{x}<br>pct=%{y}<extra></extra>",
         "legendgroup": "Fox News/Beacon Research/Shaw & Co. Research",
         "marker": {
          "color": "#FF97FF",
          "symbol": "circle"
         },
         "mode": "markers",
         "name": "Fox News/Beacon Research/Shaw & Co. Research",
         "orientation": "v",
         "showlegend": true,
         "type": "scatter",
         "x": [
          "2020-06-23T00:00:00"
         ],
         "xaxis": "x",
         "y": [
          45
         ],
         "yaxis": "y"
        },
        {
         "hovertemplate": "pollster=Emerson College<br>end_date=%{x}<br>pct=%{y}<extra></extra>",
         "legendgroup": "Emerson College",
         "marker": {
          "color": "#FECB52",
          "symbol": "circle"
         },
         "mode": "markers",
         "name": "Emerson College",
         "orientation": "v",
         "showlegend": true,
         "type": "scatter",
         "x": [
          "2020-05-10T00:00:00",
          "2019-08-03T00:00:00",
          "2019-04-28T00:00:00"
         ],
         "xaxis": "x",
         "y": [
          48.31,
          50.8,
          50.5
         ],
         "yaxis": "y"
        },
        {
         "hovertemplate": "pollster=AtlasIntel<br>end_date=%{x}<br>pct=%{y}<extra></extra>",
         "legendgroup": "AtlasIntel",
         "marker": {
          "color": "#636efa",
          "symbol": "circle"
         },
         "mode": "markers",
         "name": "AtlasIntel",
         "orientation": "v",
         "showlegend": true,
         "type": "scatter",
         "x": [
          "2020-03-02T00:00:00"
         ],
         "xaxis": "x",
         "y": [
          42.8
         ],
         "yaxis": "y"
        },
        {
         "hovertemplate": "pollster=Marist College<br>end_date=%{x}<br>pct=%{y}<extra></extra>",
         "legendgroup": "Marist College",
         "marker": {
          "color": "#EF553B",
          "symbol": "circle"
         },
         "mode": "markers",
         "name": "Marist College",
         "orientation": "v",
         "showlegend": true,
         "type": "scatter",
         "x": [
          "2020-02-27T00:00:00"
         ],
         "xaxis": "x",
         "y": [
          45
         ],
         "yaxis": "y"
        },
        {
         "hovertemplate": "pollster=SSRS<br>end_date=%{x}<br>pct=%{y}<extra></extra>",
         "legendgroup": "SSRS",
         "marker": {
          "color": "#00cc96",
          "symbol": "circle"
         },
         "mode": "markers",
         "name": "SSRS",
         "orientation": "v",
         "showlegend": true,
         "type": "scatter",
         "x": [
          "2020-02-26T00:00:00",
          "2019-12-09T00:00:00"
         ],
         "xaxis": "x",
         "y": [
          48,
          47
         ],
         "yaxis": "y"
        },
        {
         "hovertemplate": "pollster=Univision/University of Houston/Latino Decisions<br>end_date=%{x}<br>pct=%{y}<extra></extra>",
         "legendgroup": "Univision/University of Houston/Latino Decisions",
         "marker": {
          "color": "#ab63fa",
          "symbol": "circle"
         },
         "mode": "markers",
         "name": "Univision/University of Houston/Latino Decisions",
         "orientation": "v",
         "showlegend": true,
         "type": "scatter",
         "x": [
          "2020-02-26T00:00:00"
         ],
         "xaxis": "x",
         "y": [
          43
         ],
         "yaxis": "y"
        },
        {
         "hovertemplate": "pollster=Texas Lyceum<br>end_date=%{x}<br>pct=%{y}<extra></extra>",
         "legendgroup": "Texas Lyceum",
         "marker": {
          "color": "#FFA15A",
          "symbol": "circle"
         },
         "mode": "markers",
         "name": "Texas Lyceum",
         "orientation": "v",
         "showlegend": true,
         "type": "scatter",
         "x": [
          "2020-01-19T00:00:00"
         ],
         "xaxis": "x",
         "y": [
          46
         ],
         "yaxis": "y"
        },
        {
         "hovertemplate": "pollster=Beacon Research<br>end_date=%{x}<br>pct=%{y}<extra></extra>",
         "legendgroup": "Beacon Research",
         "marker": {
          "color": "#19d3f3",
          "symbol": "circle"
         },
         "mode": "markers",
         "name": "Beacon Research",
         "orientation": "v",
         "showlegend": true,
         "type": "scatter",
         "x": [
          "2019-11-21T00:00:00"
         ],
         "xaxis": "x",
         "y": [
          44
         ],
         "yaxis": "y"
        },
        {
         "hovertemplate": "pollster=Univision/University of Houston/Latino Decisions/North Star Opinion Research<br>end_date=%{x}<br>pct=%{y}<extra></extra>",
         "legendgroup": "Univision/University of Houston/Latino Decisions/North Star Opinion Research",
         "marker": {
          "color": "#FF6692",
          "symbol": "circle"
         },
         "mode": "markers",
         "name": "Univision/University of Houston/Latino Decisions/North Star Opinion Research",
         "orientation": "v",
         "showlegend": true,
         "type": "scatter",
         "x": [
          "2019-09-06T00:00:00"
         ],
         "xaxis": "x",
         "y": [
          47
         ],
         "yaxis": "y"
        },
        {
         "hovertemplate": "pollster=Climate Nexus<br>end_date=%{x}<br>pct=%{y}<extra></extra>",
         "legendgroup": "Climate Nexus",
         "marker": {
          "color": "#B6E880",
          "symbol": "circle"
         },
         "mode": "markers",
         "name": "Climate Nexus",
         "orientation": "v",
         "showlegend": true,
         "type": "scatter",
         "x": [
          "2019-08-25T00:00:00"
         ],
         "xaxis": "x",
         "y": [
          43
         ],
         "yaxis": "y"
        },
        {
         "hovertemplate": "pollster=WPA Intelligence (WPAi)<br>end_date=%{x}<br>pct=%{y}<extra></extra>",
         "legendgroup": "WPA Intelligence (WPAi)",
         "marker": {
          "color": "#FF97FF",
          "symbol": "circle"
         },
         "mode": "markers",
         "name": "WPA Intelligence (WPAi)",
         "orientation": "v",
         "showlegend": true,
         "type": "scatter",
         "x": [
          "2019-04-30T00:00:00"
         ],
         "xaxis": "x",
         "y": [
          42
         ],
         "yaxis": "y"
        }
       ],
       "layout": {
        "autosize": true,
        "legend": {
         "title": {
          "text": "pollster"
         },
         "tracegroupgap": 0
        },
        "margin": {
         "t": 60
        },
        "template": {
         "data": {
          "bar": [
           {
            "error_x": {
             "color": "#2a3f5f"
            },
            "error_y": {
             "color": "#2a3f5f"
            },
            "marker": {
             "line": {
              "color": "#E5ECF6",
              "width": 0.5
             }
            },
            "type": "bar"
           }
          ],
          "barpolar": [
           {
            "marker": {
             "line": {
              "color": "#E5ECF6",
              "width": 0.5
             }
            },
            "type": "barpolar"
           }
          ],
          "carpet": [
           {
            "aaxis": {
             "endlinecolor": "#2a3f5f",
             "gridcolor": "white",
             "linecolor": "white",
             "minorgridcolor": "white",
             "startlinecolor": "#2a3f5f"
            },
            "baxis": {
             "endlinecolor": "#2a3f5f",
             "gridcolor": "white",
             "linecolor": "white",
             "minorgridcolor": "white",
             "startlinecolor": "#2a3f5f"
            },
            "type": "carpet"
           }
          ],
          "choropleth": [
           {
            "colorbar": {
             "outlinewidth": 0,
             "ticks": ""
            },
            "type": "choropleth"
           }
          ],
          "contour": [
           {
            "colorbar": {
             "outlinewidth": 0,
             "ticks": ""
            },
            "colorscale": [
             [
              0,
              "#0d0887"
             ],
             [
              0.1111111111111111,
              "#46039f"
             ],
             [
              0.2222222222222222,
              "#7201a8"
             ],
             [
              0.3333333333333333,
              "#9c179e"
             ],
             [
              0.4444444444444444,
              "#bd3786"
             ],
             [
              0.5555555555555556,
              "#d8576b"
             ],
             [
              0.6666666666666666,
              "#ed7953"
             ],
             [
              0.7777777777777778,
              "#fb9f3a"
             ],
             [
              0.8888888888888888,
              "#fdca26"
             ],
             [
              1,
              "#f0f921"
             ]
            ],
            "type": "contour"
           }
          ],
          "contourcarpet": [
           {
            "colorbar": {
             "outlinewidth": 0,
             "ticks": ""
            },
            "type": "contourcarpet"
           }
          ],
          "heatmap": [
           {
            "colorbar": {
             "outlinewidth": 0,
             "ticks": ""
            },
            "colorscale": [
             [
              0,
              "#0d0887"
             ],
             [
              0.1111111111111111,
              "#46039f"
             ],
             [
              0.2222222222222222,
              "#7201a8"
             ],
             [
              0.3333333333333333,
              "#9c179e"
             ],
             [
              0.4444444444444444,
              "#bd3786"
             ],
             [
              0.5555555555555556,
              "#d8576b"
             ],
             [
              0.6666666666666666,
              "#ed7953"
             ],
             [
              0.7777777777777778,
              "#fb9f3a"
             ],
             [
              0.8888888888888888,
              "#fdca26"
             ],
             [
              1,
              "#f0f921"
             ]
            ],
            "type": "heatmap"
           }
          ],
          "heatmapgl": [
           {
            "colorbar": {
             "outlinewidth": 0,
             "ticks": ""
            },
            "colorscale": [
             [
              0,
              "#0d0887"
             ],
             [
              0.1111111111111111,
              "#46039f"
             ],
             [
              0.2222222222222222,
              "#7201a8"
             ],
             [
              0.3333333333333333,
              "#9c179e"
             ],
             [
              0.4444444444444444,
              "#bd3786"
             ],
             [
              0.5555555555555556,
              "#d8576b"
             ],
             [
              0.6666666666666666,
              "#ed7953"
             ],
             [
              0.7777777777777778,
              "#fb9f3a"
             ],
             [
              0.8888888888888888,
              "#fdca26"
             ],
             [
              1,
              "#f0f921"
             ]
            ],
            "type": "heatmapgl"
           }
          ],
          "histogram": [
           {
            "marker": {
             "colorbar": {
              "outlinewidth": 0,
              "ticks": ""
             }
            },
            "type": "histogram"
           }
          ],
          "histogram2d": [
           {
            "colorbar": {
             "outlinewidth": 0,
             "ticks": ""
            },
            "colorscale": [
             [
              0,
              "#0d0887"
             ],
             [
              0.1111111111111111,
              "#46039f"
             ],
             [
              0.2222222222222222,
              "#7201a8"
             ],
             [
              0.3333333333333333,
              "#9c179e"
             ],
             [
              0.4444444444444444,
              "#bd3786"
             ],
             [
              0.5555555555555556,
              "#d8576b"
             ],
             [
              0.6666666666666666,
              "#ed7953"
             ],
             [
              0.7777777777777778,
              "#fb9f3a"
             ],
             [
              0.8888888888888888,
              "#fdca26"
             ],
             [
              1,
              "#f0f921"
             ]
            ],
            "type": "histogram2d"
           }
          ],
          "histogram2dcontour": [
           {
            "colorbar": {
             "outlinewidth": 0,
             "ticks": ""
            },
            "colorscale": [
             [
              0,
              "#0d0887"
             ],
             [
              0.1111111111111111,
              "#46039f"
             ],
             [
              0.2222222222222222,
              "#7201a8"
             ],
             [
              0.3333333333333333,
              "#9c179e"
             ],
             [
              0.4444444444444444,
              "#bd3786"
             ],
             [
              0.5555555555555556,
              "#d8576b"
             ],
             [
              0.6666666666666666,
              "#ed7953"
             ],
             [
              0.7777777777777778,
              "#fb9f3a"
             ],
             [
              0.8888888888888888,
              "#fdca26"
             ],
             [
              1,
              "#f0f921"
             ]
            ],
            "type": "histogram2dcontour"
           }
          ],
          "mesh3d": [
           {
            "colorbar": {
             "outlinewidth": 0,
             "ticks": ""
            },
            "type": "mesh3d"
           }
          ],
          "parcoords": [
           {
            "line": {
             "colorbar": {
              "outlinewidth": 0,
              "ticks": ""
             }
            },
            "type": "parcoords"
           }
          ],
          "pie": [
           {
            "automargin": true,
            "type": "pie"
           }
          ],
          "scatter": [
           {
            "marker": {
             "colorbar": {
              "outlinewidth": 0,
              "ticks": ""
             }
            },
            "type": "scatter"
           }
          ],
          "scatter3d": [
           {
            "line": {
             "colorbar": {
              "outlinewidth": 0,
              "ticks": ""
             }
            },
            "marker": {
             "colorbar": {
              "outlinewidth": 0,
              "ticks": ""
             }
            },
            "type": "scatter3d"
           }
          ],
          "scattercarpet": [
           {
            "marker": {
             "colorbar": {
              "outlinewidth": 0,
              "ticks": ""
             }
            },
            "type": "scattercarpet"
           }
          ],
          "scattergeo": [
           {
            "marker": {
             "colorbar": {
              "outlinewidth": 0,
              "ticks": ""
             }
            },
            "type": "scattergeo"
           }
          ],
          "scattergl": [
           {
            "marker": {
             "colorbar": {
              "outlinewidth": 0,
              "ticks": ""
             }
            },
            "type": "scattergl"
           }
          ],
          "scattermapbox": [
           {
            "marker": {
             "colorbar": {
              "outlinewidth": 0,
              "ticks": ""
             }
            },
            "type": "scattermapbox"
           }
          ],
          "scatterpolar": [
           {
            "marker": {
             "colorbar": {
              "outlinewidth": 0,
              "ticks": ""
             }
            },
            "type": "scatterpolar"
           }
          ],
          "scatterpolargl": [
           {
            "marker": {
             "colorbar": {
              "outlinewidth": 0,
              "ticks": ""
             }
            },
            "type": "scatterpolargl"
           }
          ],
          "scatterternary": [
           {
            "marker": {
             "colorbar": {
              "outlinewidth": 0,
              "ticks": ""
             }
            },
            "type": "scatterternary"
           }
          ],
          "surface": [
           {
            "colorbar": {
             "outlinewidth": 0,
             "ticks": ""
            },
            "colorscale": [
             [
              0,
              "#0d0887"
             ],
             [
              0.1111111111111111,
              "#46039f"
             ],
             [
              0.2222222222222222,
              "#7201a8"
             ],
             [
              0.3333333333333333,
              "#9c179e"
             ],
             [
              0.4444444444444444,
              "#bd3786"
             ],
             [
              0.5555555555555556,
              "#d8576b"
             ],
             [
              0.6666666666666666,
              "#ed7953"
             ],
             [
              0.7777777777777778,
              "#fb9f3a"
             ],
             [
              0.8888888888888888,
              "#fdca26"
             ],
             [
              1,
              "#f0f921"
             ]
            ],
            "type": "surface"
           }
          ],
          "table": [
           {
            "cells": {
             "fill": {
              "color": "#EBF0F8"
             },
             "line": {
              "color": "white"
             }
            },
            "header": {
             "fill": {
              "color": "#C8D4E3"
             },
             "line": {
              "color": "white"
             }
            },
            "type": "table"
           }
          ]
         },
         "layout": {
          "annotationdefaults": {
           "arrowcolor": "#2a3f5f",
           "arrowhead": 0,
           "arrowwidth": 1
          },
          "coloraxis": {
           "colorbar": {
            "outlinewidth": 0,
            "ticks": ""
           }
          },
          "colorscale": {
           "diverging": [
            [
             0,
             "#8e0152"
            ],
            [
             0.1,
             "#c51b7d"
            ],
            [
             0.2,
             "#de77ae"
            ],
            [
             0.3,
             "#f1b6da"
            ],
            [
             0.4,
             "#fde0ef"
            ],
            [
             0.5,
             "#f7f7f7"
            ],
            [
             0.6,
             "#e6f5d0"
            ],
            [
             0.7,
             "#b8e186"
            ],
            [
             0.8,
             "#7fbc41"
            ],
            [
             0.9,
             "#4d9221"
            ],
            [
             1,
             "#276419"
            ]
           ],
           "sequential": [
            [
             0,
             "#0d0887"
            ],
            [
             0.1111111111111111,
             "#46039f"
            ],
            [
             0.2222222222222222,
             "#7201a8"
            ],
            [
             0.3333333333333333,
             "#9c179e"
            ],
            [
             0.4444444444444444,
             "#bd3786"
            ],
            [
             0.5555555555555556,
             "#d8576b"
            ],
            [
             0.6666666666666666,
             "#ed7953"
            ],
            [
             0.7777777777777778,
             "#fb9f3a"
            ],
            [
             0.8888888888888888,
             "#fdca26"
            ],
            [
             1,
             "#f0f921"
            ]
           ],
           "sequentialminus": [
            [
             0,
             "#0d0887"
            ],
            [
             0.1111111111111111,
             "#46039f"
            ],
            [
             0.2222222222222222,
             "#7201a8"
            ],
            [
             0.3333333333333333,
             "#9c179e"
            ],
            [
             0.4444444444444444,
             "#bd3786"
            ],
            [
             0.5555555555555556,
             "#d8576b"
            ],
            [
             0.6666666666666666,
             "#ed7953"
            ],
            [
             0.7777777777777778,
             "#fb9f3a"
            ],
            [
             0.8888888888888888,
             "#fdca26"
            ],
            [
             1,
             "#f0f921"
            ]
           ]
          },
          "colorway": [
           "#636efa",
           "#EF553B",
           "#00cc96",
           "#ab63fa",
           "#FFA15A",
           "#19d3f3",
           "#FF6692",
           "#B6E880",
           "#FF97FF",
           "#FECB52"
          ],
          "font": {
           "color": "#2a3f5f"
          },
          "geo": {
           "bgcolor": "white",
           "lakecolor": "white",
           "landcolor": "#E5ECF6",
           "showlakes": true,
           "showland": true,
           "subunitcolor": "white"
          },
          "hoverlabel": {
           "align": "left"
          },
          "hovermode": "closest",
          "mapbox": {
           "style": "light"
          },
          "paper_bgcolor": "white",
          "plot_bgcolor": "#E5ECF6",
          "polar": {
           "angularaxis": {
            "gridcolor": "white",
            "linecolor": "white",
            "ticks": ""
           },
           "bgcolor": "#E5ECF6",
           "radialaxis": {
            "gridcolor": "white",
            "linecolor": "white",
            "ticks": ""
           }
          },
          "scene": {
           "xaxis": {
            "backgroundcolor": "#E5ECF6",
            "gridcolor": "white",
            "gridwidth": 2,
            "linecolor": "white",
            "showbackground": true,
            "ticks": "",
            "zerolinecolor": "white"
           },
           "yaxis": {
            "backgroundcolor": "#E5ECF6",
            "gridcolor": "white",
            "gridwidth": 2,
            "linecolor": "white",
            "showbackground": true,
            "ticks": "",
            "zerolinecolor": "white"
           },
           "zaxis": {
            "backgroundcolor": "#E5ECF6",
            "gridcolor": "white",
            "gridwidth": 2,
            "linecolor": "white",
            "showbackground": true,
            "ticks": "",
            "zerolinecolor": "white"
           }
          },
          "shapedefaults": {
           "line": {
            "color": "#2a3f5f"
           }
          },
          "ternary": {
           "aaxis": {
            "gridcolor": "white",
            "linecolor": "white",
            "ticks": ""
           },
           "baxis": {
            "gridcolor": "white",
            "linecolor": "white",
            "ticks": ""
           },
           "bgcolor": "#E5ECF6",
           "caxis": {
            "gridcolor": "white",
            "linecolor": "white",
            "ticks": ""
           }
          },
          "title": {
           "x": 0.05
          },
          "xaxis": {
           "automargin": true,
           "gridcolor": "white",
           "linecolor": "white",
           "ticks": "",
           "title": {
            "standoff": 15
           },
           "zerolinecolor": "white",
           "zerolinewidth": 2
          },
          "yaxis": {
           "automargin": true,
           "gridcolor": "white",
           "linecolor": "white",
           "ticks": "",
           "title": {
            "standoff": 15
           },
           "zerolinecolor": "white",
           "zerolinewidth": 2
          }
         }
        },
        "xaxis": {
         "anchor": "y",
         "autorange": true,
         "domain": [
          0,
          1
         ],
         "range": [
          "2019-01-06 20:57:23.4783",
          "2020-12-02 03:02:36.5217"
         ],
         "title": {
          "text": "end_date"
         },
         "type": "date"
        },
        "yaxis": {
         "anchor": "x",
         "autorange": true,
         "domain": [
          0,
          1
         ],
         "range": [
          35.914456721915286,
          51.78554327808471
         ],
         "title": {
          "text": "pct"
         },
         "type": "linear"
        }
       }
      },
      "image/png": "[encoded data removed]",
      "text/html": [
       "<div>                            <div id=\"e6501700-cb92-4824-bb6f-b09d30c17c70\" class=\"plotly-graph-div\" style=\"height:525px; width:100%;\"></div>            <script type=\"text/javascript\">                require([\"plotly\"], function(Plotly) {                    window.PLOTLYENV=window.PLOTLYENV || {};                                    if (document.getElementById(\"e6501700-cb92-4824-bb6f-b09d30c17c70\")) {                    Plotly.newPlot(                        \"e6501700-cb92-4824-bb6f-b09d30c17c70\",                        [{\"hovertemplate\": \"pollster=Data for Progress<br>end_date=%{x}<br>pct=%{y}<extra></extra>\", \"legendgroup\": \"Data for Progress\", \"marker\": {\"color\": \"#636efa\", \"symbol\": \"circle\"}, \"mode\": \"markers\", \"name\": \"Data for Progress\", \"orientation\": \"v\", \"showlegend\": true, \"type\": \"scatter\", \"x\": [\"2020-10-25T00:00:00\", \"2020-10-18T00:00:00\", \"2020-10-05T00:00:00\", \"2020-09-22T00:00:00\", \"2020-08-25T00:00:00\", \"2020-01-21T00:00:00\"], \"xaxis\": \"x\", \"y\": [49.0, 47.0, 47.0, 45.0, 48.0, 40.0], \"yaxis\": \"y\"}, {\"hovertemplate\": \"pollster=Siena College/The New York Times Upshot<br>end_date=%{x}<br>pct=%{y}<extra></extra>\", \"legendgroup\": \"Siena College/The New York Times Upshot\", \"marker\": {\"color\": \"#EF553B\", \"symbol\": \"circle\"}, \"mode\": \"markers\", \"name\": \"Siena College/The New York Times Upshot\", \"orientation\": \"v\", \"showlegend\": true, \"type\": \"scatter\", \"x\": [\"2020-10-25T00:00:00\", \"2020-09-22T00:00:00\"], \"xaxis\": \"x\", \"y\": [43.0, 43.0], \"yaxis\": \"y\"}, {\"hovertemplate\": \"pollster=SurveyMonkey<br>end_date=%{x}<br>pct=%{y}<extra></extra>\", \"legendgroup\": \"SurveyMonkey\", \"marker\": {\"color\": \"#00cc96\", \"symbol\": \"circle\"}, \"mode\": \"markers\", \"name\": \"SurveyMonkey\", \"orientation\": \"v\", \"showlegend\": true, \"type\": \"scatter\", \"x\": [\"2020-10-25T00:00:00\", \"2020-10-25T00:00:00\", \"2020-10-24T00:00:00\", \"2020-10-24T00:00:00\", \"2020-10-23T00:00:00\", \"2020-10-23T00:00:00\", \"2020-10-22T00:00:00\", \"2020-10-22T00:00:00\", \"2020-10-21T00:00:00\", \"2020-10-21T00:00:00\", \"2020-10-20T00:00:00\", \"2020-10-20T00:00:00\", \"2020-10-19T00:00:00\", \"2020-10-19T00:00:00\", \"2020-10-18T00:00:00\", \"2020-10-18T00:00:00\", \"2020-10-17T00:00:00\", \"2020-10-17T00:00:00\", \"2020-10-16T00:00:00\", \"2020-10-16T00:00:00\", \"2020-10-15T00:00:00\", \"2020-10-15T00:00:00\", \"2020-10-14T00:00:00\", \"2020-10-14T00:00:00\", \"2020-10-13T00:00:00\", \"2020-10-13T00:00:00\", \"2020-10-12T00:00:00\", \"2020-10-12T00:00:00\", \"2020-09-30T00:00:00\", \"2020-09-30T00:00:00\", \"2020-08-31T00:00:00\", \"2020-08-31T00:00:00\", \"2020-07-31T00:00:00\", \"2020-07-31T00:00:00\", \"2020-06-30T00:00:00\", \"2020-06-30T00:00:00\"], \"xaxis\": \"x\", \"y\": [49.0, 48.0, 49.0, 48.0, 49.0, 47.0, 49.0, 47.0, 49.0, 47.0, 49.0, 47.0, 49.0, 47.0, 49.0, 47.0, 49.0, 47.0, 49.0, 47.0, 49.0, 47.0, 49.0, 47.0, 49.0, 47.0, 49.0, 47.0, 46.13, 48.32, 46.36, 48.78, 46.15, 48.68, 46.23, 49.36], \"yaxis\": \"y\"}, {\"hovertemplate\": \"pollster=University of Texas at Tyler<br>end_date=%{x}<br>pct=%{y}<extra></extra>\", \"legendgroup\": \"University of Texas at Tyler\", \"marker\": {\"color\": \"#ab63fa\", \"symbol\": \"circle\"}, \"mode\": \"markers\", \"name\": \"University of Texas at Tyler\", \"orientation\": \"v\", \"showlegend\": true, \"type\": \"scatter\", \"x\": [\"2020-10-20T00:00:00\", \"2020-10-20T00:00:00\", \"2020-09-02T00:00:00\", \"2020-09-02T00:00:00\", \"2020-07-07T00:00:00\", \"2020-07-07T00:00:00\", \"2020-04-27T00:00:00\", \"2020-02-26T00:00:00\", \"2020-01-30T00:00:00\", \"2019-11-14T00:00:00\", \"2019-09-15T00:00:00\", \"2019-08-04T00:00:00\", \"2019-07-27T00:00:00\"], \"xaxis\": \"x\", \"y\": [46.0, 48.0, 44.0, 46.0, 46.0, 48.0, 43.0, 44.0, 42.0, 39.4, 39.6, 41.2, 36.9], \"yaxis\": \"y\"}, {\"hovertemplate\": \"pollster=YouGov<br>end_date=%{x}<br>pct=%{y}<extra></extra>\", \"legendgroup\": \"YouGov\", \"marker\": {\"color\": \"#FFA15A\", \"symbol\": \"circle\"}, \"mode\": \"markers\", \"name\": \"YouGov\", \"orientation\": \"v\", \"showlegend\": true, \"type\": \"scatter\", \"x\": [\"2020-10-20T00:00:00\", \"2020-10-04T00:00:00\", \"2020-09-18T00:00:00\", \"2020-08-13T00:00:00\", \"2020-07-10T00:00:00\", \"2020-06-29T00:00:00\", \"2020-04-19T00:00:00\", \"2020-02-09T00:00:00\", \"2019-10-27T00:00:00\"], \"xaxis\": \"x\", \"y\": [44.7, 45.0, 46.0, 40.5, 45.0, 44.0, 44.0, 43.0, 39.0], \"yaxis\": \"y\"}, {\"hovertemplate\": \"pollster=Morning Consult<br>end_date=%{x}<br>pct=%{y}<extra></extra>\", \"legendgroup\": \"Morning Consult\", \"marker\": {\"color\": \"#19d3f3\", \"symbol\": \"circle\"}, \"mode\": \"markers\", \"name\": \"Morning Consult\", \"orientation\": \"v\", \"showlegend\": true, \"type\": \"scatter\", \"x\": [\"2020-10-20T00:00:00\", \"2020-10-11T00:00:00\", \"2020-09-07T00:00:00\", \"2020-08-30T00:00:00\", \"2020-08-16T00:00:00\", \"2020-08-02T00:00:00\", \"2020-07-26T00:00:00\", \"2020-05-26T00:00:00\"], \"xaxis\": \"x\", \"y\": [48.0, 47.0, 46.0, 47.0, 46.0, 47.0, 47.0, 43.0], \"yaxis\": \"y\"}, {\"hovertemplate\": \"pollster=Quinnipiac University<br>end_date=%{x}<br>pct=%{y}<extra></extra>\", \"legendgroup\": \"Quinnipiac University\", \"marker\": {\"color\": \"#FF6692\", \"symbol\": \"circle\"}, \"mode\": \"markers\", \"name\": \"Quinnipiac University\", \"orientation\": \"v\", \"showlegend\": true, \"type\": \"scatter\", \"x\": [\"2020-10-19T00:00:00\", \"2020-09-21T00:00:00\", \"2020-07-20T00:00:00\", \"2020-06-01T00:00:00\", \"2019-06-04T00:00:00\", \"2019-02-25T00:00:00\"], \"xaxis\": \"x\", \"y\": [47.0, 45.0, 45.0, 43.0, 48.0, 46.0], \"yaxis\": \"y\"}, {\"hovertemplate\": \"pollster=Public Policy Polling<br>end_date=%{x}<br>pct=%{y}<extra></extra>\", \"legendgroup\": \"Public Policy Polling\", \"marker\": {\"color\": \"#B6E880\", \"symbol\": \"circle\"}, \"mode\": \"markers\", \"name\": \"Public Policy Polling\", \"orientation\": \"v\", \"showlegend\": true, \"type\": \"scatter\", \"x\": [\"2020-10-08T00:00:00\", \"2020-09-26T00:00:00\", \"2020-09-02T00:00:00\", \"2020-08-22T00:00:00\", \"2020-06-25T00:00:00\", \"2020-06-19T00:00:00\", \"2020-06-04T00:00:00\", \"2020-04-28T00:00:00\", \"2019-02-14T00:00:00\"], \"xaxis\": \"x\", \"y\": [50.0, 48.0, 47.0, 48.0, 48.0, 46.0, 48.0, 47.0, 46.0], \"yaxis\": \"y\"}, {\"hovertemplate\": \"pollster=Rasmussen Reports/Pulse Opinion Research<br>end_date=%{x}<br>pct=%{y}<extra></extra>\", \"legendgroup\": \"Rasmussen Reports/Pulse Opinion Research\", \"marker\": {\"color\": \"#FF97FF\", \"symbol\": \"circle\"}, \"mode\": \"markers\", \"name\": \"Rasmussen Reports/Pulse Opinion Research\", \"orientation\": \"v\", \"showlegend\": true, \"type\": \"scatter\", \"x\": [\"2020-10-06T00:00:00\"], \"xaxis\": \"x\", \"y\": [44.0], \"yaxis\": \"y\"}, {\"hovertemplate\": \"pollster=Civiqs<br>end_date=%{x}<br>pct=%{y}<extra></extra>\", \"legendgroup\": \"Civiqs\", \"marker\": {\"color\": \"#FECB52\", \"symbol\": \"circle\"}, \"mode\": \"markers\", \"name\": \"Civiqs\", \"orientation\": \"v\", \"showlegend\": true, \"type\": \"scatter\", \"x\": [\"2020-10-06T00:00:00\"], \"xaxis\": \"x\", \"y\": [48.0], \"yaxis\": \"y\"}, {\"hovertemplate\": \"pollster=EMC Research<br>end_date=%{x}<br>pct=%{y}<extra></extra>\", \"legendgroup\": \"EMC Research\", \"marker\": {\"color\": \"#636efa\", \"symbol\": \"circle\"}, \"mode\": \"markers\", \"name\": \"EMC Research\", \"orientation\": \"v\", \"showlegend\": true, \"type\": \"scatter\", \"x\": [\"2020-10-02T00:00:00\"], \"xaxis\": \"x\", \"y\": [49.0], \"yaxis\": \"y\"}, {\"hovertemplate\": \"pollster=Garin-Hart-Yang Research Group<br>end_date=%{x}<br>pct=%{y}<extra></extra>\", \"legendgroup\": \"Garin-Hart-Yang Research Group\", \"marker\": {\"color\": \"#EF553B\", \"symbol\": \"circle\"}, \"mode\": \"markers\", \"name\": \"Garin-Hart-Yang Research Group\", \"orientation\": \"v\", \"showlegend\": true, \"type\": \"scatter\", \"x\": [\"2020-09-27T00:00:00\"], \"xaxis\": \"x\", \"y\": [47.0], \"yaxis\": \"y\"}, {\"hovertemplate\": \"pollster=University of Massachusetts Lowell<br>end_date=%{x}<br>pct=%{y}<extra></extra>\", \"legendgroup\": \"University of Massachusetts Lowell\", \"marker\": {\"color\": \"#00cc96\", \"symbol\": \"circle\"}, \"mode\": \"markers\", \"name\": \"University of Massachusetts Lowell\", \"orientation\": \"v\", \"showlegend\": true, \"type\": \"scatter\", \"x\": [\"2020-09-25T00:00:00\", \"2020-09-25T00:00:00\"], \"xaxis\": \"x\", \"y\": [46.0, 46.0], \"yaxis\": \"y\"}, {\"hovertemplate\": \"pollster=The Tyson Group<br>end_date=%{x}<br>pct=%{y}<extra></extra>\", \"legendgroup\": \"The Tyson Group\", \"marker\": {\"color\": \"#ab63fa\", \"symbol\": \"circle\"}, \"mode\": \"markers\", \"name\": \"The Tyson Group\", \"orientation\": \"v\", \"showlegend\": true, \"type\": \"scatter\", \"x\": [\"2020-08-25T00:00:00\"], \"xaxis\": \"x\", \"y\": [48.0], \"yaxis\": \"y\"}, {\"hovertemplate\": \"pollster=Global Strategy Group<br>end_date=%{x}<br>pct=%{y}<extra></extra>\", \"legendgroup\": \"Global Strategy Group\", \"marker\": {\"color\": \"#FFA15A\", \"symbol\": \"circle\"}, \"mode\": \"markers\", \"name\": \"Global Strategy Group\", \"orientation\": \"v\", \"showlegend\": true, \"type\": \"scatter\", \"x\": [\"2020-08-13T00:00:00\"], \"xaxis\": \"x\", \"y\": [47.0], \"yaxis\": \"y\"}, {\"hovertemplate\": \"pollster=Trafalgar Group<br>end_date=%{x}<br>pct=%{y}<extra></extra>\", \"legendgroup\": \"Trafalgar Group\", \"marker\": {\"color\": \"#19d3f3\", \"symbol\": \"circle\"}, \"mode\": \"markers\", \"name\": \"Trafalgar Group\", \"orientation\": \"v\", \"showlegend\": true, \"type\": \"scatter\", \"x\": [\"2020-08-05T00:00:00\"], \"xaxis\": \"x\", \"y\": [43.4], \"yaxis\": \"y\"}, {\"hovertemplate\": \"pollster=Spry Strategies<br>end_date=%{x}<br>pct=%{y}<extra></extra>\", \"legendgroup\": \"Spry Strategies\", \"marker\": {\"color\": \"#FF6692\", \"symbol\": \"circle\"}, \"mode\": \"markers\", \"name\": \"Spry Strategies\", \"orientation\": \"v\", \"showlegend\": true, \"type\": \"scatter\", \"x\": [\"2020-07-20T00:00:00\"], \"xaxis\": \"x\", \"y\": [44.76], \"yaxis\": \"y\"}, {\"hovertemplate\": \"pollster=Gravis Marketing<br>end_date=%{x}<br>pct=%{y}<extra></extra>\", \"legendgroup\": \"Gravis Marketing\", \"marker\": {\"color\": \"#B6E880\", \"symbol\": \"circle\"}, \"mode\": \"markers\", \"name\": \"Gravis Marketing\", \"orientation\": \"v\", \"showlegend\": true, \"type\": \"scatter\", \"x\": [\"2020-07-07T00:00:00\"], \"xaxis\": \"x\", \"y\": [44.0], \"yaxis\": \"y\"}, {\"hovertemplate\": \"pollster=Fox News/Beacon Research/Shaw & Co. Research<br>end_date=%{x}<br>pct=%{y}<extra></extra>\", \"legendgroup\": \"Fox News/Beacon Research/Shaw & Co. Research\", \"marker\": {\"color\": \"#FF97FF\", \"symbol\": \"circle\"}, \"mode\": \"markers\", \"name\": \"Fox News/Beacon Research/Shaw & Co. Research\", \"orientation\": \"v\", \"showlegend\": true, \"type\": \"scatter\", \"x\": [\"2020-06-23T00:00:00\"], \"xaxis\": \"x\", \"y\": [45.0], \"yaxis\": \"y\"}, {\"hovertemplate\": \"pollster=Emerson College<br>end_date=%{x}<br>pct=%{y}<extra></extra>\", \"legendgroup\": \"Emerson College\", \"marker\": {\"color\": \"#FECB52\", \"symbol\": \"circle\"}, \"mode\": \"markers\", \"name\": \"Emerson College\", \"orientation\": \"v\", \"showlegend\": true, \"type\": \"scatter\", \"x\": [\"2020-05-10T00:00:00\", \"2019-08-03T00:00:00\", \"2019-04-28T00:00:00\"], \"xaxis\": \"x\", \"y\": [48.31, 50.8, 50.5], \"yaxis\": \"y\"}, {\"hovertemplate\": \"pollster=AtlasIntel<br>end_date=%{x}<br>pct=%{y}<extra></extra>\", \"legendgroup\": \"AtlasIntel\", \"marker\": {\"color\": \"#636efa\", \"symbol\": \"circle\"}, \"mode\": \"markers\", \"name\": \"AtlasIntel\", \"orientation\": \"v\", \"showlegend\": true, \"type\": \"scatter\", \"x\": [\"2020-03-02T00:00:00\"], \"xaxis\": \"x\", \"y\": [42.8], \"yaxis\": \"y\"}, {\"hovertemplate\": \"pollster=Marist College<br>end_date=%{x}<br>pct=%{y}<extra></extra>\", \"legendgroup\": \"Marist College\", \"marker\": {\"color\": \"#EF553B\", \"symbol\": \"circle\"}, \"mode\": \"markers\", \"name\": \"Marist College\", \"orientation\": \"v\", \"showlegend\": true, \"type\": \"scatter\", \"x\": [\"2020-02-27T00:00:00\"], \"xaxis\": \"x\", \"y\": [45.0], \"yaxis\": \"y\"}, {\"hovertemplate\": \"pollster=SSRS<br>end_date=%{x}<br>pct=%{y}<extra></extra>\", \"legendgroup\": \"SSRS\", \"marker\": {\"color\": \"#00cc96\", \"symbol\": \"circle\"}, \"mode\": \"markers\", \"name\": \"SSRS\", \"orientation\": \"v\", \"showlegend\": true, \"type\": \"scatter\", \"x\": [\"2020-02-26T00:00:00\", \"2019-12-09T00:00:00\"], \"xaxis\": \"x\", \"y\": [48.0, 47.0], \"yaxis\": \"y\"}, {\"hovertemplate\": \"pollster=Univision/University of Houston/Latino Decisions<br>end_date=%{x}<br>pct=%{y}<extra></extra>\", \"legendgroup\": \"Univision/University of Houston/Latino Decisions\", \"marker\": {\"color\": \"#ab63fa\", \"symbol\": \"circle\"}, \"mode\": \"markers\", \"name\": \"Univision/University of Houston/Latino Decisions\", \"orientation\": \"v\", \"showlegend\": true, \"type\": \"scatter\", \"x\": [\"2020-02-26T00:00:00\"], \"xaxis\": \"x\", \"y\": [43.0], \"yaxis\": \"y\"}, {\"hovertemplate\": \"pollster=Texas Lyceum<br>end_date=%{x}<br>pct=%{y}<extra></extra>\", \"legendgroup\": \"Texas Lyceum\", \"marker\": {\"color\": \"#FFA15A\", \"symbol\": \"circle\"}, \"mode\": \"markers\", \"name\": \"Texas Lyceum\", \"orientation\": \"v\", \"showlegend\": true, \"type\": \"scatter\", \"x\": [\"2020-01-19T00:00:00\"], \"xaxis\": \"x\", \"y\": [46.0], \"yaxis\": \"y\"}, {\"hovertemplate\": \"pollster=Beacon Research<br>end_date=%{x}<br>pct=%{y}<extra></extra>\", \"legendgroup\": \"Beacon Research\", \"marker\": {\"color\": \"#19d3f3\", \"symbol\": \"circle\"}, \"mode\": \"markers\", \"name\": \"Beacon Research\", \"orientation\": \"v\", \"showlegend\": true, \"type\": \"scatter\", \"x\": [\"2019-11-21T00:00:00\"], \"xaxis\": \"x\", \"y\": [44.0], \"yaxis\": \"y\"}, {\"hovertemplate\": \"pollster=Univision/University of Houston/Latino Decisions/North Star Opinion Research<br>end_date=%{x}<br>pct=%{y}<extra></extra>\", \"legendgroup\": \"Univision/University of Houston/Latino Decisions/North Star Opinion Research\", \"marker\": {\"color\": \"#FF6692\", \"symbol\": \"circle\"}, \"mode\": \"markers\", \"name\": \"Univision/University of Houston/Latino Decisions/North Star Opinion Research\", \"orientation\": \"v\", \"showlegend\": true, \"type\": \"scatter\", \"x\": [\"2019-09-06T00:00:00\"], \"xaxis\": \"x\", \"y\": [47.0], \"yaxis\": \"y\"}, {\"hovertemplate\": \"pollster=Climate Nexus<br>end_date=%{x}<br>pct=%{y}<extra></extra>\", \"legendgroup\": \"Climate Nexus\", \"marker\": {\"color\": \"#B6E880\", \"symbol\": \"circle\"}, \"mode\": \"markers\", \"name\": \"Climate Nexus\", \"orientation\": \"v\", \"showlegend\": true, \"type\": \"scatter\", \"x\": [\"2019-08-25T00:00:00\"], \"xaxis\": \"x\", \"y\": [43.0], \"yaxis\": \"y\"}, {\"hovertemplate\": \"pollster=WPA Intelligence (WPAi)<br>end_date=%{x}<br>pct=%{y}<extra></extra>\", \"legendgroup\": \"WPA Intelligence (WPAi)\", \"marker\": {\"color\": \"#FF97FF\", \"symbol\": \"circle\"}, \"mode\": \"markers\", \"name\": \"WPA Intelligence (WPAi)\", \"orientation\": \"v\", \"showlegend\": true, \"type\": \"scatter\", \"x\": [\"2019-04-30T00:00:00\"], \"xaxis\": \"x\", \"y\": [42.0], \"yaxis\": \"y\"}],                        {\"legend\": {\"title\": {\"text\": \"pollster\"}, \"tracegroupgap\": 0}, \"margin\": {\"t\": 60}, \"template\": {\"data\": {\"bar\": [{\"error_x\": {\"color\": \"#2a3f5f\"}, \"error_y\": {\"color\": \"#2a3f5f\"}, \"marker\": {\"line\": {\"color\": \"#E5ECF6\", \"width\": 0.5}}, \"type\": \"bar\"}], \"barpolar\": [{\"marker\": {\"line\": {\"color\": \"#E5ECF6\", \"width\": 0.5}}, \"type\": \"barpolar\"}], \"carpet\": [{\"aaxis\": {\"endlinecolor\": \"#2a3f5f\", \"gridcolor\": \"white\", \"linecolor\": \"white\", \"minorgridcolor\": \"white\", \"startlinecolor\": \"#2a3f5f\"}, \"baxis\": {\"endlinecolor\": \"#2a3f5f\", \"gridcolor\": \"white\", \"linecolor\": \"white\", \"minorgridcolor\": \"white\", \"startlinecolor\": \"#2a3f5f\"}, \"type\": \"carpet\"}], \"choropleth\": [{\"colorbar\": {\"outlinewidth\": 0, \"ticks\": \"\"}, \"type\": \"choropleth\"}], \"contour\": [{\"colorbar\": {\"outlinewidth\": 0, \"ticks\": \"\"}, \"colorscale\": [[0.0, \"#0d0887\"], [0.1111111111111111, \"#46039f\"], [0.2222222222222222, \"#7201a8\"], [0.3333333333333333, \"#9c179e\"], [0.4444444444444444, \"#bd3786\"], [0.5555555555555556, \"#d8576b\"], [0.6666666666666666, \"#ed7953\"], [0.7777777777777778, \"#fb9f3a\"], [0.8888888888888888, \"#fdca26\"], [1.0, \"#f0f921\"]], \"type\": \"contour\"}], \"contourcarpet\": [{\"colorbar\": {\"outlinewidth\": 0, \"ticks\": \"\"}, \"type\": \"contourcarpet\"}], \"heatmap\": [{\"colorbar\": {\"outlinewidth\": 0, \"ticks\": \"\"}, \"colorscale\": [[0.0, \"#0d0887\"], [0.1111111111111111, \"#46039f\"], [0.2222222222222222, \"#7201a8\"], [0.3333333333333333, \"#9c179e\"], [0.4444444444444444, \"#bd3786\"], [0.5555555555555556, \"#d8576b\"], [0.6666666666666666, \"#ed7953\"], [0.7777777777777778, \"#fb9f3a\"], [0.8888888888888888, \"#fdca26\"], [1.0, \"#f0f921\"]], \"type\": \"heatmap\"}], \"heatmapgl\": [{\"colorbar\": {\"outlinewidth\": 0, \"ticks\": \"\"}, \"colorscale\": [[0.0, \"#0d0887\"], [0.1111111111111111, \"#46039f\"], [0.2222222222222222, \"#7201a8\"], [0.3333333333333333, \"#9c179e\"], [0.4444444444444444, \"#bd3786\"], [0.5555555555555556, \"#d8576b\"], [0.6666666666666666, \"#ed7953\"], [0.7777777777777778, \"#fb9f3a\"], [0.8888888888888888, \"#fdca26\"], [1.0, \"#f0f921\"]], \"type\": \"heatmapgl\"}], \"histogram\": [{\"marker\": {\"colorbar\": {\"outlinewidth\": 0, \"ticks\": \"\"}}, \"type\": \"histogram\"}], \"histogram2d\": [{\"colorbar\": {\"outlinewidth\": 0, \"ticks\": \"\"}, \"colorscale\": [[0.0, \"#0d0887\"], [0.1111111111111111, \"#46039f\"], [0.2222222222222222, \"#7201a8\"], [0.3333333333333333, \"#9c179e\"], [0.4444444444444444, \"#bd3786\"], [0.5555555555555556, \"#d8576b\"], [0.6666666666666666, \"#ed7953\"], [0.7777777777777778, \"#fb9f3a\"], [0.8888888888888888, \"#fdca26\"], [1.0, \"#f0f921\"]], \"type\": \"histogram2d\"}], \"histogram2dcontour\": [{\"colorbar\": {\"outlinewidth\": 0, \"ticks\": \"\"}, \"colorscale\": [[0.0, \"#0d0887\"], [0.1111111111111111, \"#46039f\"], [0.2222222222222222, \"#7201a8\"], [0.3333333333333333, \"#9c179e\"], [0.4444444444444444, \"#bd3786\"], [0.5555555555555556, \"#d8576b\"], [0.6666666666666666, \"#ed7953\"], [0.7777777777777778, \"#fb9f3a\"], [0.8888888888888888, \"#fdca26\"], [1.0, \"#f0f921\"]], \"type\": \"histogram2dcontour\"}], \"mesh3d\": [{\"colorbar\": {\"outlinewidth\": 0, \"ticks\": \"\"}, \"type\": \"mesh3d\"}], \"parcoords\": [{\"line\": {\"colorbar\": {\"outlinewidth\": 0, \"ticks\": \"\"}}, \"type\": \"parcoords\"}], \"pie\": [{\"automargin\": true, \"type\": \"pie\"}], \"scatter\": [{\"marker\": {\"colorbar\": {\"outlinewidth\": 0, \"ticks\": \"\"}}, \"type\": \"scatter\"}], \"scatter3d\": [{\"line\": {\"colorbar\": {\"outlinewidth\": 0, \"ticks\": \"\"}}, \"marker\": {\"colorbar\": {\"outlinewidth\": 0, \"ticks\": \"\"}}, \"type\": \"scatter3d\"}], \"scattercarpet\": [{\"marker\": {\"colorbar\": {\"outlinewidth\": 0, \"ticks\": \"\"}}, \"type\": \"scattercarpet\"}], \"scattergeo\": [{\"marker\": {\"colorbar\": {\"outlinewidth\": 0, \"ticks\": \"\"}}, \"type\": \"scattergeo\"}], \"scattergl\": [{\"marker\": {\"colorbar\": {\"outlinewidth\": 0, \"ticks\": \"\"}}, \"type\": \"scattergl\"}], \"scattermapbox\": [{\"marker\": {\"colorbar\": {\"outlinewidth\": 0, \"ticks\": \"\"}}, \"type\": \"scattermapbox\"}], \"scatterpolar\": [{\"marker\": {\"colorbar\": {\"outlinewidth\": 0, \"ticks\": \"\"}}, \"type\": \"scatterpolar\"}], \"scatterpolargl\": [{\"marker\": {\"colorbar\": {\"outlinewidth\": 0, \"ticks\": \"\"}}, \"type\": \"scatterpolargl\"}], \"scatterternary\": [{\"marker\": {\"colorbar\": {\"outlinewidth\": 0, \"ticks\": \"\"}}, \"type\": \"scatterternary\"}], \"surface\": [{\"colorbar\": {\"outlinewidth\": 0, \"ticks\": \"\"}, \"colorscale\": [[0.0, \"#0d0887\"], [0.1111111111111111, \"#46039f\"], [0.2222222222222222, \"#7201a8\"], [0.3333333333333333, \"#9c179e\"], [0.4444444444444444, \"#bd3786\"], [0.5555555555555556, \"#d8576b\"], [0.6666666666666666, \"#ed7953\"], [0.7777777777777778, \"#fb9f3a\"], [0.8888888888888888, \"#fdca26\"], [1.0, \"#f0f921\"]], \"type\": \"surface\"}], \"table\": [{\"cells\": {\"fill\": {\"color\": \"#EBF0F8\"}, \"line\": {\"color\": \"white\"}}, \"header\": {\"fill\": {\"color\": \"#C8D4E3\"}, \"line\": {\"color\": \"white\"}}, \"type\": \"table\"}]}, \"layout\": {\"annotationdefaults\": {\"arrowcolor\": \"#2a3f5f\", \"arrowhead\": 0, \"arrowwidth\": 1}, \"coloraxis\": {\"colorbar\": {\"outlinewidth\": 0, \"ticks\": \"\"}}, \"colorscale\": {\"diverging\": [[0, \"#8e0152\"], [0.1, \"#c51b7d\"], [0.2, \"#de77ae\"], [0.3, \"#f1b6da\"], [0.4, \"#fde0ef\"], [0.5, \"#f7f7f7\"], [0.6, \"#e6f5d0\"], [0.7, \"#b8e186\"], [0.8, \"#7fbc41\"], [0.9, \"#4d9221\"], [1, \"#276419\"]], \"sequential\": [[0.0, \"#0d0887\"], [0.1111111111111111, \"#46039f\"], [0.2222222222222222, \"#7201a8\"], [0.3333333333333333, \"#9c179e\"], [0.4444444444444444, \"#bd3786\"], [0.5555555555555556, \"#d8576b\"], [0.6666666666666666, \"#ed7953\"], [0.7777777777777778, \"#fb9f3a\"], [0.8888888888888888, \"#fdca26\"], [1.0, \"#f0f921\"]], \"sequentialminus\": [[0.0, \"#0d0887\"], [0.1111111111111111, \"#46039f\"], [0.2222222222222222, \"#7201a8\"], [0.3333333333333333, \"#9c179e\"], [0.4444444444444444, \"#bd3786\"], [0.5555555555555556, \"#d8576b\"], [0.6666666666666666, \"#ed7953\"], [0.7777777777777778, \"#fb9f3a\"], [0.8888888888888888, \"#fdca26\"], [1.0, \"#f0f921\"]]}, \"colorway\": [\"#636efa\", \"#EF553B\", \"#00cc96\", \"#ab63fa\", \"#FFA15A\", \"#19d3f3\", \"#FF6692\", \"#B6E880\", \"#FF97FF\", \"#FECB52\"], \"font\": {\"color\": \"#2a3f5f\"}, \"geo\": {\"bgcolor\": \"white\", \"lakecolor\": \"white\", \"landcolor\": \"#E5ECF6\", \"showlakes\": true, \"showland\": true, \"subunitcolor\": \"white\"}, \"hoverlabel\": {\"align\": \"left\"}, \"hovermode\": \"closest\", \"mapbox\": {\"style\": \"light\"}, \"paper_bgcolor\": \"white\", \"plot_bgcolor\": \"#E5ECF6\", \"polar\": {\"angularaxis\": {\"gridcolor\": \"white\", \"linecolor\": \"white\", \"ticks\": \"\"}, \"bgcolor\": \"#E5ECF6\", \"radialaxis\": {\"gridcolor\": \"white\", \"linecolor\": \"white\", \"ticks\": \"\"}}, \"scene\": {\"xaxis\": {\"backgroundcolor\": \"#E5ECF6\", \"gridcolor\": \"white\", \"gridwidth\": 2, \"linecolor\": \"white\", \"showbackground\": true, \"ticks\": \"\", \"zerolinecolor\": \"white\"}, \"yaxis\": {\"backgroundcolor\": \"#E5ECF6\", \"gridcolor\": \"white\", \"gridwidth\": 2, \"linecolor\": \"white\", \"showbackground\": true, \"ticks\": \"\", \"zerolinecolor\": \"white\"}, \"zaxis\": {\"backgroundcolor\": \"#E5ECF6\", \"gridcolor\": \"white\", \"gridwidth\": 2, \"linecolor\": \"white\", \"showbackground\": true, \"ticks\": \"\", \"zerolinecolor\": \"white\"}}, \"shapedefaults\": {\"line\": {\"color\": \"#2a3f5f\"}}, \"ternary\": {\"aaxis\": {\"gridcolor\": \"white\", \"linecolor\": \"white\", \"ticks\": \"\"}, \"baxis\": {\"gridcolor\": \"white\", \"linecolor\": \"white\", \"ticks\": \"\"}, \"bgcolor\": \"#E5ECF6\", \"caxis\": {\"gridcolor\": \"white\", \"linecolor\": \"white\", \"ticks\": \"\"}}, \"title\": {\"x\": 0.05}, \"xaxis\": {\"automargin\": true, \"gridcolor\": \"white\", \"linecolor\": \"white\", \"ticks\": \"\", \"title\": {\"standoff\": 15}, \"zerolinecolor\": \"white\", \"zerolinewidth\": 2}, \"yaxis\": {\"automargin\": true, \"gridcolor\": \"white\", \"linecolor\": \"white\", \"ticks\": \"\", \"title\": {\"standoff\": 15}, \"zerolinecolor\": \"white\", \"zerolinewidth\": 2}}}, \"xaxis\": {\"anchor\": \"y\", \"domain\": [0.0, 1.0], \"title\": {\"text\": \"end_date\"}}, \"yaxis\": {\"anchor\": \"x\", \"domain\": [0.0, 1.0], \"title\": {\"text\": \"pct\"}}},                        {\"responsive\": true}                    ).then(function(){\n",
       "                            \n",
       "var gd = document.getElementById('e6501700-cb92-4824-bb6f-b09d30c17c70');\n",
       "var x = new MutationObserver(function (mutations, observer) {{\n",
       "        var display = window.getComputedStyle(gd).display;\n",
       "        if (!display || display === 'none') {{\n",
       "            console.log([gd, 'removed!']);\n",
       "            Plotly.purge(gd);\n",
       "            observer.disconnect();\n",
       "        }}\n",
       "}});\n",
       "\n",
       "// Listen for the removal of the full notebook cells\n",
       "var notebookContainer = gd.closest('#notebook-container');\n",
       "if (notebookContainer) {{\n",
       "    x.observe(notebookContainer, {childList: true});\n",
       "}}\n",
       "\n",
       "// Listen for the clearing of the current output cell\n",
       "var outputEl = gd.closest('.output');\n",
       "if (outputEl) {{\n",
       "    x.observe(outputEl, {childList: true});\n",
       "}}\n",
       "\n",
       "                        })                };                });            </script>        </div>"
      ]
     },
     "metadata": {},
     "output_type": "display_data"
    },
    {
     "data": {
      "application/vnd.plotly.v1+json": {
       "config": {
        "plotlyServerURL": "https://plot.ly"
       },
       "data": [
        {
         "hovertemplate": "pollster=Data for Progress<br>end_date=%{x}<br>pct=%{y}<extra></extra>",
         "legendgroup": "Data for Progress",
         "marker": {
          "color": "#636efa",
          "symbol": "circle"
         },
         "mode": "markers",
         "name": "Data for Progress",
         "orientation": "v",
         "showlegend": true,
         "type": "scatter",
         "x": [
          "2020-10-25T00:00:00",
          "2020-10-18T00:00:00",
          "2020-10-05T00:00:00",
          "2020-09-22T00:00:00",
          "2020-08-25T00:00:00",
          "2020-01-21T00:00:00",
          "2020-01-21T00:00:00",
          "2020-01-21T00:00:00",
          "2020-01-21T00:00:00"
         ],
         "xaxis": "x",
         "y": [
          48,
          46,
          45,
          46,
          45,
          56,
          54,
          55,
          56
         ],
         "yaxis": "y"
        },
        {
         "hovertemplate": "pollster=Siena College/The New York Times Upshot<br>end_date=%{x}<br>pct=%{y}<extra></extra>",
         "legendgroup": "Siena College/The New York Times Upshot",
         "marker": {
          "color": "#EF553B",
          "symbol": "circle"
         },
         "mode": "markers",
         "name": "Siena College/The New York Times Upshot",
         "orientation": "v",
         "showlegend": true,
         "type": "scatter",
         "x": [
          "2020-10-25T00:00:00",
          "2020-09-22T00:00:00"
         ],
         "xaxis": "x",
         "y": [
          47,
          46
         ],
         "yaxis": "y"
        },
        {
         "hovertemplate": "pollster=SurveyMonkey<br>end_date=%{x}<br>pct=%{y}<extra></extra>",
         "legendgroup": "SurveyMonkey",
         "marker": {
          "color": "#00cc96",
          "symbol": "circle"
         },
         "mode": "markers",
         "name": "SurveyMonkey",
         "orientation": "v",
         "showlegend": true,
         "type": "scatter",
         "x": [
          "2020-10-25T00:00:00",
          "2020-10-25T00:00:00",
          "2020-10-24T00:00:00",
          "2020-10-24T00:00:00",
          "2020-10-23T00:00:00",
          "2020-10-23T00:00:00",
          "2020-10-22T00:00:00",
          "2020-10-22T00:00:00",
          "2020-10-21T00:00:00",
          "2020-10-21T00:00:00",
          "2020-10-20T00:00:00",
          "2020-10-20T00:00:00",
          "2020-10-19T00:00:00",
          "2020-10-19T00:00:00",
          "2020-10-18T00:00:00",
          "2020-10-18T00:00:00",
          "2020-10-17T00:00:00",
          "2020-10-17T00:00:00",
          "2020-10-16T00:00:00",
          "2020-10-16T00:00:00",
          "2020-10-15T00:00:00",
          "2020-10-15T00:00:00",
          "2020-10-14T00:00:00",
          "2020-10-14T00:00:00",
          "2020-10-13T00:00:00",
          "2020-10-13T00:00:00",
          "2020-10-12T00:00:00",
          "2020-10-12T00:00:00",
          "2020-09-30T00:00:00",
          "2020-09-30T00:00:00",
          "2020-08-31T00:00:00",
          "2020-08-31T00:00:00",
          "2020-07-31T00:00:00",
          "2020-07-31T00:00:00",
          "2020-06-30T00:00:00",
          "2020-06-30T00:00:00"
         ],
         "xaxis": "x",
         "y": [
          48,
          50,
          48,
          51,
          48,
          51,
          48,
          51,
          48,
          51,
          49,
          51,
          49,
          51,
          49,
          51,
          48,
          51,
          48,
          51,
          48,
          51,
          48,
          51,
          48,
          51,
          48,
          50,
          51.78,
          48.54,
          51.79,
          48.46,
          52.02,
          48.49,
          51.48,
          47.5
         ],
         "yaxis": "y"
        },
        {
         "hovertemplate": "pollster=University of Texas at Tyler<br>end_date=%{x}<br>pct=%{y}<extra></extra>",
         "legendgroup": "University of Texas at Tyler",
         "marker": {
          "color": "#ab63fa",
          "symbol": "circle"
         },
         "mode": "markers",
         "name": "University of Texas at Tyler",
         "orientation": "v",
         "showlegend": true,
         "type": "scatter",
         "x": [
          "2020-10-20T00:00:00",
          "2020-10-20T00:00:00",
          "2020-09-02T00:00:00",
          "2020-09-02T00:00:00",
          "2020-07-07T00:00:00",
          "2020-07-07T00:00:00",
          "2020-04-27T00:00:00",
          "2020-02-26T00:00:00",
          "2020-02-26T00:00:00",
          "2020-02-26T00:00:00",
          "2020-02-26T00:00:00",
          "2020-02-26T00:00:00",
          "2020-02-26T00:00:00",
          "2020-01-30T00:00:00",
          "2020-01-30T00:00:00",
          "2020-01-30T00:00:00",
          "2020-01-30T00:00:00",
          "2020-01-30T00:00:00",
          "2020-01-30T00:00:00",
          "2020-01-30T00:00:00",
          "2019-11-14T00:00:00",
          "2019-11-14T00:00:00",
          "2019-11-14T00:00:00",
          "2019-11-14T00:00:00",
          "2019-11-14T00:00:00",
          "2019-11-14T00:00:00",
          "2019-09-15T00:00:00",
          "2019-09-15T00:00:00",
          "2019-09-15T00:00:00",
          "2019-09-15T00:00:00",
          "2019-09-15T00:00:00",
          "2019-09-15T00:00:00",
          "2019-08-04T00:00:00",
          "2019-08-04T00:00:00",
          "2019-08-04T00:00:00",
          "2019-08-04T00:00:00",
          "2019-08-04T00:00:00",
          "2019-08-04T00:00:00",
          "2019-07-27T00:00:00",
          "2019-07-27T00:00:00",
          "2019-07-27T00:00:00",
          "2019-07-27T00:00:00",
          "2019-07-27T00:00:00",
          "2019-07-27T00:00:00"
         ],
         "xaxis": "x",
         "y": [
          44,
          45,
          43,
          48,
          41,
          43,
          43,
          47,
          45,
          45,
          45,
          45,
          45,
          46,
          44,
          45,
          45,
          46,
          45,
          46,
          45.7,
          44.5,
          46.3,
          44.2,
          45.3,
          45.2,
          38,
          39.5,
          39.4,
          39.6,
          39.3,
          39.7,
          37.2,
          38.8,
          38.5,
          37.7,
          37.5,
          37.3,
          37.1,
          38.2,
          38.5,
          37.3,
          38.6,
          37.6
         ],
         "yaxis": "y"
        },
        {
         "hovertemplate": "pollster=YouGov<br>end_date=%{x}<br>pct=%{y}<extra></extra>",
         "legendgroup": "YouGov",
         "marker": {
          "color": "#FFA15A",
          "symbol": "circle"
         },
         "mode": "markers",
         "name": "YouGov",
         "orientation": "v",
         "showlegend": true,
         "type": "scatter",
         "x": [
          "2020-10-20T00:00:00",
          "2020-10-04T00:00:00",
          "2020-09-18T00:00:00",
          "2020-08-13T00:00:00",
          "2020-07-10T00:00:00",
          "2020-06-29T00:00:00",
          "2020-04-19T00:00:00",
          "2020-02-09T00:00:00",
          "2020-02-09T00:00:00",
          "2020-02-09T00:00:00",
          "2020-02-09T00:00:00",
          "2020-02-09T00:00:00",
          "2020-02-09T00:00:00",
          "2020-02-09T00:00:00",
          "2019-10-27T00:00:00",
          "2019-10-27T00:00:00",
          "2019-10-27T00:00:00",
          "2019-10-27T00:00:00",
          "2019-10-27T00:00:00"
         ],
         "xaxis": "x",
         "y": [
          50,
          50,
          48,
          47.5,
          46,
          48,
          49,
          47,
          47,
          47,
          47,
          46,
          46,
          45,
          46,
          46,
          45,
          47,
          46
         ],
         "yaxis": "y"
        },
        {
         "hovertemplate": "pollster=Morning Consult<br>end_date=%{x}<br>pct=%{y}<extra></extra>",
         "legendgroup": "Morning Consult",
         "marker": {
          "color": "#19d3f3",
          "symbol": "circle"
         },
         "mode": "markers",
         "name": "Morning Consult",
         "orientation": "v",
         "showlegend": true,
         "type": "scatter",
         "x": [
          "2020-10-20T00:00:00",
          "2020-10-11T00:00:00",
          "2020-09-07T00:00:00",
          "2020-08-30T00:00:00",
          "2020-08-16T00:00:00",
          "2020-08-02T00:00:00",
          "2020-07-26T00:00:00",
          "2020-05-26T00:00:00"
         ],
         "xaxis": "x",
         "y": [
          47,
          49,
          46,
          48,
          47,
          46,
          45,
          50
         ],
         "yaxis": "y"
        },
        {
         "hovertemplate": "pollster=Quinnipiac University<br>end_date=%{x}<br>pct=%{y}<extra></extra>",
         "legendgroup": "Quinnipiac University",
         "marker": {
          "color": "#FF6692",
          "symbol": "circle"
         },
         "mode": "markers",
         "name": "Quinnipiac University",
         "orientation": "v",
         "showlegend": true,
         "type": "scatter",
         "x": [
          "2020-10-19T00:00:00",
          "2020-09-21T00:00:00",
          "2020-07-20T00:00:00",
          "2020-06-01T00:00:00",
          "2019-06-04T00:00:00",
          "2019-06-04T00:00:00",
          "2019-06-04T00:00:00",
          "2019-06-04T00:00:00",
          "2019-06-04T00:00:00",
          "2019-06-04T00:00:00",
          "2019-06-04T00:00:00",
          "2019-02-25T00:00:00",
          "2019-02-25T00:00:00",
          "2019-02-25T00:00:00",
          "2019-02-25T00:00:00",
          "2019-02-25T00:00:00",
          "2019-02-25T00:00:00"
         ],
         "xaxis": "x",
         "y": [
          47,
          50,
          44,
          44,
          44,
          47,
          46,
          47,
          46,
          48,
          46,
          47,
          47,
          47,
          48,
          48,
          46
         ],
         "yaxis": "y"
        },
        {
         "hovertemplate": "pollster=Public Policy Polling<br>end_date=%{x}<br>pct=%{y}<extra></extra>",
         "legendgroup": "Public Policy Polling",
         "marker": {
          "color": "#B6E880",
          "symbol": "circle"
         },
         "mode": "markers",
         "name": "Public Policy Polling",
         "orientation": "v",
         "showlegend": true,
         "type": "scatter",
         "x": [
          "2020-10-08T00:00:00",
          "2020-09-26T00:00:00",
          "2020-09-02T00:00:00",
          "2020-08-22T00:00:00",
          "2020-06-25T00:00:00",
          "2020-06-19T00:00:00",
          "2020-06-04T00:00:00",
          "2020-04-28T00:00:00",
          "2019-02-14T00:00:00",
          "2019-02-14T00:00:00"
         ],
         "xaxis": "x",
         "y": [
          49,
          48,
          48,
          47,
          46,
          48,
          48,
          46,
          49,
          49
         ],
         "yaxis": "y"
        },
        {
         "hovertemplate": "pollster=Rasmussen Reports/Pulse Opinion Research<br>end_date=%{x}<br>pct=%{y}<extra></extra>",
         "legendgroup": "Rasmussen Reports/Pulse Opinion Research",
         "marker": {
          "color": "#FF97FF",
          "symbol": "circle"
         },
         "mode": "markers",
         "name": "Rasmussen Reports/Pulse Opinion Research",
         "orientation": "v",
         "showlegend": true,
         "type": "scatter",
         "x": [
          "2020-10-06T00:00:00"
         ],
         "xaxis": "x",
         "y": [
          51
         ],
         "yaxis": "y"
        },
        {
         "hovertemplate": "pollster=Civiqs<br>end_date=%{x}<br>pct=%{y}<extra></extra>",
         "legendgroup": "Civiqs",
         "marker": {
          "color": "#FECB52",
          "symbol": "circle"
         },
         "mode": "markers",
         "name": "Civiqs",
         "orientation": "v",
         "showlegend": true,
         "type": "scatter",
         "x": [
          "2020-10-06T00:00:00"
         ],
         "xaxis": "x",
         "y": [
          48
         ],
         "yaxis": "y"
        },
        {
         "hovertemplate": "pollster=EMC Research<br>end_date=%{x}<br>pct=%{y}<extra></extra>",
         "legendgroup": "EMC Research",
         "marker": {
          "color": "#636efa",
          "symbol": "circle"
         },
         "mode": "markers",
         "name": "EMC Research",
         "orientation": "v",
         "showlegend": true,
         "type": "scatter",
         "x": [
          "2020-10-02T00:00:00"
         ],
         "xaxis": "x",
         "y": [
          49
         ],
         "yaxis": "y"
        },
        {
         "hovertemplate": "pollster=Garin-Hart-Yang Research Group<br>end_date=%{x}<br>pct=%{y}<extra></extra>",
         "legendgroup": "Garin-Hart-Yang Research Group",
         "marker": {
          "color": "#EF553B",
          "symbol": "circle"
         },
         "mode": "markers",
         "name": "Garin-Hart-Yang Research Group",
         "orientation": "v",
         "showlegend": true,
         "type": "scatter",
         "x": [
          "2020-09-27T00:00:00"
         ],
         "xaxis": "x",
         "y": [
          49
         ],
         "yaxis": "y"
        },
        {
         "hovertemplate": "pollster=University of Massachusetts Lowell<br>end_date=%{x}<br>pct=%{y}<extra></extra>",
         "legendgroup": "University of Massachusetts Lowell",
         "marker": {
          "color": "#00cc96",
          "symbol": "circle"
         },
         "mode": "markers",
         "name": "University of Massachusetts Lowell",
         "orientation": "v",
         "showlegend": true,
         "type": "scatter",
         "x": [
          "2020-09-25T00:00:00",
          "2020-09-25T00:00:00"
         ],
         "xaxis": "x",
         "y": [
          49,
          50
         ],
         "yaxis": "y"
        },
        {
         "hovertemplate": "pollster=The Tyson Group<br>end_date=%{x}<br>pct=%{y}<extra></extra>",
         "legendgroup": "The Tyson Group",
         "marker": {
          "color": "#ab63fa",
          "symbol": "circle"
         },
         "mode": "markers",
         "name": "The Tyson Group",
         "orientation": "v",
         "showlegend": true,
         "type": "scatter",
         "x": [
          "2020-08-25T00:00:00"
         ],
         "xaxis": "x",
         "y": [
          44
         ],
         "yaxis": "y"
        },
        {
         "hovertemplate": "pollster=Global Strategy Group<br>end_date=%{x}<br>pct=%{y}<extra></extra>",
         "legendgroup": "Global Strategy Group",
         "marker": {
          "color": "#FFA15A",
          "symbol": "circle"
         },
         "mode": "markers",
         "name": "Global Strategy Group",
         "orientation": "v",
         "showlegend": true,
         "type": "scatter",
         "x": [
          "2020-08-13T00:00:00"
         ],
         "xaxis": "x",
         "y": [
          45
         ],
         "yaxis": "y"
        },
        {
         "hovertemplate": "pollster=Trafalgar Group<br>end_date=%{x}<br>pct=%{y}<extra></extra>",
         "legendgroup": "Trafalgar Group",
         "marker": {
          "color": "#19d3f3",
          "symbol": "circle"
         },
         "mode": "markers",
         "name": "Trafalgar Group",
         "orientation": "v",
         "showlegend": true,
         "type": "scatter",
         "x": [
          "2020-08-05T00:00:00"
         ],
         "xaxis": "x",
         "y": [
          49.4
         ],
         "yaxis": "y"
        },
        {
         "hovertemplate": "pollster=Spry Strategies<br>end_date=%{x}<br>pct=%{y}<extra></extra>",
         "legendgroup": "Spry Strategies",
         "marker": {
          "color": "#FF6692",
          "symbol": "circle"
         },
         "mode": "markers",
         "name": "Spry Strategies",
         "orientation": "v",
         "showlegend": true,
         "type": "scatter",
         "x": [
          "2020-07-20T00:00:00"
         ],
         "xaxis": "x",
         "y": [
          49.45
         ],
         "yaxis": "y"
        },
        {
         "hovertemplate": "pollster=Gravis Marketing<br>end_date=%{x}<br>pct=%{y}<extra></extra>",
         "legendgroup": "Gravis Marketing",
         "marker": {
          "color": "#B6E880",
          "symbol": "circle"
         },
         "mode": "markers",
         "name": "Gravis Marketing",
         "orientation": "v",
         "showlegend": true,
         "type": "scatter",
         "x": [
          "2020-07-07T00:00:00"
         ],
         "xaxis": "x",
         "y": [
          46
         ],
         "yaxis": "y"
        },
        {
         "hovertemplate": "pollster=Fox News/Beacon Research/Shaw & Co. Research<br>end_date=%{x}<br>pct=%{y}<extra></extra>",
         "legendgroup": "Fox News/Beacon Research/Shaw & Co. Research",
         "marker": {
          "color": "#FF97FF",
          "symbol": "circle"
         },
         "mode": "markers",
         "name": "Fox News/Beacon Research/Shaw & Co. Research",
         "orientation": "v",
         "showlegend": true,
         "type": "scatter",
         "x": [
          "2020-06-23T00:00:00"
         ],
         "xaxis": "x",
         "y": [
          44
         ],
         "yaxis": "y"
        },
        {
         "hovertemplate": "pollster=Emerson College<br>end_date=%{x}<br>pct=%{y}<extra></extra>",
         "legendgroup": "Emerson College",
         "marker": {
          "color": "#FECB52",
          "symbol": "circle"
         },
         "mode": "markers",
         "name": "Emerson College",
         "orientation": "v",
         "showlegend": true,
         "type": "scatter",
         "x": [
          "2020-05-10T00:00:00",
          "2019-08-03T00:00:00",
          "2019-08-03T00:00:00",
          "2019-08-03T00:00:00",
          "2019-08-03T00:00:00",
          "2019-08-03T00:00:00",
          "2019-08-03T00:00:00",
          "2019-08-03T00:00:00",
          "2019-04-28T00:00:00",
          "2019-04-28T00:00:00",
          "2019-04-28T00:00:00",
          "2019-04-28T00:00:00",
          "2019-04-28T00:00:00",
          "2019-04-28T00:00:00"
         ],
         "xaxis": "x",
         "y": [
          51.69,
          49.2,
          49.4,
          51.9,
          52,
          52.4,
          52.8,
          53.8,
          49.5,
          49.7,
          51.1,
          54.2,
          53.1,
          53.7
         ],
         "yaxis": "y"
        },
        {
         "hovertemplate": "pollster=AtlasIntel<br>end_date=%{x}<br>pct=%{y}<extra></extra>",
         "legendgroup": "AtlasIntel",
         "marker": {
          "color": "#636efa",
          "symbol": "circle"
         },
         "mode": "markers",
         "name": "AtlasIntel",
         "orientation": "v",
         "showlegend": true,
         "type": "scatter",
         "x": [
          "2020-03-02T00:00:00",
          "2020-03-02T00:00:00",
          "2020-03-02T00:00:00",
          "2020-03-02T00:00:00"
         ],
         "xaxis": "x",
         "y": [
          48.7,
          48.8,
          46.5,
          47.8
         ],
         "yaxis": "y"
        },
        {
         "hovertemplate": "pollster=Marist College<br>end_date=%{x}<br>pct=%{y}<extra></extra>",
         "legendgroup": "Marist College",
         "marker": {
          "color": "#EF553B",
          "symbol": "circle"
         },
         "mode": "markers",
         "name": "Marist College",
         "orientation": "v",
         "showlegend": true,
         "type": "scatter",
         "x": [
          "2020-02-27T00:00:00",
          "2020-02-27T00:00:00"
         ],
         "xaxis": "x",
         "y": [
          49,
          49
         ],
         "yaxis": "y"
        },
        {
         "hovertemplate": "pollster=SSRS<br>end_date=%{x}<br>pct=%{y}<extra></extra>",
         "legendgroup": "SSRS",
         "marker": {
          "color": "#00cc96",
          "symbol": "circle"
         },
         "mode": "markers",
         "name": "SSRS",
         "orientation": "v",
         "showlegend": true,
         "type": "scatter",
         "x": [
          "2020-02-26T00:00:00",
          "2020-02-26T00:00:00",
          "2020-02-26T00:00:00",
          "2020-02-26T00:00:00",
          "2020-02-26T00:00:00",
          "2020-02-26T00:00:00",
          "2019-12-09T00:00:00",
          "2019-12-09T00:00:00",
          "2019-12-09T00:00:00",
          "2019-12-09T00:00:00"
         ],
         "xaxis": "x",
         "y": [
          47,
          47,
          48,
          48,
          48,
          47,
          48,
          50,
          50,
          51
         ],
         "yaxis": "y"
        },
        {
         "hovertemplate": "pollster=Univision/University of Houston/Latino Decisions<br>end_date=%{x}<br>pct=%{y}<extra></extra>",
         "legendgroup": "Univision/University of Houston/Latino Decisions",
         "marker": {
          "color": "#ab63fa",
          "symbol": "circle"
         },
         "mode": "markers",
         "name": "Univision/University of Houston/Latino Decisions",
         "orientation": "v",
         "showlegend": true,
         "type": "scatter",
         "x": [
          "2020-02-26T00:00:00",
          "2020-02-26T00:00:00",
          "2020-02-26T00:00:00",
          "2020-02-26T00:00:00",
          "2020-02-26T00:00:00",
          "2020-02-26T00:00:00"
         ],
         "xaxis": "x",
         "y": [
          46,
          45,
          48,
          46,
          43,
          46
         ],
         "yaxis": "y"
        },
        {
         "hovertemplate": "pollster=Texas Lyceum<br>end_date=%{x}<br>pct=%{y}<extra></extra>",
         "legendgroup": "Texas Lyceum",
         "marker": {
          "color": "#FFA15A",
          "symbol": "circle"
         },
         "mode": "markers",
         "name": "Texas Lyceum",
         "orientation": "v",
         "showlegend": true,
         "type": "scatter",
         "x": [
          "2020-01-19T00:00:00",
          "2020-01-19T00:00:00",
          "2020-01-19T00:00:00",
          "2020-01-19T00:00:00"
         ],
         "xaxis": "x",
         "y": [
          51,
          50,
          50,
          51
         ],
         "yaxis": "y"
        },
        {
         "hovertemplate": "pollster=Beacon Research<br>end_date=%{x}<br>pct=%{y}<extra></extra>",
         "legendgroup": "Beacon Research",
         "marker": {
          "color": "#19d3f3",
          "symbol": "circle"
         },
         "mode": "markers",
         "name": "Beacon Research",
         "orientation": "v",
         "showlegend": true,
         "type": "scatter",
         "x": [
          "2019-11-21T00:00:00",
          "2019-11-21T00:00:00"
         ],
         "xaxis": "x",
         "y": [
          45,
          46
         ],
         "yaxis": "y"
        },
        {
         "hovertemplate": "pollster=Univision/University of Houston/Latino Decisions/North Star Opinion Research<br>end_date=%{x}<br>pct=%{y}<extra></extra>",
         "legendgroup": "Univision/University of Houston/Latino Decisions/North Star Opinion Research",
         "marker": {
          "color": "#FF6692",
          "symbol": "circle"
         },
         "mode": "markers",
         "name": "Univision/University of Houston/Latino Decisions/North Star Opinion Research",
         "orientation": "v",
         "showlegend": true,
         "type": "scatter",
         "x": [
          "2019-09-06T00:00:00",
          "2019-09-06T00:00:00",
          "2019-09-06T00:00:00",
          "2019-09-06T00:00:00",
          "2019-09-06T00:00:00",
          "2019-09-06T00:00:00"
         ],
         "xaxis": "x",
         "y": [
          43,
          42,
          42,
          44,
          41,
          41
         ],
         "yaxis": "y"
        },
        {
         "hovertemplate": "pollster=Climate Nexus<br>end_date=%{x}<br>pct=%{y}<extra></extra>",
         "legendgroup": "Climate Nexus",
         "marker": {
          "color": "#B6E880",
          "symbol": "circle"
         },
         "mode": "markers",
         "name": "Climate Nexus",
         "orientation": "v",
         "showlegend": true,
         "type": "scatter",
         "x": [
          "2019-08-25T00:00:00",
          "2019-08-25T00:00:00",
          "2019-08-25T00:00:00",
          "2019-08-25T00:00:00",
          "2019-08-25T00:00:00",
          "2019-08-25T00:00:00",
          "2019-08-25T00:00:00"
         ],
         "xaxis": "x",
         "y": [
          43,
          45,
          45,
          45,
          44,
          45,
          45
         ],
         "yaxis": "y"
        },
        {
         "hovertemplate": "pollster=WPA Intelligence (WPAi)<br>end_date=%{x}<br>pct=%{y}<extra></extra>",
         "legendgroup": "WPA Intelligence (WPAi)",
         "marker": {
          "color": "#FF97FF",
          "symbol": "circle"
         },
         "mode": "markers",
         "name": "WPA Intelligence (WPAi)",
         "orientation": "v",
         "showlegend": true,
         "type": "scatter",
         "x": [
          "2019-04-30T00:00:00"
         ],
         "xaxis": "x",
         "y": [
          49
         ],
         "yaxis": "y"
        },
        {
         "hovertemplate": "pollster=Neighborhood Research and Media<br>end_date=%{x}<br>pct=%{y}<extra></extra>",
         "legendgroup": "Neighborhood Research and Media",
         "marker": {
          "color": "#FECB52",
          "symbol": "circle"
         },
         "mode": "markers",
         "name": "Neighborhood Research and Media",
         "orientation": "v",
         "showlegend": true,
         "type": "scatter",
         "x": [
          "2019-01-11T00:00:00"
         ],
         "xaxis": "x",
         "y": [
          52
         ],
         "yaxis": "y"
        }
       ],
       "layout": {
        "autosize": true,
        "legend": {
         "title": {
          "text": "pollster"
         },
         "tracegroupgap": 0
        },
        "margin": {
         "t": 60
        },
        "template": {
         "data": {
          "bar": [
           {
            "error_x": {
             "color": "#2a3f5f"
            },
            "error_y": {
             "color": "#2a3f5f"
            },
            "marker": {
             "line": {
              "color": "#E5ECF6",
              "width": 0.5
             }
            },
            "type": "bar"
           }
          ],
          "barpolar": [
           {
            "marker": {
             "line": {
              "color": "#E5ECF6",
              "width": 0.5
             }
            },
            "type": "barpolar"
           }
          ],
          "carpet": [
           {
            "aaxis": {
             "endlinecolor": "#2a3f5f",
             "gridcolor": "white",
             "linecolor": "white",
             "minorgridcolor": "white",
             "startlinecolor": "#2a3f5f"
            },
            "baxis": {
             "endlinecolor": "#2a3f5f",
             "gridcolor": "white",
             "linecolor": "white",
             "minorgridcolor": "white",
             "startlinecolor": "#2a3f5f"
            },
            "type": "carpet"
           }
          ],
          "choropleth": [
           {
            "colorbar": {
             "outlinewidth": 0,
             "ticks": ""
            },
            "type": "choropleth"
           }
          ],
          "contour": [
           {
            "colorbar": {
             "outlinewidth": 0,
             "ticks": ""
            },
            "colorscale": [
             [
              0,
              "#0d0887"
             ],
             [
              0.1111111111111111,
              "#46039f"
             ],
             [
              0.2222222222222222,
              "#7201a8"
             ],
             [
              0.3333333333333333,
              "#9c179e"
             ],
             [
              0.4444444444444444,
              "#bd3786"
             ],
             [
              0.5555555555555556,
              "#d8576b"
             ],
             [
              0.6666666666666666,
              "#ed7953"
             ],
             [
              0.7777777777777778,
              "#fb9f3a"
             ],
             [
              0.8888888888888888,
              "#fdca26"
             ],
             [
              1,
              "#f0f921"
             ]
            ],
            "type": "contour"
           }
          ],
          "contourcarpet": [
           {
            "colorbar": {
             "outlinewidth": 0,
             "ticks": ""
            },
            "type": "contourcarpet"
           }
          ],
          "heatmap": [
           {
            "colorbar": {
             "outlinewidth": 0,
             "ticks": ""
            },
            "colorscale": [
             [
              0,
              "#0d0887"
             ],
             [
              0.1111111111111111,
              "#46039f"
             ],
             [
              0.2222222222222222,
              "#7201a8"
             ],
             [
              0.3333333333333333,
              "#9c179e"
             ],
             [
              0.4444444444444444,
              "#bd3786"
             ],
             [
              0.5555555555555556,
              "#d8576b"
             ],
             [
              0.6666666666666666,
              "#ed7953"
             ],
             [
              0.7777777777777778,
              "#fb9f3a"
             ],
             [
              0.8888888888888888,
              "#fdca26"
             ],
             [
              1,
              "#f0f921"
             ]
            ],
            "type": "heatmap"
           }
          ],
          "heatmapgl": [
           {
            "colorbar": {
             "outlinewidth": 0,
             "ticks": ""
            },
            "colorscale": [
             [
              0,
              "#0d0887"
             ],
             [
              0.1111111111111111,
              "#46039f"
             ],
             [
              0.2222222222222222,
              "#7201a8"
             ],
             [
              0.3333333333333333,
              "#9c179e"
             ],
             [
              0.4444444444444444,
              "#bd3786"
             ],
             [
              0.5555555555555556,
              "#d8576b"
             ],
             [
              0.6666666666666666,
              "#ed7953"
             ],
             [
              0.7777777777777778,
              "#fb9f3a"
             ],
             [
              0.8888888888888888,
              "#fdca26"
             ],
             [
              1,
              "#f0f921"
             ]
            ],
            "type": "heatmapgl"
           }
          ],
          "histogram": [
           {
            "marker": {
             "colorbar": {
              "outlinewidth": 0,
              "ticks": ""
             }
            },
            "type": "histogram"
           }
          ],
          "histogram2d": [
           {
            "colorbar": {
             "outlinewidth": 0,
             "ticks": ""
            },
            "colorscale": [
             [
              0,
              "#0d0887"
             ],
             [
              0.1111111111111111,
              "#46039f"
             ],
             [
              0.2222222222222222,
              "#7201a8"
             ],
             [
              0.3333333333333333,
              "#9c179e"
             ],
             [
              0.4444444444444444,
              "#bd3786"
             ],
             [
              0.5555555555555556,
              "#d8576b"
             ],
             [
              0.6666666666666666,
              "#ed7953"
             ],
             [
              0.7777777777777778,
              "#fb9f3a"
             ],
             [
              0.8888888888888888,
              "#fdca26"
             ],
             [
              1,
              "#f0f921"
             ]
            ],
            "type": "histogram2d"
           }
          ],
          "histogram2dcontour": [
           {
            "colorbar": {
             "outlinewidth": 0,
             "ticks": ""
            },
            "colorscale": [
             [
              0,
              "#0d0887"
             ],
             [
              0.1111111111111111,
              "#46039f"
             ],
             [
              0.2222222222222222,
              "#7201a8"
             ],
             [
              0.3333333333333333,
              "#9c179e"
             ],
             [
              0.4444444444444444,
              "#bd3786"
             ],
             [
              0.5555555555555556,
              "#d8576b"
             ],
             [
              0.6666666666666666,
              "#ed7953"
             ],
             [
              0.7777777777777778,
              "#fb9f3a"
             ],
             [
              0.8888888888888888,
              "#fdca26"
             ],
             [
              1,
              "#f0f921"
             ]
            ],
            "type": "histogram2dcontour"
           }
          ],
          "mesh3d": [
           {
            "colorbar": {
             "outlinewidth": 0,
             "ticks": ""
            },
            "type": "mesh3d"
           }
          ],
          "parcoords": [
           {
            "line": {
             "colorbar": {
              "outlinewidth": 0,
              "ticks": ""
             }
            },
            "type": "parcoords"
           }
          ],
          "pie": [
           {
            "automargin": true,
            "type": "pie"
           }
          ],
          "scatter": [
           {
            "marker": {
             "colorbar": {
              "outlinewidth": 0,
              "ticks": ""
             }
            },
            "type": "scatter"
           }
          ],
          "scatter3d": [
           {
            "line": {
             "colorbar": {
              "outlinewidth": 0,
              "ticks": ""
             }
            },
            "marker": {
             "colorbar": {
              "outlinewidth": 0,
              "ticks": ""
             }
            },
            "type": "scatter3d"
           }
          ],
          "scattercarpet": [
           {
            "marker": {
             "colorbar": {
              "outlinewidth": 0,
              "ticks": ""
             }
            },
            "type": "scattercarpet"
           }
          ],
          "scattergeo": [
           {
            "marker": {
             "colorbar": {
              "outlinewidth": 0,
              "ticks": ""
             }
            },
            "type": "scattergeo"
           }
          ],
          "scattergl": [
           {
            "marker": {
             "colorbar": {
              "outlinewidth": 0,
              "ticks": ""
             }
            },
            "type": "scattergl"
           }
          ],
          "scattermapbox": [
           {
            "marker": {
             "colorbar": {
              "outlinewidth": 0,
              "ticks": ""
             }
            },
            "type": "scattermapbox"
           }
          ],
          "scatterpolar": [
           {
            "marker": {
             "colorbar": {
              "outlinewidth": 0,
              "ticks": ""
             }
            },
            "type": "scatterpolar"
           }
          ],
          "scatterpolargl": [
           {
            "marker": {
             "colorbar": {
              "outlinewidth": 0,
              "ticks": ""
             }
            },
            "type": "scatterpolargl"
           }
          ],
          "scatterternary": [
           {
            "marker": {
             "colorbar": {
              "outlinewidth": 0,
              "ticks": ""
             }
            },
            "type": "scatterternary"
           }
          ],
          "surface": [
           {
            "colorbar": {
             "outlinewidth": 0,
             "ticks": ""
            },
            "colorscale": [
             [
              0,
              "#0d0887"
             ],
             [
              0.1111111111111111,
              "#46039f"
             ],
             [
              0.2222222222222222,
              "#7201a8"
             ],
             [
              0.3333333333333333,
              "#9c179e"
             ],
             [
              0.4444444444444444,
              "#bd3786"
             ],
             [
              0.5555555555555556,
              "#d8576b"
             ],
             [
              0.6666666666666666,
              "#ed7953"
             ],
             [
              0.7777777777777778,
              "#fb9f3a"
             ],
             [
              0.8888888888888888,
              "#fdca26"
             ],
             [
              1,
              "#f0f921"
             ]
            ],
            "type": "surface"
           }
          ],
          "table": [
           {
            "cells": {
             "fill": {
              "color": "#EBF0F8"
             },
             "line": {
              "color": "white"
             }
            },
            "header": {
             "fill": {
              "color": "#C8D4E3"
             },
             "line": {
              "color": "white"
             }
            },
            "type": "table"
           }
          ]
         },
         "layout": {
          "annotationdefaults": {
           "arrowcolor": "#2a3f5f",
           "arrowhead": 0,
           "arrowwidth": 1
          },
          "coloraxis": {
           "colorbar": {
            "outlinewidth": 0,
            "ticks": ""
           }
          },
          "colorscale": {
           "diverging": [
            [
             0,
             "#8e0152"
            ],
            [
             0.1,
             "#c51b7d"
            ],
            [
             0.2,
             "#de77ae"
            ],
            [
             0.3,
             "#f1b6da"
            ],
            [
             0.4,
             "#fde0ef"
            ],
            [
             0.5,
             "#f7f7f7"
            ],
            [
             0.6,
             "#e6f5d0"
            ],
            [
             0.7,
             "#b8e186"
            ],
            [
             0.8,
             "#7fbc41"
            ],
            [
             0.9,
             "#4d9221"
            ],
            [
             1,
             "#276419"
            ]
           ],
           "sequential": [
            [
             0,
             "#0d0887"
            ],
            [
             0.1111111111111111,
             "#46039f"
            ],
            [
             0.2222222222222222,
             "#7201a8"
            ],
            [
             0.3333333333333333,
             "#9c179e"
            ],
            [
             0.4444444444444444,
             "#bd3786"
            ],
            [
             0.5555555555555556,
             "#d8576b"
            ],
            [
             0.6666666666666666,
             "#ed7953"
            ],
            [
             0.7777777777777778,
             "#fb9f3a"
            ],
            [
             0.8888888888888888,
             "#fdca26"
            ],
            [
             1,
             "#f0f921"
            ]
           ],
           "sequentialminus": [
            [
             0,
             "#0d0887"
            ],
            [
             0.1111111111111111,
             "#46039f"
            ],
            [
             0.2222222222222222,
             "#7201a8"
            ],
            [
             0.3333333333333333,
             "#9c179e"
            ],
            [
             0.4444444444444444,
             "#bd3786"
            ],
            [
             0.5555555555555556,
             "#d8576b"
            ],
            [
             0.6666666666666666,
             "#ed7953"
            ],
            [
             0.7777777777777778,
             "#fb9f3a"
            ],
            [
             0.8888888888888888,
             "#fdca26"
            ],
            [
             1,
             "#f0f921"
            ]
           ]
          },
          "colorway": [
           "#636efa",
           "#EF553B",
           "#00cc96",
           "#ab63fa",
           "#FFA15A",
           "#19d3f3",
           "#FF6692",
           "#B6E880",
           "#FF97FF",
           "#FECB52"
          ],
          "font": {
           "color": "#2a3f5f"
          },
          "geo": {
           "bgcolor": "white",
           "lakecolor": "white",
           "landcolor": "#E5ECF6",
           "showlakes": true,
           "showland": true,
           "subunitcolor": "white"
          },
          "hoverlabel": {
           "align": "left"
          },
          "hovermode": "closest",
          "mapbox": {
           "style": "light"
          },
          "paper_bgcolor": "white",
          "plot_bgcolor": "#E5ECF6",
          "polar": {
           "angularaxis": {
            "gridcolor": "white",
            "linecolor": "white",
            "ticks": ""
           },
           "bgcolor": "#E5ECF6",
           "radialaxis": {
            "gridcolor": "white",
            "linecolor": "white",
            "ticks": ""
           }
          },
          "scene": {
           "xaxis": {
            "backgroundcolor": "#E5ECF6",
            "gridcolor": "white",
            "gridwidth": 2,
            "linecolor": "white",
            "showbackground": true,
            "ticks": "",
            "zerolinecolor": "white"
           },
           "yaxis": {
            "backgroundcolor": "#E5ECF6",
            "gridcolor": "white",
            "gridwidth": 2,
            "linecolor": "white",
            "showbackground": true,
            "ticks": "",
            "zerolinecolor": "white"
           },
           "zaxis": {
            "backgroundcolor": "#E5ECF6",
            "gridcolor": "white",
            "gridwidth": 2,
            "linecolor": "white",
            "showbackground": true,
            "ticks": "",
            "zerolinecolor": "white"
           }
          },
          "shapedefaults": {
           "line": {
            "color": "#2a3f5f"
           }
          },
          "ternary": {
           "aaxis": {
            "gridcolor": "white",
            "linecolor": "white",
            "ticks": ""
           },
           "baxis": {
            "gridcolor": "white",
            "linecolor": "white",
            "ticks": ""
           },
           "bgcolor": "#E5ECF6",
           "caxis": {
            "gridcolor": "white",
            "linecolor": "white",
            "ticks": ""
           }
          },
          "title": {
           "x": 0.05
          },
          "xaxis": {
           "automargin": true,
           "gridcolor": "white",
           "linecolor": "white",
           "ticks": "",
           "title": {
            "standoff": 15
           },
           "zerolinecolor": "white",
           "zerolinewidth": 2
          },
          "yaxis": {
           "automargin": true,
           "gridcolor": "white",
           "linecolor": "white",
           "ticks": "",
           "title": {
            "standoff": 15
           },
           "zerolinecolor": "white",
           "zerolinewidth": 2
          }
         }
        },
        "xaxis": {
         "anchor": "y",
         "autorange": true,
         "domain": [
          0,
          1
         ],
         "range": [
          "2018-12-01 18:41:44.3478",
          "2020-12-04 05:18:15.6522"
         ],
         "title": {
          "text": "end_date"
         },
         "type": "date"
        },
        "yaxis": {
         "anchor": "x",
         "autorange": true,
         "domain": [
          0,
          1
         ],
         "range": [
          35.75994475138122,
          57.34005524861878
         ],
         "title": {
          "text": "pct"
         },
         "type": "linear"
        }
       }
      },
      "image/png": "[encoded data removed]",
      "text/html": [
       "<div>                            <div id=\"f3e771b6-bb46-438e-ad92-3370c415f45a\" class=\"plotly-graph-div\" style=\"height:525px; width:100%;\"></div>            <script type=\"text/javascript\">                require([\"plotly\"], function(Plotly) {                    window.PLOTLYENV=window.PLOTLYENV || {};                                    if (document.getElementById(\"f3e771b6-bb46-438e-ad92-3370c415f45a\")) {                    Plotly.newPlot(                        \"f3e771b6-bb46-438e-ad92-3370c415f45a\",                        [{\"hovertemplate\": \"pollster=Data for Progress<br>end_date=%{x}<br>pct=%{y}<extra></extra>\", \"legendgroup\": \"Data for Progress\", \"marker\": {\"color\": \"#636efa\", \"symbol\": \"circle\"}, \"mode\": \"markers\", \"name\": \"Data for Progress\", \"orientation\": \"v\", \"showlegend\": true, \"type\": \"scatter\", \"x\": [\"2020-10-25T00:00:00\", \"2020-10-18T00:00:00\", \"2020-10-05T00:00:00\", \"2020-09-22T00:00:00\", \"2020-08-25T00:00:00\", \"2020-01-21T00:00:00\", \"2020-01-21T00:00:00\", \"2020-01-21T00:00:00\", \"2020-01-21T00:00:00\"], \"xaxis\": \"x\", \"y\": [48.0, 46.0, 45.0, 46.0, 45.0, 56.0, 54.0, 55.0, 56.0], \"yaxis\": \"y\"}, {\"hovertemplate\": \"pollster=Siena College/The New York Times Upshot<br>end_date=%{x}<br>pct=%{y}<extra></extra>\", \"legendgroup\": \"Siena College/The New York Times Upshot\", \"marker\": {\"color\": \"#EF553B\", \"symbol\": \"circle\"}, \"mode\": \"markers\", \"name\": \"Siena College/The New York Times Upshot\", \"orientation\": \"v\", \"showlegend\": true, \"type\": \"scatter\", \"x\": [\"2020-10-25T00:00:00\", \"2020-09-22T00:00:00\"], \"xaxis\": \"x\", \"y\": [47.0, 46.0], \"yaxis\": \"y\"}, {\"hovertemplate\": \"pollster=SurveyMonkey<br>end_date=%{x}<br>pct=%{y}<extra></extra>\", \"legendgroup\": \"SurveyMonkey\", \"marker\": {\"color\": \"#00cc96\", \"symbol\": \"circle\"}, \"mode\": \"markers\", \"name\": \"SurveyMonkey\", \"orientation\": \"v\", \"showlegend\": true, \"type\": \"scatter\", \"x\": [\"2020-10-25T00:00:00\", \"2020-10-25T00:00:00\", \"2020-10-24T00:00:00\", \"2020-10-24T00:00:00\", \"2020-10-23T00:00:00\", \"2020-10-23T00:00:00\", \"2020-10-22T00:00:00\", \"2020-10-22T00:00:00\", \"2020-10-21T00:00:00\", \"2020-10-21T00:00:00\", \"2020-10-20T00:00:00\", \"2020-10-20T00:00:00\", \"2020-10-19T00:00:00\", \"2020-10-19T00:00:00\", \"2020-10-18T00:00:00\", \"2020-10-18T00:00:00\", \"2020-10-17T00:00:00\", \"2020-10-17T00:00:00\", \"2020-10-16T00:00:00\", \"2020-10-16T00:00:00\", \"2020-10-15T00:00:00\", \"2020-10-15T00:00:00\", \"2020-10-14T00:00:00\", \"2020-10-14T00:00:00\", \"2020-10-13T00:00:00\", \"2020-10-13T00:00:00\", \"2020-10-12T00:00:00\", \"2020-10-12T00:00:00\", \"2020-09-30T00:00:00\", \"2020-09-30T00:00:00\", \"2020-08-31T00:00:00\", \"2020-08-31T00:00:00\", \"2020-07-31T00:00:00\", \"2020-07-31T00:00:00\", \"2020-06-30T00:00:00\", \"2020-06-30T00:00:00\"], \"xaxis\": \"x\", \"y\": [48.0, 50.0, 48.0, 51.0, 48.0, 51.0, 48.0, 51.0, 48.0, 51.0, 49.0, 51.0, 49.0, 51.0, 49.0, 51.0, 48.0, 51.0, 48.0, 51.0, 48.0, 51.0, 48.0, 51.0, 48.0, 51.0, 48.0, 50.0, 51.78, 48.54, 51.79, 48.46, 52.02, 48.49, 51.48, 47.5], \"yaxis\": \"y\"}, {\"hovertemplate\": \"pollster=University of Texas at Tyler<br>end_date=%{x}<br>pct=%{y}<extra></extra>\", \"legendgroup\": \"University of Texas at Tyler\", \"marker\": {\"color\": \"#ab63fa\", \"symbol\": \"circle\"}, \"mode\": \"markers\", \"name\": \"University of Texas at Tyler\", \"orientation\": \"v\", \"showlegend\": true, \"type\": \"scatter\", \"x\": [\"2020-10-20T00:00:00\", \"2020-10-20T00:00:00\", \"2020-09-02T00:00:00\", \"2020-09-02T00:00:00\", \"2020-07-07T00:00:00\", \"2020-07-07T00:00:00\", \"2020-04-27T00:00:00\", \"2020-02-26T00:00:00\", \"2020-02-26T00:00:00\", \"2020-02-26T00:00:00\", \"2020-02-26T00:00:00\", \"2020-02-26T00:00:00\", \"2020-02-26T00:00:00\", \"2020-01-30T00:00:00\", \"2020-01-30T00:00:00\", \"2020-01-30T00:00:00\", \"2020-01-30T00:00:00\", \"2020-01-30T00:00:00\", \"2020-01-30T00:00:00\", \"2020-01-30T00:00:00\", \"2019-11-14T00:00:00\", \"2019-11-14T00:00:00\", \"2019-11-14T00:00:00\", \"2019-11-14T00:00:00\", \"2019-11-14T00:00:00\", \"2019-11-14T00:00:00\", \"2019-09-15T00:00:00\", \"2019-09-15T00:00:00\", \"2019-09-15T00:00:00\", \"2019-09-15T00:00:00\", \"2019-09-15T00:00:00\", \"2019-09-15T00:00:00\", \"2019-08-04T00:00:00\", \"2019-08-04T00:00:00\", \"2019-08-04T00:00:00\", \"2019-08-04T00:00:00\", \"2019-08-04T00:00:00\", \"2019-08-04T00:00:00\", \"2019-07-27T00:00:00\", \"2019-07-27T00:00:00\", \"2019-07-27T00:00:00\", \"2019-07-27T00:00:00\", \"2019-07-27T00:00:00\", \"2019-07-27T00:00:00\"], \"xaxis\": \"x\", \"y\": [44.0, 45.0, 43.0, 48.0, 41.0, 43.0, 43.0, 47.0, 45.0, 45.0, 45.0, 45.0, 45.0, 46.0, 44.0, 45.0, 45.0, 46.0, 45.0, 46.0, 45.7, 44.5, 46.3, 44.2, 45.3, 45.2, 38.0, 39.5, 39.4, 39.6, 39.3, 39.7, 37.2, 38.8, 38.5, 37.7, 37.5, 37.3, 37.1, 38.2, 38.5, 37.3, 38.6, 37.6], \"yaxis\": \"y\"}, {\"hovertemplate\": \"pollster=YouGov<br>end_date=%{x}<br>pct=%{y}<extra></extra>\", \"legendgroup\": \"YouGov\", \"marker\": {\"color\": \"#FFA15A\", \"symbol\": \"circle\"}, \"mode\": \"markers\", \"name\": \"YouGov\", \"orientation\": \"v\", \"showlegend\": true, \"type\": \"scatter\", \"x\": [\"2020-10-20T00:00:00\", \"2020-10-04T00:00:00\", \"2020-09-18T00:00:00\", \"2020-08-13T00:00:00\", \"2020-07-10T00:00:00\", \"2020-06-29T00:00:00\", \"2020-04-19T00:00:00\", \"2020-02-09T00:00:00\", \"2020-02-09T00:00:00\", \"2020-02-09T00:00:00\", \"2020-02-09T00:00:00\", \"2020-02-09T00:00:00\", \"2020-02-09T00:00:00\", \"2020-02-09T00:00:00\", \"2019-10-27T00:00:00\", \"2019-10-27T00:00:00\", \"2019-10-27T00:00:00\", \"2019-10-27T00:00:00\", \"2019-10-27T00:00:00\"], \"xaxis\": \"x\", \"y\": [50.0, 50.0, 48.0, 47.5, 46.0, 48.0, 49.0, 47.0, 47.0, 47.0, 47.0, 46.0, 46.0, 45.0, 46.0, 46.0, 45.0, 47.0, 46.0], \"yaxis\": \"y\"}, {\"hovertemplate\": \"pollster=Morning Consult<br>end_date=%{x}<br>pct=%{y}<extra></extra>\", \"legendgroup\": \"Morning Consult\", \"marker\": {\"color\": \"#19d3f3\", \"symbol\": \"circle\"}, \"mode\": \"markers\", \"name\": \"Morning Consult\", \"orientation\": \"v\", \"showlegend\": true, \"type\": \"scatter\", \"x\": [\"2020-10-20T00:00:00\", \"2020-10-11T00:00:00\", \"2020-09-07T00:00:00\", \"2020-08-30T00:00:00\", \"2020-08-16T00:00:00\", \"2020-08-02T00:00:00\", \"2020-07-26T00:00:00\", \"2020-05-26T00:00:00\"], \"xaxis\": \"x\", \"y\": [47.0, 49.0, 46.0, 48.0, 47.0, 46.0, 45.0, 50.0], \"yaxis\": \"y\"}, {\"hovertemplate\": \"pollster=Quinnipiac University<br>end_date=%{x}<br>pct=%{y}<extra></extra>\", \"legendgroup\": \"Quinnipiac University\", \"marker\": {\"color\": \"#FF6692\", \"symbol\": \"circle\"}, \"mode\": \"markers\", \"name\": \"Quinnipiac University\", \"orientation\": \"v\", \"showlegend\": true, \"type\": \"scatter\", \"x\": [\"2020-10-19T00:00:00\", \"2020-09-21T00:00:00\", \"2020-07-20T00:00:00\", \"2020-06-01T00:00:00\", \"2019-06-04T00:00:00\", \"2019-06-04T00:00:00\", \"2019-06-04T00:00:00\", \"2019-06-04T00:00:00\", \"2019-06-04T00:00:00\", \"2019-06-04T00:00:00\", \"2019-06-04T00:00:00\", \"2019-02-25T00:00:00\", \"2019-02-25T00:00:00\", \"2019-02-25T00:00:00\", \"2019-02-25T00:00:00\", \"2019-02-25T00:00:00\", \"2019-02-25T00:00:00\"], \"xaxis\": \"x\", \"y\": [47.0, 50.0, 44.0, 44.0, 44.0, 47.0, 46.0, 47.0, 46.0, 48.0, 46.0, 47.0, 47.0, 47.0, 48.0, 48.0, 46.0], \"yaxis\": \"y\"}, {\"hovertemplate\": \"pollster=Public Policy Polling<br>end_date=%{x}<br>pct=%{y}<extra></extra>\", \"legendgroup\": \"Public Policy Polling\", \"marker\": {\"color\": \"#B6E880\", \"symbol\": \"circle\"}, \"mode\": \"markers\", \"name\": \"Public Policy Polling\", \"orientation\": \"v\", \"showlegend\": true, \"type\": \"scatter\", \"x\": [\"2020-10-08T00:00:00\", \"2020-09-26T00:00:00\", \"2020-09-02T00:00:00\", \"2020-08-22T00:00:00\", \"2020-06-25T00:00:00\", \"2020-06-19T00:00:00\", \"2020-06-04T00:00:00\", \"2020-04-28T00:00:00\", \"2019-02-14T00:00:00\", \"2019-02-14T00:00:00\"], \"xaxis\": \"x\", \"y\": [49.0, 48.0, 48.0, 47.0, 46.0, 48.0, 48.0, 46.0, 49.0, 49.0], \"yaxis\": \"y\"}, {\"hovertemplate\": \"pollster=Rasmussen Reports/Pulse Opinion Research<br>end_date=%{x}<br>pct=%{y}<extra></extra>\", \"legendgroup\": \"Rasmussen Reports/Pulse Opinion Research\", \"marker\": {\"color\": \"#FF97FF\", \"symbol\": \"circle\"}, \"mode\": \"markers\", \"name\": \"Rasmussen Reports/Pulse Opinion Research\", \"orientation\": \"v\", \"showlegend\": true, \"type\": \"scatter\", \"x\": [\"2020-10-06T00:00:00\"], \"xaxis\": \"x\", \"y\": [51.0], \"yaxis\": \"y\"}, {\"hovertemplate\": \"pollster=Civiqs<br>end_date=%{x}<br>pct=%{y}<extra></extra>\", \"legendgroup\": \"Civiqs\", \"marker\": {\"color\": \"#FECB52\", \"symbol\": \"circle\"}, \"mode\": \"markers\", \"name\": \"Civiqs\", \"orientation\": \"v\", \"showlegend\": true, \"type\": \"scatter\", \"x\": [\"2020-10-06T00:00:00\"], \"xaxis\": \"x\", \"y\": [48.0], \"yaxis\": \"y\"}, {\"hovertemplate\": \"pollster=EMC Research<br>end_date=%{x}<br>pct=%{y}<extra></extra>\", \"legendgroup\": \"EMC Research\", \"marker\": {\"color\": \"#636efa\", \"symbol\": \"circle\"}, \"mode\": \"markers\", \"name\": \"EMC Research\", \"orientation\": \"v\", \"showlegend\": true, \"type\": \"scatter\", \"x\": [\"2020-10-02T00:00:00\"], \"xaxis\": \"x\", \"y\": [49.0], \"yaxis\": \"y\"}, {\"hovertemplate\": \"pollster=Garin-Hart-Yang Research Group<br>end_date=%{x}<br>pct=%{y}<extra></extra>\", \"legendgroup\": \"Garin-Hart-Yang Research Group\", \"marker\": {\"color\": \"#EF553B\", \"symbol\": \"circle\"}, \"mode\": \"markers\", \"name\": \"Garin-Hart-Yang Research Group\", \"orientation\": \"v\", \"showlegend\": true, \"type\": \"scatter\", \"x\": [\"2020-09-27T00:00:00\"], \"xaxis\": \"x\", \"y\": [49.0], \"yaxis\": \"y\"}, {\"hovertemplate\": \"pollster=University of Massachusetts Lowell<br>end_date=%{x}<br>pct=%{y}<extra></extra>\", \"legendgroup\": \"University of Massachusetts Lowell\", \"marker\": {\"color\": \"#00cc96\", \"symbol\": \"circle\"}, \"mode\": \"markers\", \"name\": \"University of Massachusetts Lowell\", \"orientation\": \"v\", \"showlegend\": true, \"type\": \"scatter\", \"x\": [\"2020-09-25T00:00:00\", \"2020-09-25T00:00:00\"], \"xaxis\": \"x\", \"y\": [49.0, 50.0], \"yaxis\": \"y\"}, {\"hovertemplate\": \"pollster=The Tyson Group<br>end_date=%{x}<br>pct=%{y}<extra></extra>\", \"legendgroup\": \"The Tyson Group\", \"marker\": {\"color\": \"#ab63fa\", \"symbol\": \"circle\"}, \"mode\": \"markers\", \"name\": \"The Tyson Group\", \"orientation\": \"v\", \"showlegend\": true, \"type\": \"scatter\", \"x\": [\"2020-08-25T00:00:00\"], \"xaxis\": \"x\", \"y\": [44.0], \"yaxis\": \"y\"}, {\"hovertemplate\": \"pollster=Global Strategy Group<br>end_date=%{x}<br>pct=%{y}<extra></extra>\", \"legendgroup\": \"Global Strategy Group\", \"marker\": {\"color\": \"#FFA15A\", \"symbol\": \"circle\"}, \"mode\": \"markers\", \"name\": \"Global Strategy Group\", \"orientation\": \"v\", \"showlegend\": true, \"type\": \"scatter\", \"x\": [\"2020-08-13T00:00:00\"], \"xaxis\": \"x\", \"y\": [45.0], \"yaxis\": \"y\"}, {\"hovertemplate\": \"pollster=Trafalgar Group<br>end_date=%{x}<br>pct=%{y}<extra></extra>\", \"legendgroup\": \"Trafalgar Group\", \"marker\": {\"color\": \"#19d3f3\", \"symbol\": \"circle\"}, \"mode\": \"markers\", \"name\": \"Trafalgar Group\", \"orientation\": \"v\", \"showlegend\": true, \"type\": \"scatter\", \"x\": [\"2020-08-05T00:00:00\"], \"xaxis\": \"x\", \"y\": [49.4], \"yaxis\": \"y\"}, {\"hovertemplate\": \"pollster=Spry Strategies<br>end_date=%{x}<br>pct=%{y}<extra></extra>\", \"legendgroup\": \"Spry Strategies\", \"marker\": {\"color\": \"#FF6692\", \"symbol\": \"circle\"}, \"mode\": \"markers\", \"name\": \"Spry Strategies\", \"orientation\": \"v\", \"showlegend\": true, \"type\": \"scatter\", \"x\": [\"2020-07-20T00:00:00\"], \"xaxis\": \"x\", \"y\": [49.45], \"yaxis\": \"y\"}, {\"hovertemplate\": \"pollster=Gravis Marketing<br>end_date=%{x}<br>pct=%{y}<extra></extra>\", \"legendgroup\": \"Gravis Marketing\", \"marker\": {\"color\": \"#B6E880\", \"symbol\": \"circle\"}, \"mode\": \"markers\", \"name\": \"Gravis Marketing\", \"orientation\": \"v\", \"showlegend\": true, \"type\": \"scatter\", \"x\": [\"2020-07-07T00:00:00\"], \"xaxis\": \"x\", \"y\": [46.0], \"yaxis\": \"y\"}, {\"hovertemplate\": \"pollster=Fox News/Beacon Research/Shaw & Co. Research<br>end_date=%{x}<br>pct=%{y}<extra></extra>\", \"legendgroup\": \"Fox News/Beacon Research/Shaw & Co. Research\", \"marker\": {\"color\": \"#FF97FF\", \"symbol\": \"circle\"}, \"mode\": \"markers\", \"name\": \"Fox News/Beacon Research/Shaw & Co. Research\", \"orientation\": \"v\", \"showlegend\": true, \"type\": \"scatter\", \"x\": [\"2020-06-23T00:00:00\"], \"xaxis\": \"x\", \"y\": [44.0], \"yaxis\": \"y\"}, {\"hovertemplate\": \"pollster=Emerson College<br>end_date=%{x}<br>pct=%{y}<extra></extra>\", \"legendgroup\": \"Emerson College\", \"marker\": {\"color\": \"#FECB52\", \"symbol\": \"circle\"}, \"mode\": \"markers\", \"name\": \"Emerson College\", \"orientation\": \"v\", \"showlegend\": true, \"type\": \"scatter\", \"x\": [\"2020-05-10T00:00:00\", \"2019-08-03T00:00:00\", \"2019-08-03T00:00:00\", \"2019-08-03T00:00:00\", \"2019-08-03T00:00:00\", \"2019-08-03T00:00:00\", \"2019-08-03T00:00:00\", \"2019-08-03T00:00:00\", \"2019-04-28T00:00:00\", \"2019-04-28T00:00:00\", \"2019-04-28T00:00:00\", \"2019-04-28T00:00:00\", \"2019-04-28T00:00:00\", \"2019-04-28T00:00:00\"], \"xaxis\": \"x\", \"y\": [51.69, 49.2, 49.4, 51.9, 52.0, 52.4, 52.8, 53.8, 49.5, 49.7, 51.1, 54.2, 53.1, 53.7], \"yaxis\": \"y\"}, {\"hovertemplate\": \"pollster=AtlasIntel<br>end_date=%{x}<br>pct=%{y}<extra></extra>\", \"legendgroup\": \"AtlasIntel\", \"marker\": {\"color\": \"#636efa\", \"symbol\": \"circle\"}, \"mode\": \"markers\", \"name\": \"AtlasIntel\", \"orientation\": \"v\", \"showlegend\": true, \"type\": \"scatter\", \"x\": [\"2020-03-02T00:00:00\", \"2020-03-02T00:00:00\", \"2020-03-02T00:00:00\", \"2020-03-02T00:00:00\"], \"xaxis\": \"x\", \"y\": [48.7, 48.8, 46.5, 47.8], \"yaxis\": \"y\"}, {\"hovertemplate\": \"pollster=Marist College<br>end_date=%{x}<br>pct=%{y}<extra></extra>\", \"legendgroup\": \"Marist College\", \"marker\": {\"color\": \"#EF553B\", \"symbol\": \"circle\"}, \"mode\": \"markers\", \"name\": \"Marist College\", \"orientation\": \"v\", \"showlegend\": true, \"type\": \"scatter\", \"x\": [\"2020-02-27T00:00:00\", \"2020-02-27T00:00:00\"], \"xaxis\": \"x\", \"y\": [49.0, 49.0], \"yaxis\": \"y\"}, {\"hovertemplate\": \"pollster=SSRS<br>end_date=%{x}<br>pct=%{y}<extra></extra>\", \"legendgroup\": \"SSRS\", \"marker\": {\"color\": \"#00cc96\", \"symbol\": \"circle\"}, \"mode\": \"markers\", \"name\": \"SSRS\", \"orientation\": \"v\", \"showlegend\": true, \"type\": \"scatter\", \"x\": [\"2020-02-26T00:00:00\", \"2020-02-26T00:00:00\", \"2020-02-26T00:00:00\", \"2020-02-26T00:00:00\", \"2020-02-26T00:00:00\", \"2020-02-26T00:00:00\", \"2019-12-09T00:00:00\", \"2019-12-09T00:00:00\", \"2019-12-09T00:00:00\", \"2019-12-09T00:00:00\"], \"xaxis\": \"x\", \"y\": [47.0, 47.0, 48.0, 48.0, 48.0, 47.0, 48.0, 50.0, 50.0, 51.0], \"yaxis\": \"y\"}, {\"hovertemplate\": \"pollster=Univision/University of Houston/Latino Decisions<br>end_date=%{x}<br>pct=%{y}<extra></extra>\", \"legendgroup\": \"Univision/University of Houston/Latino Decisions\", \"marker\": {\"color\": \"#ab63fa\", \"symbol\": \"circle\"}, \"mode\": \"markers\", \"name\": \"Univision/University of Houston/Latino Decisions\", \"orientation\": \"v\", \"showlegend\": true, \"type\": \"scatter\", \"x\": [\"2020-02-26T00:00:00\", \"2020-02-26T00:00:00\", \"2020-02-26T00:00:00\", \"2020-02-26T00:00:00\", \"2020-02-26T00:00:00\", \"2020-02-26T00:00:00\"], \"xaxis\": \"x\", \"y\": [46.0, 45.0, 48.0, 46.0, 43.0, 46.0], \"yaxis\": \"y\"}, {\"hovertemplate\": \"pollster=Texas Lyceum<br>end_date=%{x}<br>pct=%{y}<extra></extra>\", \"legendgroup\": \"Texas Lyceum\", \"marker\": {\"color\": \"#FFA15A\", \"symbol\": \"circle\"}, \"mode\": \"markers\", \"name\": \"Texas Lyceum\", \"orientation\": \"v\", \"showlegend\": true, \"type\": \"scatter\", \"x\": [\"2020-01-19T00:00:00\", \"2020-01-19T00:00:00\", \"2020-01-19T00:00:00\", \"2020-01-19T00:00:00\"], \"xaxis\": \"x\", \"y\": [51.0, 50.0, 50.0, 51.0], \"yaxis\": \"y\"}, {\"hovertemplate\": \"pollster=Beacon Research<br>end_date=%{x}<br>pct=%{y}<extra></extra>\", \"legendgroup\": \"Beacon Research\", \"marker\": {\"color\": \"#19d3f3\", \"symbol\": \"circle\"}, \"mode\": \"markers\", \"name\": \"Beacon Research\", \"orientation\": \"v\", \"showlegend\": true, \"type\": \"scatter\", \"x\": [\"2019-11-21T00:00:00\", \"2019-11-21T00:00:00\"], \"xaxis\": \"x\", \"y\": [45.0, 46.0], \"yaxis\": \"y\"}, {\"hovertemplate\": \"pollster=Univision/University of Houston/Latino Decisions/North Star Opinion Research<br>end_date=%{x}<br>pct=%{y}<extra></extra>\", \"legendgroup\": \"Univision/University of Houston/Latino Decisions/North Star Opinion Research\", \"marker\": {\"color\": \"#FF6692\", \"symbol\": \"circle\"}, \"mode\": \"markers\", \"name\": \"Univision/University of Houston/Latino Decisions/North Star Opinion Research\", \"orientation\": \"v\", \"showlegend\": true, \"type\": \"scatter\", \"x\": [\"2019-09-06T00:00:00\", \"2019-09-06T00:00:00\", \"2019-09-06T00:00:00\", \"2019-09-06T00:00:00\", \"2019-09-06T00:00:00\", \"2019-09-06T00:00:00\"], \"xaxis\": \"x\", \"y\": [43.0, 42.0, 42.0, 44.0, 41.0, 41.0], \"yaxis\": \"y\"}, {\"hovertemplate\": \"pollster=Climate Nexus<br>end_date=%{x}<br>pct=%{y}<extra></extra>\", \"legendgroup\": \"Climate Nexus\", \"marker\": {\"color\": \"#B6E880\", \"symbol\": \"circle\"}, \"mode\": \"markers\", \"name\": \"Climate Nexus\", \"orientation\": \"v\", \"showlegend\": true, \"type\": \"scatter\", \"x\": [\"2019-08-25T00:00:00\", \"2019-08-25T00:00:00\", \"2019-08-25T00:00:00\", \"2019-08-25T00:00:00\", \"2019-08-25T00:00:00\", \"2019-08-25T00:00:00\", \"2019-08-25T00:00:00\"], \"xaxis\": \"x\", \"y\": [43.0, 45.0, 45.0, 45.0, 44.0, 45.0, 45.0], \"yaxis\": \"y\"}, {\"hovertemplate\": \"pollster=WPA Intelligence (WPAi)<br>end_date=%{x}<br>pct=%{y}<extra></extra>\", \"legendgroup\": \"WPA Intelligence (WPAi)\", \"marker\": {\"color\": \"#FF97FF\", \"symbol\": \"circle\"}, \"mode\": \"markers\", \"name\": \"WPA Intelligence (WPAi)\", \"orientation\": \"v\", \"showlegend\": true, \"type\": \"scatter\", \"x\": [\"2019-04-30T00:00:00\"], \"xaxis\": \"x\", \"y\": [49.0], \"yaxis\": \"y\"}, {\"hovertemplate\": \"pollster=Neighborhood Research and Media<br>end_date=%{x}<br>pct=%{y}<extra></extra>\", \"legendgroup\": \"Neighborhood Research and Media\", \"marker\": {\"color\": \"#FECB52\", \"symbol\": \"circle\"}, \"mode\": \"markers\", \"name\": \"Neighborhood Research and Media\", \"orientation\": \"v\", \"showlegend\": true, \"type\": \"scatter\", \"x\": [\"2019-01-11T00:00:00\"], \"xaxis\": \"x\", \"y\": [52.0], \"yaxis\": \"y\"}],                        {\"legend\": {\"title\": {\"text\": \"pollster\"}, \"tracegroupgap\": 0}, \"margin\": {\"t\": 60}, \"template\": {\"data\": {\"bar\": [{\"error_x\": {\"color\": \"#2a3f5f\"}, \"error_y\": {\"color\": \"#2a3f5f\"}, \"marker\": {\"line\": {\"color\": \"#E5ECF6\", \"width\": 0.5}}, \"type\": \"bar\"}], \"barpolar\": [{\"marker\": {\"line\": {\"color\": \"#E5ECF6\", \"width\": 0.5}}, \"type\": \"barpolar\"}], \"carpet\": [{\"aaxis\": {\"endlinecolor\": \"#2a3f5f\", \"gridcolor\": \"white\", \"linecolor\": \"white\", \"minorgridcolor\": \"white\", \"startlinecolor\": \"#2a3f5f\"}, \"baxis\": {\"endlinecolor\": \"#2a3f5f\", \"gridcolor\": \"white\", \"linecolor\": \"white\", \"minorgridcolor\": \"white\", \"startlinecolor\": \"#2a3f5f\"}, \"type\": \"carpet\"}], \"choropleth\": [{\"colorbar\": {\"outlinewidth\": 0, \"ticks\": \"\"}, \"type\": \"choropleth\"}], \"contour\": [{\"colorbar\": {\"outlinewidth\": 0, \"ticks\": \"\"}, \"colorscale\": [[0.0, \"#0d0887\"], [0.1111111111111111, \"#46039f\"], [0.2222222222222222, \"#7201a8\"], [0.3333333333333333, \"#9c179e\"], [0.4444444444444444, \"#bd3786\"], [0.5555555555555556, \"#d8576b\"], [0.6666666666666666, \"#ed7953\"], [0.7777777777777778, \"#fb9f3a\"], [0.8888888888888888, \"#fdca26\"], [1.0, \"#f0f921\"]], \"type\": \"contour\"}], \"contourcarpet\": [{\"colorbar\": {\"outlinewidth\": 0, \"ticks\": \"\"}, \"type\": \"contourcarpet\"}], \"heatmap\": [{\"colorbar\": {\"outlinewidth\": 0, \"ticks\": \"\"}, \"colorscale\": [[0.0, \"#0d0887\"], [0.1111111111111111, \"#46039f\"], [0.2222222222222222, \"#7201a8\"], [0.3333333333333333, \"#9c179e\"], [0.4444444444444444, \"#bd3786\"], [0.5555555555555556, \"#d8576b\"], [0.6666666666666666, \"#ed7953\"], [0.7777777777777778, \"#fb9f3a\"], [0.8888888888888888, \"#fdca26\"], [1.0, \"#f0f921\"]], \"type\": \"heatmap\"}], \"heatmapgl\": [{\"colorbar\": {\"outlinewidth\": 0, \"ticks\": \"\"}, \"colorscale\": [[0.0, \"#0d0887\"], [0.1111111111111111, \"#46039f\"], [0.2222222222222222, \"#7201a8\"], [0.3333333333333333, \"#9c179e\"], [0.4444444444444444, \"#bd3786\"], [0.5555555555555556, \"#d8576b\"], [0.6666666666666666, \"#ed7953\"], [0.7777777777777778, \"#fb9f3a\"], [0.8888888888888888, \"#fdca26\"], [1.0, \"#f0f921\"]], \"type\": \"heatmapgl\"}], \"histogram\": [{\"marker\": {\"colorbar\": {\"outlinewidth\": 0, \"ticks\": \"\"}}, \"type\": \"histogram\"}], \"histogram2d\": [{\"colorbar\": {\"outlinewidth\": 0, \"ticks\": \"\"}, \"colorscale\": [[0.0, \"#0d0887\"], [0.1111111111111111, \"#46039f\"], [0.2222222222222222, \"#7201a8\"], [0.3333333333333333, \"#9c179e\"], [0.4444444444444444, \"#bd3786\"], [0.5555555555555556, \"#d8576b\"], [0.6666666666666666, \"#ed7953\"], [0.7777777777777778, \"#fb9f3a\"], [0.8888888888888888, \"#fdca26\"], [1.0, \"#f0f921\"]], \"type\": \"histogram2d\"}], \"histogram2dcontour\": [{\"colorbar\": {\"outlinewidth\": 0, \"ticks\": \"\"}, \"colorscale\": [[0.0, \"#0d0887\"], [0.1111111111111111, \"#46039f\"], [0.2222222222222222, \"#7201a8\"], [0.3333333333333333, \"#9c179e\"], [0.4444444444444444, \"#bd3786\"], [0.5555555555555556, \"#d8576b\"], [0.6666666666666666, \"#ed7953\"], [0.7777777777777778, \"#fb9f3a\"], [0.8888888888888888, \"#fdca26\"], [1.0, \"#f0f921\"]], \"type\": \"histogram2dcontour\"}], \"mesh3d\": [{\"colorbar\": {\"outlinewidth\": 0, \"ticks\": \"\"}, \"type\": \"mesh3d\"}], \"parcoords\": [{\"line\": {\"colorbar\": {\"outlinewidth\": 0, \"ticks\": \"\"}}, \"type\": \"parcoords\"}], \"pie\": [{\"automargin\": true, \"type\": \"pie\"}], \"scatter\": [{\"marker\": {\"colorbar\": {\"outlinewidth\": 0, \"ticks\": \"\"}}, \"type\": \"scatter\"}], \"scatter3d\": [{\"line\": {\"colorbar\": {\"outlinewidth\": 0, \"ticks\": \"\"}}, \"marker\": {\"colorbar\": {\"outlinewidth\": 0, \"ticks\": \"\"}}, \"type\": \"scatter3d\"}], \"scattercarpet\": [{\"marker\": {\"colorbar\": {\"outlinewidth\": 0, \"ticks\": \"\"}}, \"type\": \"scattercarpet\"}], \"scattergeo\": [{\"marker\": {\"colorbar\": {\"outlinewidth\": 0, \"ticks\": \"\"}}, \"type\": \"scattergeo\"}], \"scattergl\": [{\"marker\": {\"colorbar\": {\"outlinewidth\": 0, \"ticks\": \"\"}}, \"type\": \"scattergl\"}], \"scattermapbox\": [{\"marker\": {\"colorbar\": {\"outlinewidth\": 0, \"ticks\": \"\"}}, \"type\": \"scattermapbox\"}], \"scatterpolar\": [{\"marker\": {\"colorbar\": {\"outlinewidth\": 0, \"ticks\": \"\"}}, \"type\": \"scatterpolar\"}], \"scatterpolargl\": [{\"marker\": {\"colorbar\": {\"outlinewidth\": 0, \"ticks\": \"\"}}, \"type\": \"scatterpolargl\"}], \"scatterternary\": [{\"marker\": {\"colorbar\": {\"outlinewidth\": 0, \"ticks\": \"\"}}, \"type\": \"scatterternary\"}], \"surface\": [{\"colorbar\": {\"outlinewidth\": 0, \"ticks\": \"\"}, \"colorscale\": [[0.0, \"#0d0887\"], [0.1111111111111111, \"#46039f\"], [0.2222222222222222, \"#7201a8\"], [0.3333333333333333, \"#9c179e\"], [0.4444444444444444, \"#bd3786\"], [0.5555555555555556, \"#d8576b\"], [0.6666666666666666, \"#ed7953\"], [0.7777777777777778, \"#fb9f3a\"], [0.8888888888888888, \"#fdca26\"], [1.0, \"#f0f921\"]], \"type\": \"surface\"}], \"table\": [{\"cells\": {\"fill\": {\"color\": \"#EBF0F8\"}, \"line\": {\"color\": \"white\"}}, \"header\": {\"fill\": {\"color\": \"#C8D4E3\"}, \"line\": {\"color\": \"white\"}}, \"type\": \"table\"}]}, \"layout\": {\"annotationdefaults\": {\"arrowcolor\": \"#2a3f5f\", \"arrowhead\": 0, \"arrowwidth\": 1}, \"coloraxis\": {\"colorbar\": {\"outlinewidth\": 0, \"ticks\": \"\"}}, \"colorscale\": {\"diverging\": [[0, \"#8e0152\"], [0.1, \"#c51b7d\"], [0.2, \"#de77ae\"], [0.3, \"#f1b6da\"], [0.4, \"#fde0ef\"], [0.5, \"#f7f7f7\"], [0.6, \"#e6f5d0\"], [0.7, \"#b8e186\"], [0.8, \"#7fbc41\"], [0.9, \"#4d9221\"], [1, \"#276419\"]], \"sequential\": [[0.0, \"#0d0887\"], [0.1111111111111111, \"#46039f\"], [0.2222222222222222, \"#7201a8\"], [0.3333333333333333, \"#9c179e\"], [0.4444444444444444, \"#bd3786\"], [0.5555555555555556, \"#d8576b\"], [0.6666666666666666, \"#ed7953\"], [0.7777777777777778, \"#fb9f3a\"], [0.8888888888888888, \"#fdca26\"], [1.0, \"#f0f921\"]], \"sequentialminus\": [[0.0, \"#0d0887\"], [0.1111111111111111, \"#46039f\"], [0.2222222222222222, \"#7201a8\"], [0.3333333333333333, \"#9c179e\"], [0.4444444444444444, \"#bd3786\"], [0.5555555555555556, \"#d8576b\"], [0.6666666666666666, \"#ed7953\"], [0.7777777777777778, \"#fb9f3a\"], [0.8888888888888888, \"#fdca26\"], [1.0, \"#f0f921\"]]}, \"colorway\": [\"#636efa\", \"#EF553B\", \"#00cc96\", \"#ab63fa\", \"#FFA15A\", \"#19d3f3\", \"#FF6692\", \"#B6E880\", \"#FF97FF\", \"#FECB52\"], \"font\": {\"color\": \"#2a3f5f\"}, \"geo\": {\"bgcolor\": \"white\", \"lakecolor\": \"white\", \"landcolor\": \"#E5ECF6\", \"showlakes\": true, \"showland\": true, \"subunitcolor\": \"white\"}, \"hoverlabel\": {\"align\": \"left\"}, \"hovermode\": \"closest\", \"mapbox\": {\"style\": \"light\"}, \"paper_bgcolor\": \"white\", \"plot_bgcolor\": \"#E5ECF6\", \"polar\": {\"angularaxis\": {\"gridcolor\": \"white\", \"linecolor\": \"white\", \"ticks\": \"\"}, \"bgcolor\": \"#E5ECF6\", \"radialaxis\": {\"gridcolor\": \"white\", \"linecolor\": \"white\", \"ticks\": \"\"}}, \"scene\": {\"xaxis\": {\"backgroundcolor\": \"#E5ECF6\", \"gridcolor\": \"white\", \"gridwidth\": 2, \"linecolor\": \"white\", \"showbackground\": true, \"ticks\": \"\", \"zerolinecolor\": \"white\"}, \"yaxis\": {\"backgroundcolor\": \"#E5ECF6\", \"gridcolor\": \"white\", \"gridwidth\": 2, \"linecolor\": \"white\", \"showbackground\": true, \"ticks\": \"\", \"zerolinecolor\": \"white\"}, \"zaxis\": {\"backgroundcolor\": \"#E5ECF6\", \"gridcolor\": \"white\", \"gridwidth\": 2, \"linecolor\": \"white\", \"showbackground\": true, \"ticks\": \"\", \"zerolinecolor\": \"white\"}}, \"shapedefaults\": {\"line\": {\"color\": \"#2a3f5f\"}}, \"ternary\": {\"aaxis\": {\"gridcolor\": \"white\", \"linecolor\": \"white\", \"ticks\": \"\"}, \"baxis\": {\"gridcolor\": \"white\", \"linecolor\": \"white\", \"ticks\": \"\"}, \"bgcolor\": \"#E5ECF6\", \"caxis\": {\"gridcolor\": \"white\", \"linecolor\": \"white\", \"ticks\": \"\"}}, \"title\": {\"x\": 0.05}, \"xaxis\": {\"automargin\": true, \"gridcolor\": \"white\", \"linecolor\": \"white\", \"ticks\": \"\", \"title\": {\"standoff\": 15}, \"zerolinecolor\": \"white\", \"zerolinewidth\": 2}, \"yaxis\": {\"automargin\": true, \"gridcolor\": \"white\", \"linecolor\": \"white\", \"ticks\": \"\", \"title\": {\"standoff\": 15}, \"zerolinecolor\": \"white\", \"zerolinewidth\": 2}}}, \"xaxis\": {\"anchor\": \"y\", \"domain\": [0.0, 1.0], \"title\": {\"text\": \"end_date\"}}, \"yaxis\": {\"anchor\": \"x\", \"domain\": [0.0, 1.0], \"title\": {\"text\": \"pct\"}}},                        {\"responsive\": true}                    ).then(function(){\n",
       "                            \n",
       "var gd = document.getElementById('f3e771b6-bb46-438e-ad92-3370c415f45a');\n",
       "var x = new MutationObserver(function (mutations, observer) {{\n",
       "        var display = window.getComputedStyle(gd).display;\n",
       "        if (!display || display === 'none') {{\n",
       "            console.log([gd, 'removed!']);\n",
       "            Plotly.purge(gd);\n",
       "            observer.disconnect();\n",
       "        }}\n",
       "}});\n",
       "\n",
       "// Listen for the removal of the full notebook cells\n",
       "var notebookContainer = gd.closest('#notebook-container');\n",
       "if (notebookContainer) {{\n",
       "    x.observe(notebookContainer, {childList: true});\n",
       "}}\n",
       "\n",
       "// Listen for the clearing of the current output cell\n",
       "var outputEl = gd.closest('.output');\n",
       "if (outputEl) {{\n",
       "    x.observe(outputEl, {childList: true});\n",
       "}}\n",
       "\n",
       "                        })                };                });            </script>        </div>"
      ]
     },
     "metadata": {},
     "output_type": "display_data"
    },
    {
     "ename": "TypeError",
     "evalue": "unsupported operand type(s) for +: 'NoneType' and 'NoneType'",
     "output_type": "error",
     "traceback": [
      "\u001b[1;31m---------------------------------------------------------------------------\u001b[0m",
      "\u001b[1;31mTypeError\u001b[0m                                 Traceback (most recent call last)",
      "\u001b[1;32m<ipython-input-39-4cf65a82d9b4>\u001b[0m in \u001b[0;36m<module>\u001b[1;34m\u001b[0m\n\u001b[1;32m----> 1\u001b[1;33m \u001b[0mjb_tx_scatter\u001b[0m\u001b[1;33m.\u001b[0m\u001b[0mshow\u001b[0m\u001b[1;33m(\u001b[0m\u001b[1;33m)\u001b[0m \u001b[1;33m+\u001b[0m \u001b[0mdjt_tx_scatter\u001b[0m\u001b[1;33m.\u001b[0m\u001b[0mshow\u001b[0m\u001b[1;33m(\u001b[0m\u001b[1;33m)\u001b[0m\u001b[1;33m\u001b[0m\u001b[1;33m\u001b[0m\u001b[0m\n\u001b[0m",
      "\u001b[1;31mTypeError\u001b[0m: unsupported operand type(s) for +: 'NoneType' and 'NoneType'"
     ]
    }
   ],
   "source": [
    "jb_tx_scatter.show() + djt_tx_scatter.show()"
   ]
  },
  {
   "cell_type": "code",
   "execution_count": null,
   "metadata": {},
   "outputs": [],
   "source": []
  }
 ],
 "metadata": {
  "kernelspec": {
   "display_name": "Python [conda env:pyviz] *",
   "language": "python",
   "name": "conda-env-pyviz-py"
  },
  "language_info": {
   "codemirror_mode": {
    "name": "ipython",
    "version": 3
   },
   "file_extension": ".py",
   "mimetype": "text/x-python",
   "name": "python",
   "nbconvert_exporter": "python",
   "pygments_lexer": "ipython3",
   "version": "3.7.9"
  }
 },
 "nbformat": 4,
 "nbformat_minor": 4
}
